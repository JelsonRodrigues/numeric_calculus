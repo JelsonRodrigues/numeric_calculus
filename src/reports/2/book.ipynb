{
 "cells": [
  {
   "cell_type": "code",
   "execution_count": 43,
   "metadata": {},
   "outputs": [],
   "source": [
    "import numpy as np\n",
    "from typing import Tuple\n",
    "from enum import Enum"
   ]
  },
  {
   "cell_type": "code",
   "execution_count": 52,
   "metadata": {},
   "outputs": [],
   "source": [
    "class Pivoting(Enum):\n",
    "  NO_PIVOTING = 0,\n",
    "  PARTIAL_PIVOTING = 1,\n",
    "  FULL_PIVOTING = 2\n",
    "\n",
    "def do_partial_pivoting(A: np.ndarray, b:np.ndarray) -> Tuple[np.ndarray, np.ndarray]:\n",
    "  # find hihest row value\n",
    "  index_highest_values_per_column = np.abs(A).argmax(1)\n",
    "  index_hihest_first_column = index_highest_values_per_column[0]\n",
    "\n",
    "  # Swap rows\n",
    "  A[[0, index_hihest_first_column]] = A[[index_hihest_first_column, 0]]\n",
    "  b[[0, index_hihest_first_column]] = b[[index_hihest_first_column, 0]]\n",
    "\n",
    "  return (A, b)\n",
    "\n",
    "def do_full_pivoting(A : np.ndarray, b:np.ndarray) -> Tuple[np.ndarray, np.ndarray, int]:\n",
    "  # Find the highest value\n",
    "  highest_value = max(A.min(), A.max(), key=abs)\n",
    "  max_value = np.where(A == highest_value)\n",
    "\n",
    "  # Use the first found occurence if there is more than one\n",
    "  index_row_highest_value = max_value[0][0]\n",
    "  index_column_highest_value = max_value[1][0]\n",
    "\n",
    "  # Swap rows\n",
    "  A[[0, index_row_highest_value]] = A[[index_row_highest_value, 0]]\n",
    "  b[[0, index_row_highest_value]] = b[[index_row_highest_value, 0]]\n",
    "\n",
    "  # Swap columns\n",
    "  A[:, [0, index_column_highest_value]] = A[:, [index_column_highest_value, 0]]\n",
    "\n",
    "  return (A, b, index_column_highest_value)"
   ]
  },
  {
   "cell_type": "markdown",
   "metadata": {},
   "source": [
    "# Gaussian Elimination method\n",
    "\n",
    "This method for solving linear systems works by forming a superior triangle matrix "
   ]
  },
  {
   "cell_type": "code",
   "execution_count": 61,
   "metadata": {},
   "outputs": [],
   "source": [
    "def gauss_elimination(A: np.ndarray, b:np.ndarray, pivoting = Pivoting.NO_PIVOTING) -> np.ndarray:\n",
    "  assert len(A) == len(b)\n",
    "  assert A.shape[0] == A.shape[1]\n",
    "  exchanged_columns = []\n",
    "\n",
    "  for index_col in range(len(A)):\n",
    "    match pivoting:\n",
    "      case Pivoting.NO_PIVOTING:\n",
    "        pass\n",
    "      case Pivoting.PARTIAL_PIVOTING:\n",
    "        A[index_col:, index_col:] , b[index_col:] = do_partial_pivoting(A[index_col:, index_col:] , b[index_col:])\n",
    "      case Pivoting.FULL_PIVOTING:\n",
    "        A[index_col:, index_col:], b[index_col:], column_excanged = do_full_pivoting(A[index_col:, index_col:] , b[index_col:])\n",
    "        exchanged_columns.append(column_excanged)\n",
    "        # raise NotImplementedError(\"Not implemented function yet\")\n",
    "      \n",
    "    pivot = A[index_col][index_col]\n",
    "    for index_row_below in range(index_col + 1, len(A)):\n",
    "      ratio = A[index_row_below][index_col] / pivot\n",
    "      \n",
    "      for idx in range(index_col, len(A)):\n",
    "        A[index_row_below][idx] -= A[index_col][idx] * ratio\n",
    "\n",
    "      b[index_row_below] -= b[index_col] * ratio\n",
    "      \n",
    "\n",
    "  result = np.linalg.solve(A, b)\n",
    "  if pivoting == Pivoting.FULL_PIVOTING:\n",
    "    exchanged_columns.reverse()\n",
    "    for index, excahnged in enumerate(exchanged_columns):\n",
    "      result[[index, excahnged]] = result[[index, excahnged]]\n",
    "\n",
    "  return result"
   ]
  },
  {
   "cell_type": "markdown",
   "metadata": {},
   "source": [
    "# Gauss with pivoting"
   ]
  },
  {
   "cell_type": "code",
   "execution_count": 46,
   "metadata": {},
   "outputs": [
    {
     "data": {
      "text/plain": [
       "array([-4.,  1.])"
      ]
     },
     "execution_count": 46,
     "metadata": {},
     "output_type": "execute_result"
    }
   ],
   "source": [
    "A = np.array([[1,-7], [5,2]], dtype=np.float64)\n",
    "b = np.array([-11,-18], dtype=np.float64)\n",
    "# Solution x=-4, y=1\n",
    "gauss_elimination(A,b, Pivoting.PARTIAL_PIVOTING)"
   ]
  },
  {
   "cell_type": "code",
   "execution_count": 57,
   "metadata": {},
   "outputs": [
    {
     "data": {
      "text/plain": [
       "array([-1., -4.,  3.])"
      ]
     },
     "execution_count": 57,
     "metadata": {},
     "output_type": "execute_result"
    }
   ],
   "source": [
    "# 1x + 2y - 2z = -15\n",
    "# 2x + 1y - 5z = -21\n",
    "# 1x - 4y + 1z = +18 \n",
    "# Solution {-1, -4, 3}\n",
    "\n",
    "A = np.array([\n",
    "  [1, 2, -2],\n",
    "  [2, 1, -5],\n",
    "  [1, -4, 1]\n",
    "], dtype=np.float64)\n",
    "\n",
    "b = np.array([-15, -21, 18], dtype=np.float64)\n",
    "\n",
    "gauss_elimination(A, b, Pivoting.FULL_PIVOTING)"
   ]
  },
  {
   "cell_type": "code",
   "execution_count": 62,
   "metadata": {},
   "outputs": [
    {
     "data": {
      "text/plain": [
       "array([-2., -3., 16., -6.])"
      ]
     },
     "execution_count": 62,
     "metadata": {},
     "output_type": "execute_result"
    }
   ],
   "source": [
    "A = np.array([\n",
    "  [1.,    2.,   1., -1.],\n",
    "  [3./2., 1.,   2., 2.],\n",
    "  [4.,    4.,   3., 4.],\n",
    "  [2./5., 0.,  1./5., 1.]\n",
    "], dtype=np.float64)\n",
    "\n",
    "b = np.array([5., 8., 22., 3.], dtype=np.float64)\n",
    "\n",
    "# x = 16\n",
    "# y = -6\n",
    "# z = -2\n",
    "# t = -3\n",
    "\n",
    "gauss_elimination(A, b, Pivoting.FULL_PIVOTING)"
   ]
  }
 ],
 "metadata": {
  "kernelspec": {
   "display_name": "Python 3",
   "language": "python",
   "name": "python3"
  },
  "language_info": {
   "codemirror_mode": {
    "name": "ipython",
    "version": 3
   },
   "file_extension": ".py",
   "mimetype": "text/x-python",
   "name": "python",
   "nbconvert_exporter": "python",
   "pygments_lexer": "ipython3",
   "version": "3.10.12"
  }
 },
 "nbformat": 4,
 "nbformat_minor": 2
}
