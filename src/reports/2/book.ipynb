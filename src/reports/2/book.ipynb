{
 "cells": [
  {
   "cell_type": "code",
   "execution_count": 1,
   "metadata": {},
   "outputs": [],
   "source": [
    "import numpy as np\n",
    "from typing import Tuple, Callable, Protocol\n",
    "from enum import Enum\n",
    "import math\n",
    "import sympy"
   ]
  },
  {
   "cell_type": "code",
   "execution_count": 2,
   "metadata": {},
   "outputs": [],
   "source": [
    "class Pivoting(Enum):\n",
    "  NO_PIVOTING = 0,\n",
    "  PARTIAL_PIVOTING = 1,\n",
    "  FULL_PIVOTING = 2\n",
    "\n",
    "  def generate_permutation_matrices(self, A:np.ndarray[np.ndarray]) -> Tuple[np.ndarray[np.ndarray], np.ndarray[np.ndarray]]:\n",
    "    match self:\n",
    "      case Pivoting.NO_PIVOTING:\n",
    "        return (np.identity(len(A)), np.identity(len(A)))\n",
    "      case Pivoting.PARTIAL_PIVOTING:\n",
    "        return (Pivoting.__generate_partial_pivot_matrix(A), np.identity(len(A)))\n",
    "      case Pivoting.FULL_PIVOTING:\n",
    "        return Pivoting.__generate_full_pivot_matrix(A)\n",
    "\n",
    "\n",
    "  def __generate_partial_pivot_matrix(A:np.ndarray[np.ndarray]) -> np.ndarray[np.ndarray]:\n",
    "    n = len(A)\n",
    "    pivot_matrix = np.identity(n)\n",
    "    for i in range(n):\n",
    "      # Find the highest value in the column\n",
    "      PA = pivot_matrix @ A\n",
    "      index_highest_value = np.abs(PA[i:, i]).argmax() + i\n",
    "      pivot_matrix[[i, index_highest_value]] = pivot_matrix[[index_highest_value, i]]\n",
    "    return pivot_matrix\n",
    "\n",
    "  def __generate_full_pivot_matrix(A:np.ndarray[np.ndarray]) -> Tuple[np.ndarray[np.ndarray], np.ndarray[np.ndarray]]:\n",
    "    n = len(A)\n",
    "    row_permutation_matrix = np.identity(n)\n",
    "    column_permutation_matrix = np.identity(n)\n",
    "    for i in range(n):\n",
    "      PA = row_permutation_matrix @ A @ column_permutation_matrix\n",
    "\n",
    "      highest_absolute_value = np.abs(PA[i:, i:]).max()\n",
    "      max_value = np.where(PA[i:, i:] == highest_absolute_value)\n",
    "\n",
    "      # Use the first found occurence if there is more than one\n",
    "      index_row_highest_value = max_value[0][0]\n",
    "      index_column_highest_value = max_value[1][0]\n",
    "\n",
    "      row_permutation_matrix[[i, index_row_highest_value + i]] = row_permutation_matrix[[index_row_highest_value + i, i]]\n",
    "      column_permutation_matrix[:, [i, index_column_highest_value + i]] = column_permutation_matrix[:, [index_column_highest_value + i, i]]\n",
    "      \n",
    "    return (row_permutation_matrix, column_permutation_matrix)"
   ]
  },
  {
   "cell_type": "markdown",
   "metadata": {},
   "source": [
    "# Gaussian Elimination"
   ]
  },
  {
   "cell_type": "code",
   "execution_count": 3,
   "metadata": {},
   "outputs": [],
   "source": [
    "def gauss_method(A: np.ndarray, b:np.ndarray, pivoting = Pivoting.PARTIAL_PIVOTING) -> np.ndarray:\n",
    "  P_rows, P_columns = pivoting.generate_permutation_matrices(A)\n",
    "\n",
    "  PA = P_rows @ A @ P_columns\n",
    "  Pb = P_rows @ b\n",
    "\n",
    "  for index_col in range(len(A)):\n",
    "    pivot = PA[index_col][index_col]\n",
    "    for index_row_below in range(index_col + 1, len(A)):\n",
    "      ratio = PA[index_row_below][index_col] / pivot\n",
    "      \n",
    "      for idx in range(index_col, len(A)):\n",
    "        PA[index_row_below, idx] -= PA[index_col, idx] * ratio\n",
    "\n",
    "      Pb[index_row_below] -= Pb[index_col] * ratio\n",
    "  \n",
    "  result = np.linalg.solve(PA, Pb)\n",
    "  return P_columns @ result\n"
   ]
  },
  {
   "cell_type": "code",
   "execution_count": 4,
   "metadata": {},
   "outputs": [
    {
     "data": {
      "text/plain": [
       "array([-3.,  5.,  0.])"
      ]
     },
     "execution_count": 4,
     "metadata": {},
     "output_type": "execute_result"
    }
   ],
   "source": [
    "A = np.array([\n",
    "  [3,2,4],\n",
    "  [1,1,2],\n",
    "  [4,3,-2],], \n",
    "dtype=np.float64)\n",
    "b = np.array([1,2,3], np.float64)\n",
    "\n",
    "# {-3, 5, 0}\n",
    "gauss_method(A, b, Pivoting.FULL_PIVOTING)\n"
   ]
  },
  {
   "cell_type": "markdown",
   "metadata": {},
   "source": [
    "# LU Factoring Method"
   ]
  },
  {
   "cell_type": "code",
   "execution_count": 5,
   "metadata": {},
   "outputs": [],
   "source": [
    "def is_possible_to_apply_LU_method(A:np.ndarray) -> bool:\n",
    "  if A.ndim == 2 and A.shape[0] == A.shape[1]: \n",
    "    if A.shape == (0,0):\n",
    "      return True\n",
    "    return np.linalg.det(A) != 0 and is_possible_to_apply_LU_method(A[1:, 1:])\n",
    "  return False\n",
    "\n",
    "# https://jonshiach.github.io/ODEs-book/pages/5.3_LUP_decomposition.html\n",
    "def lu_factoring(A: np.ndarray, b:np.ndarray, pivoting = Pivoting.NO_PIVOTING) -> np.ndarray:\n",
    "  assert len(A) == len(b)\n",
    "  assert A.shape[0] == A.shape[1]\n",
    "  assert is_possible_to_apply_LU_method(A) == True\n",
    "\n",
    "  P_rows, P_columns = pivoting.generate_permutation_matrices(A)\n",
    "\n",
    "  PA = P_rows @ A @ P_columns\n",
    "  Pb = P_rows @ b\n",
    "\n",
    "  upper_matrix = PA\n",
    "  lower_matrix = np.identity(len(A), np.float64)\n",
    "  \n",
    "  for index_col in range(len(upper_matrix)):\n",
    "    pivot = upper_matrix[index_col, index_col] \n",
    "    \n",
    "    for index_row_below in range(index_col + 1, len(upper_matrix)):\n",
    "      ratio = upper_matrix[index_row_below, index_col]/pivot\n",
    "      lower_matrix[index_row_below, index_col] = ratio\n",
    "\n",
    "      for idx in range(index_col, len(A)):\n",
    "        upper_matrix[index_row_below, idx] -= upper_matrix[index_col, idx] * ratio\n",
    "\n",
    "  y = np.linalg.solve(lower_matrix, Pb)\n",
    "  result = np.linalg.solve(upper_matrix, y)\n",
    "  return P_columns @ result"
   ]
  },
  {
   "cell_type": "markdown",
   "metadata": {},
   "source": [
    "# Cholesky method"
   ]
  },
  {
   "cell_type": "code",
   "execution_count": 6,
   "metadata": {},
   "outputs": [],
   "source": [
    "def is_possible_to_apply_Cholesky_method(A:np.ndarray) -> bool:\n",
    "  if A.ndim == 2 and A.shape[0] == A.shape[1]: \n",
    "    if A.shape == (0,0):\n",
    "      return True\n",
    "    return np.linalg.det(A) > 0.0 and np.allclose(A, A.T) and is_possible_to_apply_Cholesky_method(A[1:, 1:])\n",
    "  return False\n",
    "\n",
    "def cholesky_method(A:np.ndarray, b:np.ndarray, pivoting = Pivoting.NO_PIVOTING) -> np.ndarray:\n",
    "  assert len(A) == len(b)\n",
    "  assert A.shape[0] == A.shape[1]\n",
    "  assert is_possible_to_apply_Cholesky_method(A) == True\n",
    "\n",
    "  P_rows, P_columns = pivoting.generate_permutation_matrices(A)\n",
    "\n",
    "  PA = P_rows @ A @ P_columns\n",
    "  Pb = P_rows @ b\n",
    "\n",
    "  G = np.zeros(A.shape)\n",
    "\n",
    "  for i in range(len(A)):\n",
    "    for j in range(i + 1):\n",
    "      sum = 0\n",
    "      for k in range(j):\n",
    "        sum += G[i][k] * G[j][k]\n",
    "      \n",
    "      if i == j:\n",
    "        G[i][j] = math.sqrt(PA[i][i] - sum)\n",
    "      else:\n",
    "        G[i][j] = (PA[i][j] - sum) / G[j][j]\n",
    "\n",
    "  G_transpose = G.T\n",
    "  y = np.linalg.solve(G, Pb)\n",
    "  x = np.linalg.solve(G_transpose, y)\n",
    "  return P_columns @ x"
   ]
  },
  {
   "cell_type": "markdown",
   "metadata": {},
   "source": [
    "# Gauss Jacobi"
   ]
  },
  {
   "cell_type": "code",
   "execution_count": 7,
   "metadata": {},
   "outputs": [],
   "source": [
    "def is_possible_to_apply_Jacobi_method(A:np.ndarray) -> bool:\n",
    "  if A.ndim == 2 and A.shape[0] == A.shape[1]: \n",
    "    spectral_radius_less_than_one = all(map(lambda x: abs(x) < 1.0, np.linalg.eigvals(A)))\n",
    "    \n",
    "    rows_criteria = all(map(lambda x: A[x, :].sum() - A[x, x] < A[x, x], range(len(A))))\n",
    "    columns_criteria = all(map(lambda x: A[:, x].sum() - A[x, x] < A[x, x], range(len(A))))\n",
    "\n",
    "    diagonally_dominant = rows_criteria or columns_criteria\n",
    "\n",
    "    return spectral_radius_less_than_one or diagonally_dominant\n",
    "  return False\n",
    "\n",
    "def jacobi_method(A:np.ndarray, b:np.ndarray, x:np.ndarray, iterations: int = 10, epsilon : float = 0.0) -> np.ndarray:\n",
    "  assert is_possible_to_apply_Jacobi_method(A) == True\n",
    "\n",
    "  for _ in range(iterations):\n",
    "    # Diagonal matrix\n",
    "    D = np.diag(np.diag(A))\n",
    "    \n",
    "    # construct a diagonal matrix where each position is 1/(diagonal element of A)\n",
    "    D_inv = np.linalg.inv(D)\n",
    "\n",
    "    new_x = D_inv @ (b - ((A - D) @ x))\n",
    "\n",
    "    if np.abs(new_x - x).max() / np.abs(new_x).max() < epsilon:\n",
    "      break\n",
    "\n",
    "    x = new_x\n",
    "\n",
    "  return x"
   ]
  },
  {
   "cell_type": "markdown",
   "metadata": {},
   "source": [
    "# Gaus Seidel"
   ]
  },
  {
   "cell_type": "code",
   "execution_count": 35,
   "metadata": {},
   "outputs": [],
   "source": [
    "def is_possible_to_apply_Seidel_method(A:np.ndarray) -> bool:\n",
    "  return is_possible_to_apply_Jacobi_method(A) and meet_sassenfeld_criterion(A)\n",
    "\n",
    "def meet_sassenfeld_criterion(A:np.ndarray) -> bool:\n",
    "  n = len(A)\n",
    "  beta = np.ones(n)\n",
    "  A_abs = np.abs(A)\n",
    "  for i in range(n):\n",
    "    beta[i] = 0.0\n",
    "    beta[i] = (A_abs[i, :] @ beta) / A_abs[i, i]\n",
    "\n",
    "  return all(map(lambda x: x < 1.0, beta))\n",
    "\n",
    "def seidel_method(A:np.ndarray, b: np.ndarray, x: np.ndarray, iterations : int = 10, epsilon : float = 0.0) -> np.ndarray:\n",
    "  assert is_possible_to_apply_Seidel_method(A) == True\n",
    "\n",
    "  for _ in range(iterations):\n",
    "    old_x = x.copy()\n",
    "    for i in range(len(A)):\n",
    "      x[i] = (b[i] - np.dot(A[i, :i], x[:i]) - np.dot(A[i, i + 1:], x[i + 1:])) / A[i, i]\n",
    "\n",
    "    if np.abs(x - old_x).max() / np.abs(x).max() < epsilon:\n",
    "      break\n",
    "\n",
    "  return x"
   ]
  },
  {
   "cell_type": "code",
   "execution_count": 36,
   "metadata": {},
   "outputs": [
    {
     "data": {
      "text/plain": [
       "True"
      ]
     },
     "execution_count": 36,
     "metadata": {},
     "output_type": "execute_result"
    }
   ],
   "source": [
    "A = np.array([\n",
    "  [2.0, 1.0, -0.2, 0.2],\n",
    "  [0.6, 3.5, -0.6, -0.7],\n",
    "  [-0.1, -0.2, 1.0, 0.2],\n",
    "  [1.0, 1.2, 0.2, 4.0]], dtype=np.float64)\n",
    "\n",
    "meet_sassenfeld_criterion(A)"
   ]
  },
  {
   "cell_type": "markdown",
   "metadata": {},
   "source": [
    "# Newton's Method"
   ]
  },
  {
   "cell_type": "code",
   "execution_count": 10,
   "metadata": {},
   "outputs": [],
   "source": [
    "def is_possible_to_apply_Newton_method(A:np.ndarray) -> bool:\n",
    "  pass\n",
    "\n",
    "def generate_jacobi_function(functions: np.ndarray[sympy.core.Expr], vars : np.ndarray[sympy.Symbol]) -> Callable[[np.ndarray], np.ndarray]:\n",
    "  jacobi_matrix = [[sympy.diff(f, var) for var in vars] for f in functions]\n",
    "  def jacobi_function(x:np.ndarray) -> np.ndarray:\n",
    "    return np.array([[f.subs(list(zip(vars, x))) for f in row ] for row in jacobi_matrix], dtype=np.float64)\n",
    "  return jacobi_function\n",
    "\n",
    "def generate_F_function(functions: np.ndarray[sympy.core.Expr], vars : np.ndarray[sympy.Symbol]) -> Callable[[np.ndarray], np.ndarray]:\n",
    "  def F_function(x:np.ndarray) -> np.ndarray:\n",
    "    return np.array([f.subs(list(zip(vars, x))) for f in functions], dtype=np.float64)\n",
    "  return F_function\n",
    "\n",
    "def newton_method(F: Callable[[np.ndarray], np.ndarray], J: Callable[[np.ndarray], np.ndarray], x:np.ndarray, iterations: int = 10) -> np.ndarray:\n",
    "  for _ in range(iterations):\n",
    "    s = gauss_method(J(x), -F(x))\n",
    "    x = x + s\n",
    "  return x\n"
   ]
  },
  {
   "cell_type": "code",
   "execution_count": 11,
   "metadata": {},
   "outputs": [
    {
     "data": {
      "text/plain": [
       "[[2*x, cos(y)], [2, 1/(2*sqrt(y))]]"
      ]
     },
     "execution_count": 11,
     "metadata": {},
     "output_type": "execute_result"
    }
   ],
   "source": [
    "x, y = sympy.symbols('x,y')\n",
    "\n",
    "f1 = x**2 + sympy.sin(y) - 3\n",
    "f2 = 2*x + sympy.sqrt(y)\n",
    "\n",
    "funcs = np.array([f1, f2])\n",
    "vars = np.array([x, y])\n",
    "\n",
    "jacobi = [[sympy.diff(func, var) for var in vars] for func in funcs]\n",
    "\n",
    "jacobi\n",
    "#F = np.ndarray"
   ]
  },
  {
   "cell_type": "code",
   "execution_count": 12,
   "metadata": {},
   "outputs": [
    {
     "data": {
      "text/plain": [
       "array([ 1.93177027, -0.51822368])"
      ]
     },
     "execution_count": 12,
     "metadata": {},
     "output_type": "execute_result"
    }
   ],
   "source": [
    "x, x_2 = sympy.symbols('x,x_2')\n",
    "\n",
    "f1 = 4.*x - x**3. + x_2\n",
    "f2 = (-x**2.)/9. + (4.*x_2 - x_2**2.)/4. + 1.\n",
    "\n",
    "funcs = np.array([f1, f2])\n",
    "vars = np.array([x, x_2])\n",
    "\n",
    "initial_guess = np.array([-1.0, -2.0])\n",
    "\n",
    "newton_method(generate_F_function(funcs, vars), generate_jacobi_function(funcs, vars), initial_guess)\n"
   ]
  },
  {
   "cell_type": "code",
   "execution_count": 13,
   "metadata": {},
   "outputs": [
    {
     "data": {
      "text/plain": [
       "array([ 1.99755859, -1.        ])"
      ]
     },
     "execution_count": 13,
     "metadata": {},
     "output_type": "execute_result"
    }
   ],
   "source": [
    "x,y = sympy.symbols('x,y')\n",
    "\n",
    "f1 = (x-2)**2 + (y+3)**2 - 4\n",
    "f2 = y + 1\n",
    "\n",
    "funcs = np.array([f1, f2])\n",
    "vars = np.array([x, y])\n",
    "F = generate_F_function(funcs, vars)\n",
    "J = generate_jacobi_function(funcs, vars)\n",
    "\n",
    "initial_guess = np.array([0.0, 0.0])\n",
    "\n",
    "newton_method(F, J, initial_guess)"
   ]
  },
  {
   "cell_type": "markdown",
   "metadata": {},
   "source": [
    "# Gauss with pivoting"
   ]
  },
  {
   "cell_type": "code",
   "execution_count": 14,
   "metadata": {},
   "outputs": [
    {
     "data": {
      "text/plain": [
       "array([-4.,  1.])"
      ]
     },
     "execution_count": 14,
     "metadata": {},
     "output_type": "execute_result"
    }
   ],
   "source": [
    "A = np.array([[1,-7], [5,2]], dtype=np.float64)\n",
    "b = np.array([-11,-18], dtype=np.float64)\n",
    "# Solution x=-4, y=1\n",
    "gauss_method(A,b, Pivoting.PARTIAL_PIVOTING)\n"
   ]
  },
  {
   "cell_type": "code",
   "execution_count": 15,
   "metadata": {},
   "outputs": [
    {
     "data": {
      "text/plain": [
       "array([-3.,  5.,  0.])"
      ]
     },
     "execution_count": 15,
     "metadata": {},
     "output_type": "execute_result"
    }
   ],
   "source": [
    "A = np.array([\n",
    "  [3,2,4],\n",
    "  [1,1,2],\n",
    "  [4,3,-2],], \n",
    "dtype=np.float64)\n",
    "b = np.array([1,2,3], np.float64)\n",
    "\n",
    "# {-3, 5, 0}\n",
    "lu_factoring(A, b, Pivoting.FULL_PIVOTING)"
   ]
  },
  {
   "cell_type": "code",
   "execution_count": 16,
   "metadata": {},
   "outputs": [
    {
     "ename": "IndexError",
     "evalue": "index 0 is out of bounds for axis 0 with size 0",
     "output_type": "error",
     "traceback": [
      "\u001b[1;31m---------------------------------------------------------------------------\u001b[0m",
      "\u001b[1;31mIndexError\u001b[0m                                Traceback (most recent call last)",
      "Cell \u001b[1;32mIn[16], line 14\u001b[0m\n\u001b[0;32m      6\u001b[0m A \u001b[38;5;241m=\u001b[39m np\u001b[38;5;241m.\u001b[39marray([\n\u001b[0;32m      7\u001b[0m   [\u001b[38;5;241m1\u001b[39m, \u001b[38;5;241m2\u001b[39m, \u001b[38;5;241m-\u001b[39m\u001b[38;5;241m2\u001b[39m],\n\u001b[0;32m      8\u001b[0m   [\u001b[38;5;241m2\u001b[39m, \u001b[38;5;241m1\u001b[39m, \u001b[38;5;241m-\u001b[39m\u001b[38;5;241m5\u001b[39m],\n\u001b[0;32m      9\u001b[0m   [\u001b[38;5;241m1\u001b[39m, \u001b[38;5;241m-\u001b[39m\u001b[38;5;241m4\u001b[39m, \u001b[38;5;241m1\u001b[39m]\n\u001b[0;32m     10\u001b[0m ], dtype\u001b[38;5;241m=\u001b[39mnp\u001b[38;5;241m.\u001b[39mfloat64)\n\u001b[0;32m     12\u001b[0m b \u001b[38;5;241m=\u001b[39m np\u001b[38;5;241m.\u001b[39marray([\u001b[38;5;241m-\u001b[39m\u001b[38;5;241m15\u001b[39m, \u001b[38;5;241m-\u001b[39m\u001b[38;5;241m21\u001b[39m, \u001b[38;5;241m18\u001b[39m], dtype\u001b[38;5;241m=\u001b[39mnp\u001b[38;5;241m.\u001b[39mfloat64)\n\u001b[1;32m---> 14\u001b[0m \u001b[43mgauss_method\u001b[49m\u001b[43m(\u001b[49m\u001b[43mA\u001b[49m\u001b[43m,\u001b[49m\u001b[43m \u001b[49m\u001b[43mb\u001b[49m\u001b[43m,\u001b[49m\u001b[43m \u001b[49m\u001b[43mPivoting\u001b[49m\u001b[38;5;241;43m.\u001b[39;49m\u001b[43mFULL_PIVOTING\u001b[49m\u001b[43m)\u001b[49m\n",
      "Cell \u001b[1;32mIn[3], line 2\u001b[0m, in \u001b[0;36mgauss_method\u001b[1;34m(A, b, pivoting)\u001b[0m\n\u001b[0;32m      1\u001b[0m \u001b[38;5;28;01mdef\u001b[39;00m \u001b[38;5;21mgauss_method\u001b[39m(A: np\u001b[38;5;241m.\u001b[39mndarray, b:np\u001b[38;5;241m.\u001b[39mndarray, pivoting \u001b[38;5;241m=\u001b[39m Pivoting\u001b[38;5;241m.\u001b[39mPARTIAL_PIVOTING) \u001b[38;5;241m-\u001b[39m\u001b[38;5;241m>\u001b[39m np\u001b[38;5;241m.\u001b[39mndarray:\n\u001b[1;32m----> 2\u001b[0m   P_rows, P_columns \u001b[38;5;241m=\u001b[39m \u001b[43mpivoting\u001b[49m\u001b[38;5;241;43m.\u001b[39;49m\u001b[43mgenerate_permutation_matrices\u001b[49m\u001b[43m(\u001b[49m\u001b[43mA\u001b[49m\u001b[43m)\u001b[49m\n\u001b[0;32m      4\u001b[0m   PA \u001b[38;5;241m=\u001b[39m P_rows \u001b[38;5;241m@\u001b[39m A \u001b[38;5;241m@\u001b[39m P_columns\n\u001b[0;32m      5\u001b[0m   Pb \u001b[38;5;241m=\u001b[39m P_rows \u001b[38;5;241m@\u001b[39m b\n",
      "Cell \u001b[1;32mIn[2], line 13\u001b[0m, in \u001b[0;36mPivoting.generate_permutation_matrices\u001b[1;34m(self, A)\u001b[0m\n\u001b[0;32m     11\u001b[0m   \u001b[38;5;28;01mreturn\u001b[39;00m (Pivoting\u001b[38;5;241m.\u001b[39m__generate_partial_pivot_matrix(A), np\u001b[38;5;241m.\u001b[39midentity(\u001b[38;5;28mlen\u001b[39m(A)))\n\u001b[0;32m     12\u001b[0m \u001b[38;5;28;01mcase\u001b[39;00m Pivoting\u001b[38;5;241m.\u001b[39mFULL_PIVOTING:\n\u001b[1;32m---> 13\u001b[0m   \u001b[38;5;28;01mreturn\u001b[39;00m \u001b[43mPivoting\u001b[49m\u001b[38;5;241;43m.\u001b[39;49m\u001b[43m__generate_full_pivot_matrix\u001b[49m\u001b[43m(\u001b[49m\u001b[43mA\u001b[49m\u001b[43m)\u001b[49m\n",
      "Cell \u001b[1;32mIn[2], line 37\u001b[0m, in \u001b[0;36mPivoting.__generate_full_pivot_matrix\u001b[1;34m(A)\u001b[0m\n\u001b[0;32m     34\u001b[0m max_value \u001b[38;5;241m=\u001b[39m np\u001b[38;5;241m.\u001b[39mwhere(PA[i:, i:] \u001b[38;5;241m==\u001b[39m highest_absolute_value)\n\u001b[0;32m     36\u001b[0m \u001b[38;5;66;03m# Use the first found occurence if there is more than one\u001b[39;00m\n\u001b[1;32m---> 37\u001b[0m index_row_highest_value \u001b[38;5;241m=\u001b[39m \u001b[43mmax_value\u001b[49m\u001b[43m[\u001b[49m\u001b[38;5;241;43m0\u001b[39;49m\u001b[43m]\u001b[49m\u001b[43m[\u001b[49m\u001b[38;5;241;43m0\u001b[39;49m\u001b[43m]\u001b[49m\n\u001b[0;32m     38\u001b[0m index_column_highest_value \u001b[38;5;241m=\u001b[39m max_value[\u001b[38;5;241m1\u001b[39m][\u001b[38;5;241m0\u001b[39m]\n\u001b[0;32m     40\u001b[0m row_permutation_matrix[[i, index_row_highest_value \u001b[38;5;241m+\u001b[39m i]] \u001b[38;5;241m=\u001b[39m row_permutation_matrix[[index_row_highest_value \u001b[38;5;241m+\u001b[39m i, i]]\n",
      "\u001b[1;31mIndexError\u001b[0m: index 0 is out of bounds for axis 0 with size 0"
     ]
    }
   ],
   "source": [
    "# 1x + 2y - 2z = -15\n",
    "# 2x + 1y - 5z = -21\n",
    "# 1x - 4y + 1z = +18 \n",
    "# Solution {-1, -4, 3}\n",
    "\n",
    "A = np.array([\n",
    "  [1, 2, -2],\n",
    "  [2, 1, -5],\n",
    "  [1, -4, 1]\n",
    "], dtype=np.float64)\n",
    "\n",
    "b = np.array([-15, -21, 18], dtype=np.float64)\n",
    "\n",
    "gauss_method(A, b, Pivoting.FULL_PIVOTING)"
   ]
  },
  {
   "cell_type": "code",
   "execution_count": null,
   "metadata": {},
   "outputs": [
    {
     "data": {
      "text/plain": [
       "array([16., -6., -2., -3.])"
      ]
     },
     "execution_count": 122,
     "metadata": {},
     "output_type": "execute_result"
    }
   ],
   "source": [
    "A = np.array([\n",
    "  [1.,    2.,     1., -1.],\n",
    "  [3./2., 1.,     2., 2.],\n",
    "  [4.,    4.,     3., 4.],\n",
    "  [2./5., 0.,  1./5., 1.]\n",
    "], dtype=np.float64)\n",
    "\n",
    "b = np.array([5., 8., 22., 3.], dtype=np.float64)\n",
    "\n",
    "# x = 16\n",
    "# y = -6\n",
    "# z = -2\n",
    "# t = -3\n",
    "\n",
    "gauss_method(A, b, Pivoting.FULL_PIVOTING)"
   ]
  },
  {
   "cell_type": "code",
   "execution_count": null,
   "metadata": {},
   "outputs": [
    {
     "data": {
      "text/plain": [
       "array([1., 1., 2.])"
      ]
     },
     "execution_count": 163,
     "metadata": {},
     "output_type": "execute_result"
    }
   ],
   "source": [
    "A = np.array([\n",
    "  [1.,  1.,  0.],\n",
    "  [1.,  2., -1.],\n",
    "  [0., -1.,  3.],\n",
    "], dtype=np.float64)\n",
    "\n",
    "b = np.array([2., 1., 5.], dtype=np.float64)\n",
    "\n",
    "# x = 1\n",
    "# y = 1\n",
    "# z = 2\n",
    "\n",
    "cholesky_method(A, b, Pivoting.FULL_PIVOTING)"
   ]
  },
  {
   "cell_type": "code",
   "execution_count": null,
   "metadata": {},
   "outputs": [
    {
     "data": {
      "text/plain": [
       "array([1.0000000e+00, 8.8817842e-16, 1.0000000e+00])"
      ]
     },
     "execution_count": 142,
     "metadata": {},
     "output_type": "execute_result"
    }
   ],
   "source": [
    "A = np.array([\n",
    "  [4.,  2.,  -4.],\n",
    "  [2.,  10., 4.],\n",
    "  [-4., 4.,  9.],\n",
    "], dtype=np.float64)\n",
    "\n",
    "b = np.array([0., 6., 5.], dtype=np.float64)\n",
    "\n",
    "# x = 1\n",
    "# y = 0\n",
    "# z = 1\n",
    "\n",
    "# cholesky_method(A, b)\n",
    "lu_factoring(A, b, Pivoting.FULL_PIVOTING)"
   ]
  },
  {
   "cell_type": "code",
   "execution_count": null,
   "metadata": {},
   "outputs": [
    {
     "data": {
      "text/plain": [
       "array([0.63911074, 0.18195205, 0.74674592])"
      ]
     },
     "execution_count": 20,
     "metadata": {},
     "output_type": "execute_result"
    }
   ],
   "source": [
    "A = np.array([\n",
    "  [4.,  2.,  -4.],\n",
    "  [2.,  10., 4.],\n",
    "  [-4., 4.,  9.],\n",
    "], dtype=np.float64)\n",
    "\n",
    "b = np.array([0., 6., 5.], dtype=np.float64)\n",
    "\n",
    "jacobi_method(A, b, np.array([0., 0., 0.]), 20)"
   ]
  },
  {
   "cell_type": "code",
   "execution_count": null,
   "metadata": {},
   "outputs": [
    {
     "ename": "ValueError",
     "evalue": "setting an array element with a sequence.",
     "output_type": "error",
     "traceback": [
      "\u001b[1;31m---------------------------------------------------------------------------\u001b[0m",
      "\u001b[1;31mTypeError\u001b[0m                                 Traceback (most recent call last)",
      "\u001b[1;31mTypeError\u001b[0m: only length-1 arrays can be converted to Python scalars",
      "\nThe above exception was the direct cause of the following exception:\n",
      "\u001b[1;31mValueError\u001b[0m                                Traceback (most recent call last)",
      "Cell \u001b[1;32mIn[177], line 9\u001b[0m\n\u001b[0;32m      1\u001b[0m A \u001b[38;5;241m=\u001b[39m np\u001b[38;5;241m.\u001b[39marray([\n\u001b[0;32m      2\u001b[0m   [\u001b[38;5;241m4.\u001b[39m,  \u001b[38;5;241m2.\u001b[39m,  \u001b[38;5;241m-\u001b[39m\u001b[38;5;241m4.\u001b[39m],\n\u001b[0;32m      3\u001b[0m   [\u001b[38;5;241m2.\u001b[39m,  \u001b[38;5;241m10.\u001b[39m, \u001b[38;5;241m4.\u001b[39m],\n\u001b[0;32m      4\u001b[0m   [\u001b[38;5;241m-\u001b[39m\u001b[38;5;241m4.\u001b[39m, \u001b[38;5;241m4.\u001b[39m,  \u001b[38;5;241m9.\u001b[39m],\n\u001b[0;32m      5\u001b[0m ], dtype\u001b[38;5;241m=\u001b[39mnp\u001b[38;5;241m.\u001b[39mfloat64)\n\u001b[0;32m      7\u001b[0m b \u001b[38;5;241m=\u001b[39m np\u001b[38;5;241m.\u001b[39marray([\u001b[38;5;241m0.\u001b[39m, \u001b[38;5;241m6.\u001b[39m, \u001b[38;5;241m5.\u001b[39m], dtype\u001b[38;5;241m=\u001b[39mnp\u001b[38;5;241m.\u001b[39mfloat64)\n\u001b[1;32m----> 9\u001b[0m \u001b[43mseidel_method\u001b[49m\u001b[43m(\u001b[49m\u001b[43mA\u001b[49m\u001b[43m,\u001b[49m\u001b[43m \u001b[49m\u001b[43mb\u001b[49m\u001b[43m,\u001b[49m\u001b[43m \u001b[49m\u001b[43mnp\u001b[49m\u001b[38;5;241;43m.\u001b[39;49m\u001b[43marray\u001b[49m\u001b[43m(\u001b[49m\u001b[43m[\u001b[49m\u001b[38;5;241;43m0.\u001b[39;49m\u001b[43m,\u001b[49m\u001b[43m \u001b[49m\u001b[38;5;241;43m0.\u001b[39;49m\u001b[43m,\u001b[49m\u001b[43m \u001b[49m\u001b[38;5;241;43m0.\u001b[39;49m\u001b[43m]\u001b[49m\u001b[43m)\u001b[49m\u001b[43m,\u001b[49m\u001b[43m \u001b[49m\u001b[38;5;241;43m20\u001b[39;49m\u001b[43m)\u001b[49m\n",
      "Cell \u001b[1;32mIn[175], line 23\u001b[0m, in \u001b[0;36mseidel_method\u001b[1;34m(A, b, x, iterations, epsilon)\u001b[0m\n\u001b[0;32m     22\u001b[0m \u001b[38;5;28;01mdef\u001b[39;00m \u001b[38;5;21mseidel_method\u001b[39m(A:np\u001b[38;5;241m.\u001b[39mndarray, b: np\u001b[38;5;241m.\u001b[39mndarray, x: np\u001b[38;5;241m.\u001b[39mndarray, iterations : \u001b[38;5;28mint\u001b[39m \u001b[38;5;241m=\u001b[39m \u001b[38;5;241m10\u001b[39m, epsilon : \u001b[38;5;28mfloat\u001b[39m \u001b[38;5;241m=\u001b[39m \u001b[38;5;241m0.0\u001b[39m) \u001b[38;5;241m-\u001b[39m\u001b[38;5;241m>\u001b[39m np\u001b[38;5;241m.\u001b[39mndarray:\n\u001b[1;32m---> 23\u001b[0m   \u001b[38;5;28;01massert\u001b[39;00m \u001b[43mis_possible_to_apply_Seidel_method\u001b[49m\u001b[43m(\u001b[49m\u001b[43mA\u001b[49m\u001b[43m)\u001b[49m \u001b[38;5;241m==\u001b[39m \u001b[38;5;28;01mTrue\u001b[39;00m\n\u001b[0;32m     25\u001b[0m   \u001b[38;5;28;01mfor\u001b[39;00m _ \u001b[38;5;129;01min\u001b[39;00m \u001b[38;5;28mrange\u001b[39m(iterations):\n\u001b[0;32m     26\u001b[0m     old_x \u001b[38;5;241m=\u001b[39m x\u001b[38;5;241m.\u001b[39mcopy()\n",
      "Cell \u001b[1;32mIn[175], line 2\u001b[0m, in \u001b[0;36mis_possible_to_apply_Seidel_method\u001b[1;34m(A)\u001b[0m\n\u001b[0;32m      1\u001b[0m \u001b[38;5;28;01mdef\u001b[39;00m \u001b[38;5;21mis_possible_to_apply_Seidel_method\u001b[39m(A:np\u001b[38;5;241m.\u001b[39mndarray) \u001b[38;5;241m-\u001b[39m\u001b[38;5;241m>\u001b[39m \u001b[38;5;28mbool\u001b[39m:\n\u001b[1;32m----> 2\u001b[0m   \u001b[38;5;28;01mreturn\u001b[39;00m is_possible_to_apply_Jacobi_method(A) \u001b[38;5;129;01mand\u001b[39;00m \u001b[43mmeet_sassenfeld_criterion\u001b[49m\u001b[43m(\u001b[49m\u001b[43mA\u001b[49m\u001b[43m)\u001b[49m\n",
      "Cell \u001b[1;32mIn[175], line 10\u001b[0m, in \u001b[0;36mmeet_sassenfeld_criterion\u001b[1;34m(A)\u001b[0m\n\u001b[0;32m      6\u001b[0m beta \u001b[38;5;241m=\u001b[39m np\u001b[38;5;241m.\u001b[39mzeros(n)\n\u001b[0;32m      7\u001b[0m \u001b[38;5;28;01mfor\u001b[39;00m i \u001b[38;5;129;01min\u001b[39;00m \u001b[38;5;28mrange\u001b[39m(n):\n\u001b[0;32m      8\u001b[0m   \u001b[38;5;66;03m# beta[i] = A[i, :i] @ beta[:i] + A[i, i + 1:] @ beta[i + 1:] / A[i, i]\u001b[39;00m\n\u001b[1;32m---> 10\u001b[0m   \u001b[43mbeta\u001b[49m\u001b[43m[\u001b[49m\u001b[43mi\u001b[49m\u001b[43m]\u001b[49m \u001b[38;5;241m=\u001b[39m ((np\u001b[38;5;241m.\u001b[39mabs(A[i, :i]) \u001b[38;5;241m@\u001b[39m beta[:i]) \u001b[38;5;241m/\u001b[39m np\u001b[38;5;241m.\u001b[39mabs(A[i, i])) \u001b[38;5;241m+\u001b[39m (np\u001b[38;5;241m.\u001b[39mabs(A[i, i \u001b[38;5;241m+\u001b[39m \u001b[38;5;241m1\u001b[39m:]) \u001b[38;5;241m/\u001b[39m np\u001b[38;5;241m.\u001b[39mabs(A[i, i]))\n\u001b[0;32m     12\u001b[0m   \u001b[38;5;66;03m# for j in range(i):\u001b[39;00m\n\u001b[0;32m     13\u001b[0m   \u001b[38;5;66;03m#   beta[i] += A[i, j] * beta[j]\u001b[39;00m\n\u001b[0;32m     14\u001b[0m   \n\u001b[1;32m   (...)\u001b[0m\n\u001b[0;32m     17\u001b[0m \n\u001b[0;32m     18\u001b[0m   \u001b[38;5;66;03m# beta[i] /= A[i, i]\u001b[39;00m\n\u001b[0;32m     20\u001b[0m \u001b[38;5;28;01mreturn\u001b[39;00m \u001b[38;5;28mall\u001b[39m(\u001b[38;5;28mmap\u001b[39m(\u001b[38;5;28;01mlambda\u001b[39;00m x: x \u001b[38;5;241m<\u001b[39m \u001b[38;5;241m1.0\u001b[39m, beta))\n",
      "\u001b[1;31mValueError\u001b[0m: setting an array element with a sequence."
     ]
    }
   ],
   "source": [
    "A = np.array([\n",
    "  [4.,  2.,  -4.],\n",
    "  [2.,  10., 4.],\n",
    "  [-4., 4.,  9.],\n",
    "], dtype=np.float64)\n",
    "\n",
    "b = np.array([0., 6., 5.], dtype=np.float64)\n",
    "\n",
    "seidel_method(A, b, np.array([0., 0., 0.]), 20)"
   ]
  }
 ],
 "metadata": {
  "kernelspec": {
   "display_name": "Python 3",
   "language": "python",
   "name": "python3"
  },
  "language_info": {
   "codemirror_mode": {
    "name": "ipython",
    "version": 3
   },
   "file_extension": ".py",
   "mimetype": "text/x-python",
   "name": "python",
   "nbconvert_exporter": "python",
   "pygments_lexer": "ipython3",
   "version": "3.12.4"
  }
 },
 "nbformat": 4,
 "nbformat_minor": 2
}
