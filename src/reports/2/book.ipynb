{
 "cells": [
  {
   "cell_type": "code",
   "execution_count": 5,
   "metadata": {},
   "outputs": [],
   "source": [
    "import numpy as np\n",
    "from typing import Tuple, Callable, Protocol\n",
    "from enum import Enum\n",
    "import math\n",
    "import sympy"
   ]
  },
  {
   "cell_type": "code",
   "execution_count": 164,
   "metadata": {},
   "outputs": [],
   "source": [
    "class Pivoting(Enum):\n",
    "  NO_PIVOTING = 0,\n",
    "  PARTIAL_PIVOTING = 1,\n",
    "  FULL_PIVOTING = 2\n",
    "\n",
    "  def generate_permutation_matrices(self, A:np.ndarray[np.ndarray]) -> Tuple[np.ndarray[np.ndarray], np.ndarray[np.ndarray]]:\n",
    "    match self:\n",
    "      case Pivoting.NO_PIVOTING:\n",
    "        return (np.identity(len(A)), np.identity(len(A)))\n",
    "      case Pivoting.PARTIAL_PIVOTING:\n",
    "        return (Pivoting.__generate_partial_pivot_matrix(A), np.identity(len(A)))\n",
    "      case Pivoting.FULL_PIVOTING:\n",
    "        return Pivoting.__generate_full_pivot_matrix(A)\n",
    "\n",
    "\n",
    "  def __generate_partial_pivot_matrix(A:np.ndarray[np.ndarray]) -> np.ndarray[np.ndarray]:\n",
    "    n = len(A)\n",
    "    pivot_matrix = np.identity(n)\n",
    "    for i in range(n):\n",
    "      # Find the highest value in the column\n",
    "      PA = pivot_matrix @ A\n",
    "      index_highest_value = np.abs(PA[i:, i]).argmax() + i\n",
    "      pivot_matrix[[i, index_highest_value]] = pivot_matrix[[index_highest_value, i]]\n",
    "    return pivot_matrix\n",
    "\n",
    "  def __generate_full_pivot_matrix(A:np.ndarray[np.ndarray]) -> Tuple[np.ndarray[np.ndarray], np.ndarray[np.ndarray]]:\n",
    "    n = len(A)\n",
    "    row_permutation_matrix = np.identity(n)\n",
    "    column_permutation_matrix = np.identity(n)\n",
    "    for i in range(n):\n",
    "      PA = row_permutation_matrix @ A @ column_permutation_matrix\n",
    "\n",
    "      highest_value = max(PA[i:, i:].min(), PA[i:, i:].max(), key=abs)\n",
    "      max_value = np.where(PA[i:, i:] == highest_value)\n",
    "\n",
    "      # Use the first found occurence if there is more than one\n",
    "      index_row_highest_value = max_value[0][0]\n",
    "      index_column_highest_value = max_value[1][0]\n",
    "\n",
    "      row_permutation_matrix[[i, index_row_highest_value + i]] = row_permutation_matrix[[index_row_highest_value + i, i]]\n",
    "      column_permutation_matrix[:, [i, index_column_highest_value + i]] = column_permutation_matrix[:, [index_column_highest_value + i, i]]\n",
    "      \n",
    "    return (row_permutation_matrix, column_permutation_matrix)"
   ]
  },
  {
   "cell_type": "markdown",
   "metadata": {},
   "source": [
    "# Gaussian Elimination"
   ]
  },
  {
   "cell_type": "code",
   "execution_count": 152,
   "metadata": {},
   "outputs": [],
   "source": [
    "def gauss_method(A: np.ndarray, b:np.ndarray, pivoting = Pivoting.PARTIAL_PIVOTING) -> np.ndarray:\n",
    "  P_rows, P_columns = pivoting.generate_permutation_matrices(A)\n",
    "\n",
    "  PA = P_rows @ A @ P_columns\n",
    "  Pb = P_rows @ b\n",
    "\n",
    "  for index_col in range(len(A)):\n",
    "    pivot = PA[index_col][index_col]\n",
    "    for index_row_below in range(index_col + 1, len(A)):\n",
    "      ratio = PA[index_row_below][index_col] / pivot\n",
    "      \n",
    "      for idx in range(index_col, len(A)):\n",
    "        PA[index_row_below, idx] -= PA[index_col, idx] * ratio\n",
    "\n",
    "      Pb[index_row_below] -= Pb[index_col] * ratio\n",
    "  \n",
    "  result = np.linalg.solve(PA, Pb)\n",
    "  return P_columns @ result\n"
   ]
  },
  {
   "cell_type": "code",
   "execution_count": 166,
   "metadata": {},
   "outputs": [
    {
     "data": {
      "text/plain": [
       "array([-3.,  5.,  0.])"
      ]
     },
     "execution_count": 166,
     "metadata": {},
     "output_type": "execute_result"
    }
   ],
   "source": [
    "A = np.array([\n",
    "  [3,2,4],\n",
    "  [1,1,2],\n",
    "  [4,3,-2],], \n",
    "dtype=np.float64)\n",
    "b = np.array([1,2,3], np.float64)\n",
    "\n",
    "# {-3, 5, 0}\n",
    "gauss_method(A, b, Pivoting.PARTIAL_PIVOTING)\n"
   ]
  },
  {
   "cell_type": "markdown",
   "metadata": {},
   "source": [
    "# LU Factoring Method"
   ]
  },
  {
   "cell_type": "code",
   "execution_count": 154,
   "metadata": {},
   "outputs": [],
   "source": [
    "def is_possible_to_apply_LU_method(A:np.ndarray) -> bool:\n",
    "  if A.ndim == 2 and A.shape[0] == A.shape[1]: \n",
    "    if A.shape == (0,0):\n",
    "      return True\n",
    "    return np.linalg.det(A) != 0 and is_possible_to_apply_LU_method(A[1:, 1:])\n",
    "  return False\n",
    "\n",
    "# https://jonshiach.github.io/ODEs-book/pages/5.3_LUP_decomposition.html\n",
    "def lu_factoring(A: np.ndarray, b:np.ndarray, pivoting = Pivoting.NO_PIVOTING) -> np.ndarray:\n",
    "  assert len(A) == len(b)\n",
    "  assert A.shape[0] == A.shape[1]\n",
    "  assert is_possible_to_apply_LU_method(A) == True\n",
    "\n",
    "  P_rows, P_columns = pivoting.generate_permutation_matrices(A)\n",
    "\n",
    "  PA = P_rows @ A @ P_columns\n",
    "  Pb = P_rows @ b\n",
    "\n",
    "  upper_matrix = PA\n",
    "  lower_matrix = np.identity(len(A), np.float64)\n",
    "  \n",
    "  for index_col in range(len(upper_matrix)):\n",
    "    pivot = upper_matrix[index_col, index_col] \n",
    "    \n",
    "    for index_row_below in range(index_col + 1, len(upper_matrix)):\n",
    "      ratio = upper_matrix[index_row_below, index_col]/pivot\n",
    "      lower_matrix[index_row_below, index_col] = ratio\n",
    "\n",
    "      for idx in range(index_col, len(A)):\n",
    "        upper_matrix[index_row_below, idx] -= upper_matrix[index_col, idx] * ratio\n",
    "\n",
    "  y = np.linalg.solve(lower_matrix, Pb)\n",
    "  result = np.linalg.solve(upper_matrix, y)\n",
    "  return P_columns @ result"
   ]
  },
  {
   "cell_type": "markdown",
   "metadata": {},
   "source": [
    "# Cholesky method"
   ]
  },
  {
   "cell_type": "code",
   "execution_count": 158,
   "metadata": {},
   "outputs": [],
   "source": [
    "def is_possible_to_apply_Cholesky_method(A:np.ndarray) -> bool:\n",
    "  if A.ndim == 2 and A.shape[0] == A.shape[1]: \n",
    "    if A.shape == (0,0):\n",
    "      return True\n",
    "    return np.linalg.det(A) > 0.0 and np.allclose(A, A.T) and is_possible_to_apply_Cholesky_method(A[1:, 1:])\n",
    "  return False\n",
    "\n",
    "def cholesky_method(A:np.ndarray, b:np.ndarray, pivoting = Pivoting.NO_PIVOTING) -> np.ndarray:\n",
    "  assert len(A) == len(b)\n",
    "  assert A.shape[0] == A.shape[1]\n",
    "  assert is_possible_to_apply_Cholesky_method(A) == True\n",
    "\n",
    "  P_rows, P_columns = pivoting.generate_permutation_matrices(A)\n",
    "\n",
    "  PA = P_rows @ A @ P_columns\n",
    "  Pb = P_rows @ b\n",
    "\n",
    "  G = np.zeros(A.shape)\n",
    "\n",
    "  for i in range(len(A)):\n",
    "    for j in range(i + 1):\n",
    "      sum = 0\n",
    "      for k in range(j):\n",
    "        sum += G[i][k] * G[j][k]\n",
    "      \n",
    "      if i == j:\n",
    "        G[i][j] = math.sqrt(PA[i][i] - sum)\n",
    "      else:\n",
    "        G[i][j] = (PA[i][j] - sum) / G[j][j]\n",
    "\n",
    "  G_transpose = G.T\n",
    "  y = np.linalg.solve(G, Pb)\n",
    "  x = np.linalg.solve(G_transpose, y)\n",
    "  return P_columns @ x"
   ]
  },
  {
   "cell_type": "markdown",
   "metadata": {},
   "source": [
    "# Gauss Jacobi"
   ]
  },
  {
   "cell_type": "code",
   "execution_count": 10,
   "metadata": {},
   "outputs": [],
   "source": [
    "def is_possible_to_apply_Jacobi_method(A:np.ndarray) -> bool:\n",
    "  if A.ndim == 2 and A.shape[0] == A.shape[1]: \n",
    "    spectral_radius_less_than_one = all(map(lambda x: abs(x) < 1.0, np.linalg.eigvals(A)))\n",
    "    \n",
    "    rows_criteria = all(map(lambda x: A[x, :].sum() - A[x, x] < A[x, x], range(len(A))))\n",
    "    columns_criteria = all(map(lambda x: A[:, x].sum() - A[x, x] < A[x, x], range(len(A))))\n",
    "\n",
    "    diagonally_dominant = rows_criteria or columns_criteria\n",
    "\n",
    "    return spectral_radius_less_than_one or diagonally_dominant\n",
    "  return False\n",
    "\n",
    "def jacobi_method(A:np.ndarray, b:np.ndarray, x:np.ndarray, iterations: int = 10) -> np.ndarray:\n",
    "  assert is_possible_to_apply_Jacobi_method(A) == True\n",
    "\n",
    "  for _ in range(iterations):\n",
    "    # Diagonal matrix\n",
    "    D = np.diag(np.diag(A))\n",
    "    \n",
    "    # construct a diagonal matrix where each position is 1/(diagonal element of A)\n",
    "    D_inv = np.linalg.inv(D)\n",
    "\n",
    "    x = np.dot(D_inv, b - np.dot(A - D, x))\n",
    "\n",
    "  return x"
   ]
  },
  {
   "cell_type": "markdown",
   "metadata": {},
   "source": [
    "# Gaus Seidel"
   ]
  },
  {
   "cell_type": "code",
   "execution_count": 11,
   "metadata": {},
   "outputs": [],
   "source": [
    "def is_possible_to_apply_Seidel_method(A:np.ndarray) -> bool:\n",
    "  return is_possible_to_apply_Jacobi_method(A) # and meet_sassenfeld_criterion(A)\n",
    "\n",
    "def seidel_method(A:np.ndarray, b: np.ndarray, x: np.ndarray, iterations : int = 10) -> np.ndarray:\n",
    "  assert is_possible_to_apply_Seidel_method(A) == True\n",
    "\n",
    "  for _ in range(iterations):\n",
    "    for i in range(len(A)):\n",
    "      x[i] = (b[i] - np.dot(A[i, :i], x[:i]) - np.dot(A[i, i + 1:], x[i + 1:])) / A[i, i]\n",
    "\n",
    "  return x"
   ]
  },
  {
   "cell_type": "markdown",
   "metadata": {},
   "source": [
    "# Newton's Method"
   ]
  },
  {
   "cell_type": "code",
   "execution_count": 55,
   "metadata": {},
   "outputs": [],
   "source": [
    "def is_possible_to_apply_Newton_method(A:np.ndarray) -> bool:\n",
    "  pass\n",
    "\n",
    "def generate_jacobi_function(functions: np.ndarray[sympy.core.Expr], vars : np.ndarray[sympy.Symbol]) -> Callable[[np.ndarray], np.ndarray]:\n",
    "  jacobi_matrix = [[sympy.diff(f, var) for var in vars] for f in functions]\n",
    "  def jacobi_function(x:np.ndarray) -> np.ndarray:\n",
    "    return np.array([[f.subs(list(zip(vars, x))) for f in row ] for row in jacobi_matrix], dtype=np.float64)\n",
    "  return jacobi_function\n",
    "\n",
    "def generate_F_function(functions: np.ndarray[sympy.core.Expr], vars : np.ndarray[sympy.Symbol]) -> Callable[[np.ndarray], np.ndarray]:\n",
    "  def F_function(x:np.ndarray) -> np.ndarray:\n",
    "    return np.array([f.subs(list(zip(vars, x))) for f in functions], dtype=np.float64)\n",
    "  return F_function\n",
    "\n",
    "def newton_method(F: Callable[[np.ndarray], np.ndarray], J: Callable[[np.ndarray], np.ndarray], x:np.ndarray, iterations: int = 10) -> np.ndarray:\n",
    "  for _ in range(iterations):\n",
    "    s = gauss_method(J(x), -F(x))\n",
    "    x = x + s\n",
    "  return x\n"
   ]
  },
  {
   "cell_type": "code",
   "execution_count": 25,
   "metadata": {},
   "outputs": [
    {
     "data": {
      "text/plain": [
       "[[2*x, cos(y)], [2, 1/(2*sqrt(y))]]"
      ]
     },
     "execution_count": 25,
     "metadata": {},
     "output_type": "execute_result"
    }
   ],
   "source": [
    "x, y = sympy.symbols('x,y')\n",
    "\n",
    "f1 = x**2 + sympy.sin(y) - 3\n",
    "f2 = 2*x + sympy.sqrt(y)\n",
    "\n",
    "funcs = np.array([f1, f2])\n",
    "vars = np.array([x, y])\n",
    "\n",
    "jacobi = [[sympy.diff(func, var) for var in vars] for func in funcs]\n",
    "\n",
    "jacobi\n",
    "#F = np.ndarray"
   ]
  },
  {
   "cell_type": "code",
   "execution_count": 52,
   "metadata": {},
   "outputs": [
    {
     "data": {
      "text/plain": [
       "array([ 1.93177027, -0.51822368])"
      ]
     },
     "execution_count": 52,
     "metadata": {},
     "output_type": "execute_result"
    }
   ],
   "source": [
    "x, x_2 = sympy.symbols('x,x_2')\n",
    "\n",
    "f1 = 4.*x - x**3. + x_2\n",
    "f2 = (-x**2.)/9. + (4.*x_2 - x_2**2.)/4. + 1.\n",
    "\n",
    "funcs = np.array([f1, f2])\n",
    "vars = np.array([x, x_2])\n",
    "\n",
    "initial_guess = np.array([-1.0, -2.0])\n",
    "\n",
    "newton_method(generate_F_function(funcs, vars), generate_jacobi_function(funcs, vars), initial_guess)\n"
   ]
  },
  {
   "cell_type": "code",
   "execution_count": 56,
   "metadata": {},
   "outputs": [
    {
     "data": {
      "text/plain": [
       "array([ 1.99755859, -1.        ])"
      ]
     },
     "execution_count": 56,
     "metadata": {},
     "output_type": "execute_result"
    }
   ],
   "source": [
    "x,y = sympy.symbols('x,y')\n",
    "\n",
    "f1 = (x-2)**2 + (y+3)**2 - 4\n",
    "f2 = y + 1\n",
    "\n",
    "funcs = np.array([f1, f2])\n",
    "vars = np.array([x, y])\n",
    "F = generate_F_function(funcs, vars)\n",
    "J = generate_jacobi_function(funcs, vars)\n",
    "\n",
    "initial_guess = np.array([0.0, 0.0])\n",
    "\n",
    "newton_method(F, J, initial_guess)"
   ]
  },
  {
   "cell_type": "markdown",
   "metadata": {},
   "source": [
    "# Gauss with pivoting"
   ]
  },
  {
   "cell_type": "code",
   "execution_count": 116,
   "metadata": {},
   "outputs": [
    {
     "data": {
      "text/plain": [
       "array([-4.,  1.])"
      ]
     },
     "execution_count": 116,
     "metadata": {},
     "output_type": "execute_result"
    }
   ],
   "source": [
    "A = np.array([[1,-7], [5,2]], dtype=np.float64)\n",
    "b = np.array([-11,-18], dtype=np.float64)\n",
    "# Solution x=-4, y=1\n",
    "gauss_method(A,b, Pivoting.PARTIAL_PIVOTING)\n"
   ]
  },
  {
   "cell_type": "code",
   "execution_count": 137,
   "metadata": {},
   "outputs": [
    {
     "data": {
      "text/plain": [
       "array([-3.,  5.,  0.])"
      ]
     },
     "execution_count": 137,
     "metadata": {},
     "output_type": "execute_result"
    }
   ],
   "source": [
    "A = np.array([\n",
    "  [3,2,4],\n",
    "  [1,1,2],\n",
    "  [4,3,-2],], \n",
    "dtype=np.float64)\n",
    "b = np.array([1,2,3], np.float64)\n",
    "\n",
    "# {-3, 5, 0}\n",
    "lu_factoring(A, b, Pivoting.FULL_PIVOTING)"
   ]
  },
  {
   "cell_type": "code",
   "execution_count": 119,
   "metadata": {},
   "outputs": [
    {
     "data": {
      "text/plain": [
       "array([-1., -4.,  3.])"
      ]
     },
     "execution_count": 119,
     "metadata": {},
     "output_type": "execute_result"
    }
   ],
   "source": [
    "# 1x + 2y - 2z = -15\n",
    "# 2x + 1y - 5z = -21\n",
    "# 1x - 4y + 1z = +18 \n",
    "# Solution {-1, -4, 3}\n",
    "\n",
    "A = np.array([\n",
    "  [1, 2, -2],\n",
    "  [2, 1, -5],\n",
    "  [1, -4, 1]\n",
    "], dtype=np.float64)\n",
    "\n",
    "b = np.array([-15, -21, 18], dtype=np.float64)\n",
    "\n",
    "gauss_method(A, b, Pivoting.FULL_PIVOTING)"
   ]
  },
  {
   "cell_type": "code",
   "execution_count": 122,
   "metadata": {},
   "outputs": [
    {
     "data": {
      "text/plain": [
       "array([16., -6., -2., -3.])"
      ]
     },
     "execution_count": 122,
     "metadata": {},
     "output_type": "execute_result"
    }
   ],
   "source": [
    "A = np.array([\n",
    "  [1.,    2.,     1., -1.],\n",
    "  [3./2., 1.,     2., 2.],\n",
    "  [4.,    4.,     3., 4.],\n",
    "  [2./5., 0.,  1./5., 1.]\n",
    "], dtype=np.float64)\n",
    "\n",
    "b = np.array([5., 8., 22., 3.], dtype=np.float64)\n",
    "\n",
    "# x = 16\n",
    "# y = -6\n",
    "# z = -2\n",
    "# t = -3\n",
    "\n",
    "gauss_method(A, b, Pivoting.FULL_PIVOTING)"
   ]
  },
  {
   "cell_type": "code",
   "execution_count": 163,
   "metadata": {},
   "outputs": [
    {
     "data": {
      "text/plain": [
       "array([1., 1., 2.])"
      ]
     },
     "execution_count": 163,
     "metadata": {},
     "output_type": "execute_result"
    }
   ],
   "source": [
    "A = np.array([\n",
    "  [1.,  1.,  0.],\n",
    "  [1.,  2., -1.],\n",
    "  [0., -1.,  3.],\n",
    "], dtype=np.float64)\n",
    "\n",
    "b = np.array([2., 1., 5.], dtype=np.float64)\n",
    "\n",
    "# x = 1\n",
    "# y = 1\n",
    "# z = 2\n",
    "\n",
    "cholesky_method(A, b, Pivoting.FULL_PIVOTING)"
   ]
  },
  {
   "cell_type": "code",
   "execution_count": 142,
   "metadata": {},
   "outputs": [
    {
     "data": {
      "text/plain": [
       "array([1.0000000e+00, 8.8817842e-16, 1.0000000e+00])"
      ]
     },
     "execution_count": 142,
     "metadata": {},
     "output_type": "execute_result"
    }
   ],
   "source": [
    "A = np.array([\n",
    "  [4.,  2.,  -4.],\n",
    "  [2.,  10., 4.],\n",
    "  [-4., 4.,  9.],\n",
    "], dtype=np.float64)\n",
    "\n",
    "b = np.array([0., 6., 5.], dtype=np.float64)\n",
    "\n",
    "# x = 1\n",
    "# y = 0\n",
    "# z = 1\n",
    "\n",
    "# cholesky_method(A, b)\n",
    "lu_factoring(A, b, Pivoting.FULL_PIVOTING)"
   ]
  },
  {
   "cell_type": "code",
   "execution_count": 20,
   "metadata": {},
   "outputs": [
    {
     "data": {
      "text/plain": [
       "array([0.63911074, 0.18195205, 0.74674592])"
      ]
     },
     "execution_count": 20,
     "metadata": {},
     "output_type": "execute_result"
    }
   ],
   "source": [
    "A = np.array([\n",
    "  [4.,  2.,  -4.],\n",
    "  [2.,  10., 4.],\n",
    "  [-4., 4.,  9.],\n",
    "], dtype=np.float64)\n",
    "\n",
    "b = np.array([0., 6., 5.], dtype=np.float64)\n",
    "\n",
    "jacobi_method(A, b, np.array([0., 0., 0.]), 20)"
   ]
  },
  {
   "cell_type": "code",
   "execution_count": 21,
   "metadata": {},
   "outputs": [
    {
     "data": {
      "text/plain": [
       "array([0.82057774, 0.08823726, 0.88104021])"
      ]
     },
     "execution_count": 21,
     "metadata": {},
     "output_type": "execute_result"
    }
   ],
   "source": [
    "A = np.array([\n",
    "  [4.,  2.,  -4.],\n",
    "  [2.,  10., 4.],\n",
    "  [-4., 4.,  9.],\n",
    "], dtype=np.float64)\n",
    "\n",
    "b = np.array([0., 6., 5.], dtype=np.float64)\n",
    "\n",
    "seidel_method(A, b, np.array([0., 0., 0.]), 20)"
   ]
  }
 ],
 "metadata": {
  "kernelspec": {
   "display_name": "Python 3",
   "language": "python",
   "name": "python3"
  },
  "language_info": {
   "codemirror_mode": {
    "name": "ipython",
    "version": 3
   },
   "file_extension": ".py",
   "mimetype": "text/x-python",
   "name": "python",
   "nbconvert_exporter": "python",
   "pygments_lexer": "ipython3",
   "version": "3.12.4"
  }
 },
 "nbformat": 4,
 "nbformat_minor": 2
}
