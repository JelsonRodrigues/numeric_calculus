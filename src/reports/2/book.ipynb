{
 "cells": [
  {
   "cell_type": "code",
   "execution_count": 1,
   "metadata": {},
   "outputs": [],
   "source": [
    "import numpy as np\n",
    "from typing import Tuple, Callable\n",
    "from enum import Enum\n",
    "import math\n",
    "import sympy"
   ]
  },
  {
   "cell_type": "markdown",
   "metadata": {},
   "source": [
    "# Pivoting helper class\n",
    "\n",
    "This enum class keeps track of types of pivoting and serves to generate the permutation matrices based on the correct enum member.\n",
    "When no pivoting is used, both rows and columns permutation matrices are the identity matrix.\n",
    "When partial pivoting is used, the columns permutation matrix is the identity.\n",
    "\n",
    "The idea of implementing the pivoting is:\n",
    "$P_r$ is the row permutation matrix and $P_c$ is the columns permutation matrix\n",
    "\n",
    "$ Ax = b$\n",
    "\n",
    "$ P_r A P_c x = P_r b$\n",
    "\n",
    "The methods are applied to solve $ P_r A P_c x = P_r b $ and in the end is returned $P_c x$ to change the values of the incognitos to right place"
   ]
  },
  {
   "cell_type": "code",
   "execution_count": 2,
   "metadata": {},
   "outputs": [],
   "source": [
    "class Pivoting(Enum):\n",
    "  NO_PIVOTING = 0,\n",
    "  PARTIAL_PIVOTING = 1,\n",
    "  FULL_PIVOTING = 2\n",
    "\n",
    "  def generate_permutation_matrices(self, A:np.ndarray[np.ndarray]) -> Tuple[np.ndarray[np.ndarray], np.ndarray[np.ndarray]]:\n",
    "    match self:\n",
    "      case Pivoting.NO_PIVOTING:\n",
    "        return (np.identity(len(A)), np.identity(len(A)))\n",
    "      case Pivoting.PARTIAL_PIVOTING:\n",
    "        return (Pivoting.__generate_partial_pivot_matrix(A), np.identity(len(A)))\n",
    "      case Pivoting.FULL_PIVOTING:\n",
    "        return Pivoting.__generate_full_pivot_matrix(A)\n",
    "\n",
    "\n",
    "  def __generate_partial_pivot_matrix(A:np.ndarray[np.ndarray]) -> np.ndarray[np.ndarray]:\n",
    "    n = len(A)\n",
    "    pivot_matrix = np.identity(n)\n",
    "    for i in range(n):\n",
    "      # Find the highest value in the column\n",
    "      PA = pivot_matrix @ A\n",
    "      index_highest_value = np.abs(PA[i:, i]).argmax() + i\n",
    "      pivot_matrix[[i, index_highest_value]] = pivot_matrix[[index_highest_value, i]]\n",
    "    return pivot_matrix\n",
    "\n",
    "  def __generate_full_pivot_matrix(A:np.ndarray[np.ndarray]) -> Tuple[np.ndarray[np.ndarray], np.ndarray[np.ndarray]]:\n",
    "    n = len(A)\n",
    "    row_permutation_matrix = np.identity(n)\n",
    "    column_permutation_matrix = np.identity(n)\n",
    "    for i in range(n):\n",
    "      PA = row_permutation_matrix @ A @ column_permutation_matrix\n",
    "\n",
    "      highest_absolute_value = np.abs(PA[i:, i:]).max()\n",
    "      max_value = np.where(np.abs(PA[i:, i:]) == highest_absolute_value)\n",
    "\n",
    "      # Use the first found occurence if there is more than one\n",
    "      index_row_highest_value = max_value[0][0]\n",
    "      index_column_highest_value = max_value[1][0]\n",
    "\n",
    "      row_permutation_matrix[[i, index_row_highest_value + i]] = row_permutation_matrix[[index_row_highest_value + i, i]]\n",
    "      column_permutation_matrix[:, [i, index_column_highest_value + i]] = column_permutation_matrix[:, [index_column_highest_value + i, i]]\n",
    "      \n",
    "    return (row_permutation_matrix, column_permutation_matrix)"
   ]
  },
  {
   "cell_type": "markdown",
   "metadata": {},
   "source": [
    "# Gaussian Elimination"
   ]
  },
  {
   "cell_type": "code",
   "execution_count": 3,
   "metadata": {},
   "outputs": [],
   "source": [
    "def gauss_method(A: np.ndarray, b:np.ndarray, pivoting = Pivoting.PARTIAL_PIVOTING) -> np.ndarray:\n",
    "  P_rows, P_columns = pivoting.generate_permutation_matrices(A)\n",
    "\n",
    "  PA = P_rows @ A @ P_columns\n",
    "  Pb = P_rows @ b\n",
    "\n",
    "  for index_col in range(len(A)):\n",
    "    pivot = PA[index_col][index_col]\n",
    "    for index_row_below in range(index_col + 1, len(A)):\n",
    "      ratio = PA[index_row_below][index_col] / pivot\n",
    "      \n",
    "      for idx in range(index_col, len(A)):\n",
    "        PA[index_row_below, idx] -= PA[index_col, idx] * ratio\n",
    "\n",
    "      Pb[index_row_below] -= Pb[index_col] * ratio\n",
    "  \n",
    "  result = np.linalg.solve(PA, Pb)\n",
    "  return P_columns @ result\n"
   ]
  },
  {
   "cell_type": "markdown",
   "metadata": {},
   "source": [
    "# Gaussian elimination with limited precision"
   ]
  },
  {
   "cell_type": "code",
   "execution_count": 4,
   "metadata": {},
   "outputs": [],
   "source": [
    "def gauss_method_limited_precision(A: np.ndarray, b:np.ndarray, pivoting = Pivoting.PARTIAL_PIVOTING, precision_digits : int = 3) -> np.ndarray:\n",
    "  A = np.round(A, precision_digits)\n",
    "  P_rows, P_columns = pivoting.generate_permutation_matrices(A)\n",
    "\n",
    "  PA = P_rows @ A @ P_columns\n",
    "  Pb = P_rows @ b\n",
    "\n",
    "  for index_col in range(len(A)):\n",
    "    # Round the matrix to the specified precision\n",
    "    PA = np.round(PA, precision_digits)\n",
    "    Pb = np.round(Pb, precision_digits)\n",
    "\n",
    "    pivot = PA[index_col][index_col]\n",
    "    for index_row_below in range(index_col + 1, len(A)):\n",
    "      ratio = PA[index_row_below][index_col] / pivot\n",
    "      ratio = np.round(ratio, precision_digits)\n",
    "      \n",
    "      for idx in range(index_col, len(A)):\n",
    "        PA[index_row_below, idx] -= np.round(PA[index_col, idx] * ratio, precision_digits)\n",
    "\n",
    "      Pb[index_row_below] -= np.round(Pb[index_col] * ratio, precision_digits)\n",
    "  \n",
    "  # Round the matrix to the specified precision\n",
    "  PA = np.round(PA, precision_digits)\n",
    "  Pb = np.round(Pb, precision_digits)\n",
    "  result = np.linalg.solve(PA, Pb)\n",
    "  result = np.round(result, precision_digits)\n",
    "  return P_columns @ result"
   ]
  },
  {
   "cell_type": "markdown",
   "metadata": {},
   "source": [
    "## Tests for gaussian elimination"
   ]
  },
  {
   "cell_type": "code",
   "execution_count": 5,
   "metadata": {},
   "outputs": [
    {
     "data": {
      "text/plain": [
       "array([-3.,  5.,  0.])"
      ]
     },
     "execution_count": 5,
     "metadata": {},
     "output_type": "execute_result"
    }
   ],
   "source": [
    "A = np.array([\n",
    "  [3,2,4],\n",
    "  [1,1,2],\n",
    "  [4,3,-2],], \n",
    "dtype=np.float64)\n",
    "b = np.array([1,2,3], np.float64)\n",
    "# {-3, 5, 0}\n",
    "gauss_method(A, b, Pivoting.FULL_PIVOTING)\n"
   ]
  },
  {
   "cell_type": "code",
   "execution_count": 6,
   "metadata": {},
   "outputs": [
    {
     "data": {
      "text/plain": [
       "array([-4.,  1.])"
      ]
     },
     "execution_count": 6,
     "metadata": {},
     "output_type": "execute_result"
    }
   ],
   "source": [
    "A = np.array([[1,-7], [5,2]], dtype=np.float64)\n",
    "b = np.array([-11,-18], dtype=np.float64)\n",
    "# Solution x=-4, y=1\n",
    "gauss_method(A,b, Pivoting.PARTIAL_PIVOTING)"
   ]
  },
  {
   "cell_type": "code",
   "execution_count": 7,
   "metadata": {},
   "outputs": [
    {
     "data": {
      "text/plain": [
       "array([16., -6., -2., -3.])"
      ]
     },
     "execution_count": 7,
     "metadata": {},
     "output_type": "execute_result"
    }
   ],
   "source": [
    "A = np.array([\n",
    "  [1.,    2.,     1., -1.],\n",
    "  [3./2., 1.,     2., 2.],\n",
    "  [4.,    4.,     3., 4.],\n",
    "  [2./5., 0.,  1./5., 1.]\n",
    "], dtype=np.float64)\n",
    "b = np.array([5., 8., 22., 3.], dtype=np.float64)\n",
    "\n",
    "# x = 16\n",
    "# y = -6\n",
    "# z = -2\n",
    "# t = -3\n",
    "gauss_method(A, b, Pivoting.FULL_PIVOTING)"
   ]
  },
  {
   "cell_type": "code",
   "execution_count": 8,
   "metadata": {},
   "outputs": [
    {
     "data": {
      "text/plain": [
       "array([-1.005, -4.002,  2.998])"
      ]
     },
     "execution_count": 8,
     "metadata": {},
     "output_type": "execute_result"
    }
   ],
   "source": [
    "# 1x + 2y - 2z = -15\n",
    "# 2x + 1y - 5z = -21\n",
    "# 1x - 4y + 1z = +18 \n",
    "# Solution {-1, -4, 3}\n",
    "\n",
    "A = np.array([\n",
    "  [1, 2, -2],\n",
    "  [2, 1, -5],\n",
    "  [1, -4, 1]\n",
    "], dtype=np.float64)\n",
    "\n",
    "b = np.array([-15, -21, 18], dtype=np.float64)\n",
    "\n",
    "gauss_method_limited_precision(A, b, Pivoting.PARTIAL_PIVOTING, 3)"
   ]
  },
  {
   "cell_type": "markdown",
   "metadata": {},
   "source": [
    "# LU Factoring Method"
   ]
  },
  {
   "cell_type": "code",
   "execution_count": 9,
   "metadata": {},
   "outputs": [],
   "source": [
    "def is_possible_to_apply_LU_method(A:np.ndarray) -> bool:\n",
    "  if A.ndim == 2 and A.shape[0] == A.shape[1]: \n",
    "    if A.shape == (0,0):\n",
    "      return True\n",
    "    return np.linalg.det(A) != 0 and is_possible_to_apply_LU_method(A[1:, 1:])\n",
    "  return False\n",
    "\n",
    "# https://jonshiach.github.io/ODEs-book/pages/5.3_LUP_decomposition.html\n",
    "def lu_factoring(A: np.ndarray, b:np.ndarray, pivoting = Pivoting.NO_PIVOTING) -> np.ndarray:\n",
    "  assert len(A) == len(b)\n",
    "  assert A.shape[0] == A.shape[1]\n",
    "  assert is_possible_to_apply_LU_method(A) == True\n",
    "\n",
    "  P_rows, P_columns = pivoting.generate_permutation_matrices(A)\n",
    "\n",
    "  PA = P_rows @ A @ P_columns\n",
    "  Pb = P_rows @ b\n",
    "\n",
    "  upper_matrix = PA\n",
    "  lower_matrix = np.identity(len(A), np.float64)\n",
    "  \n",
    "  for index_col in range(len(upper_matrix)):\n",
    "    pivot = upper_matrix[index_col, index_col] \n",
    "    \n",
    "    for index_row_below in range(index_col + 1, len(upper_matrix)):\n",
    "      ratio = upper_matrix[index_row_below, index_col]/pivot\n",
    "      lower_matrix[index_row_below, index_col] = ratio\n",
    "\n",
    "      for idx in range(index_col, len(A)):\n",
    "        upper_matrix[index_row_below, idx] -= upper_matrix[index_col, idx] * ratio\n",
    "\n",
    "  y = np.linalg.solve(lower_matrix, Pb)\n",
    "  result = np.linalg.solve(upper_matrix, y)\n",
    "  return P_columns @ result"
   ]
  },
  {
   "cell_type": "markdown",
   "metadata": {},
   "source": [
    "# LU decomposition method with limited precision"
   ]
  },
  {
   "cell_type": "code",
   "execution_count": 10,
   "metadata": {},
   "outputs": [],
   "source": [
    "def lu_factoring_limited_precision(A: np.ndarray, b:np.ndarray, pivoting = Pivoting.NO_PIVOTING, precision_digits : int = 3) -> np.ndarray:\n",
    "  assert len(A) == len(b)\n",
    "  assert A.shape[0] == A.shape[1]\n",
    "  assert is_possible_to_apply_LU_method(A) == True\n",
    "\n",
    "  P_rows, P_columns = pivoting.generate_permutation_matrices(A)\n",
    "\n",
    "  PA = P_rows @ A @ P_columns\n",
    "  Pb = P_rows @ b\n",
    "\n",
    "  upper_matrix = PA\n",
    "  lower_matrix = np.identity(len(A), np.float64)\n",
    "  \n",
    "  for index_col in range(len(upper_matrix)):\n",
    "    upper_matrix = np.round(upper_matrix, precision_digits)\n",
    "    lower_matrix = np.round(lower_matrix, precision_digits)\n",
    "\n",
    "    pivot = upper_matrix[index_col, index_col]\n",
    "    \n",
    "    for index_row_below in range(index_col + 1, len(upper_matrix)):\n",
    "      ratio = upper_matrix[index_row_below, index_col]/pivot\n",
    "      ratio = np.round(ratio, precision_digits)\n",
    "      lower_matrix[index_row_below, index_col] = ratio\n",
    "\n",
    "      for idx in range(index_col, len(A)):\n",
    "        upper_matrix[index_row_below, idx] -= np.round(upper_matrix[index_col, idx] * ratio, precision_digits)\n",
    "\n",
    "  upper_matrix = np.round(upper_matrix, precision_digits)\n",
    "  lower_matrix = np.round(lower_matrix, precision_digits)\n",
    "  Pb = np.round(Pb, precision_digits)\n",
    "  y = np.linalg.solve(lower_matrix, Pb)\n",
    "  y = np.round(y, precision_digits)\n",
    "  result = np.linalg.solve(upper_matrix, y)\n",
    "  result = np.round(result, precision_digits)\n",
    "  return P_columns @ result"
   ]
  },
  {
   "cell_type": "markdown",
   "metadata": {},
   "source": [
    "## Tests for LU methdod"
   ]
  },
  {
   "cell_type": "code",
   "execution_count": 11,
   "metadata": {},
   "outputs": [
    {
     "data": {
      "text/plain": [
       "array([1., 0., 1.])"
      ]
     },
     "execution_count": 11,
     "metadata": {},
     "output_type": "execute_result"
    }
   ],
   "source": [
    "A = np.array([\n",
    "  [4.,  2.,  -4.],\n",
    "  [2.,  10., 4.],\n",
    "  [-4., 4.,  9.],\n",
    "], dtype=np.float64)\n",
    "\n",
    "b = np.array([0., 6., 5.], dtype=np.float64)\n",
    "\n",
    "# x = 1\n",
    "# y = 0\n",
    "# z = 1\n",
    "\n",
    "lu_factoring(A, b, Pivoting.NO_PIVOTING)"
   ]
  },
  {
   "cell_type": "code",
   "execution_count": 12,
   "metadata": {},
   "outputs": [
    {
     "data": {
      "text/plain": [
       "array([1., 0., 1.])"
      ]
     },
     "execution_count": 12,
     "metadata": {},
     "output_type": "execute_result"
    }
   ],
   "source": [
    "A = np.array([\n",
    "  [4.,  2.,  -4.],\n",
    "  [2.,  10., 4.],\n",
    "  [-4., 4.,  9.],\n",
    "], dtype=np.float64)\n",
    "\n",
    "b = np.array([0., 6., 5.], dtype=np.float64)\n",
    "\n",
    "# x = 1\n",
    "# y = 0\n",
    "# z = 1\n",
    "\n",
    "lu_factoring(A, b, Pivoting.PARTIAL_PIVOTING)"
   ]
  },
  {
   "cell_type": "code",
   "execution_count": 13,
   "metadata": {},
   "outputs": [
    {
     "data": {
      "text/plain": [
       "array([-3.,  5.,  0.])"
      ]
     },
     "execution_count": 13,
     "metadata": {},
     "output_type": "execute_result"
    }
   ],
   "source": [
    "A = np.array([\n",
    "  [3,2,4],\n",
    "  [1,1,2],\n",
    "  [4,3,-2],], \n",
    "dtype=np.float64)\n",
    "b = np.array([1,2,3], np.float64)\n",
    "\n",
    "# {-3, 5, 0}\n",
    "lu_factoring(A, b, Pivoting.FULL_PIVOTING)"
   ]
  },
  {
   "cell_type": "markdown",
   "metadata": {},
   "source": [
    "# Cholesky method"
   ]
  },
  {
   "cell_type": "code",
   "execution_count": 14,
   "metadata": {},
   "outputs": [],
   "source": [
    "def is_possible_to_apply_Cholesky_method(A:np.ndarray) -> bool:\n",
    "  if A.ndim == 2 and A.shape[0] == A.shape[1]: \n",
    "    if A.shape == (0,0):\n",
    "      return True\n",
    "    return np.linalg.det(A) > 0.0 and np.allclose(A, A.T) and is_possible_to_apply_Cholesky_method(A[1:, 1:])\n",
    "  return False\n",
    "\n",
    "def cholesky_method(A:np.ndarray, b:np.ndarray, pivoting = Pivoting.NO_PIVOTING) -> np.ndarray:\n",
    "  assert len(A) == len(b)\n",
    "  assert A.shape[0] == A.shape[1]\n",
    "  assert is_possible_to_apply_Cholesky_method(A) == True\n",
    "\n",
    "  P_rows, P_columns = pivoting.generate_permutation_matrices(A)\n",
    "  # Cholesky needs a symmetric matrix, the row modifications will also modify the column\n",
    "  P_columns = P_rows.T\n",
    "\n",
    "  PA = P_rows @ A @ P_columns\n",
    "  Pb = P_rows @ b\n",
    "\n",
    "  G = np.zeros(A.shape)\n",
    "\n",
    "  for i in range(len(A)):\n",
    "    for j in range(i + 1):\n",
    "      sum = 0\n",
    "      for k in range(j):\n",
    "        sum += G[i][k] * G[j][k]\n",
    "      \n",
    "      if i == j:\n",
    "        G[i][j] = math.sqrt(PA[i][i] - sum)\n",
    "      else:\n",
    "        G[i][j] = (PA[i][j] - sum) / G[j][j]\n",
    "\n",
    "  G_transpose = G.T\n",
    "  y = np.linalg.solve(G, Pb)\n",
    "  x = np.linalg.solve(G_transpose, y)\n",
    "  return P_columns @ x"
   ]
  },
  {
   "cell_type": "markdown",
   "metadata": {},
   "source": [
    "# Cholesky with limited precision"
   ]
  },
  {
   "cell_type": "code",
   "execution_count": 15,
   "metadata": {},
   "outputs": [],
   "source": [
    "def cholesky_method_limited_precision(A:np.ndarray, b:np.ndarray, pivoting = Pivoting.NO_PIVOTING, precision_digits:int=3) -> np.ndarray:\n",
    "  assert len(A) == len(b)\n",
    "  assert A.shape[0] == A.shape[1]\n",
    "  assert is_possible_to_apply_Cholesky_method(A) == True\n",
    "\n",
    "  A = np.round(A, precision_digits)\n",
    "  P_rows, P_columns = pivoting.generate_permutation_matrices(A)\n",
    "  # Cholesky needs a symmetric matrix, the row modifications will also modify the column\n",
    "  P_columns = P_rows.T\n",
    "\n",
    "  PA = P_rows @ A @ P_columns\n",
    "  Pb = P_rows @ b\n",
    "\n",
    "  G = np.zeros(A.shape)\n",
    "\n",
    "  for i in range(len(A)):\n",
    "    G = np.round(G, precision_digits)\n",
    "    for j in range(i + 1):\n",
    "      sum = 0\n",
    "      for k in range(j):\n",
    "        sum += np.round(G[i][k] * G[j][k], precision_digits)\n",
    "        sum = np.round(sum, precision_digits)\n",
    "      \n",
    "      if i == j:\n",
    "        G[i][j] = np.round(math.sqrt(np.round(PA[i][i] - sum, precision_digits)), precision_digits)\n",
    "      else:\n",
    "        G[i][j] = np.round(np.round(PA[i][j] - sum, precision_digits) / G[j][j], precision_digits)\n",
    "\n",
    "  G = np.round(G, precision_digits)\n",
    "  Pb = np.round(Pb, precision_digits)\n",
    "  G_transpose = G.T\n",
    "  y = np.linalg.solve(G, Pb)\n",
    "  y = np.round(y, precision_digits)\n",
    "  x = np.linalg.solve(G_transpose, y)\n",
    "  x = np.round(x, precision_digits)\n",
    "  return P_columns @ x"
   ]
  },
  {
   "cell_type": "markdown",
   "metadata": {},
   "source": [
    "## Tests for Cholesky method"
   ]
  },
  {
   "cell_type": "code",
   "execution_count": 16,
   "metadata": {},
   "outputs": [
    {
     "data": {
      "text/plain": [
       "array([1., 1., 2.])"
      ]
     },
     "execution_count": 16,
     "metadata": {},
     "output_type": "execute_result"
    }
   ],
   "source": [
    "A = np.array([\n",
    "  [1.,  1.,  0.],\n",
    "  [1.,  2., -1.],\n",
    "  [0., -1.,  3.],\n",
    "], dtype=np.float64)\n",
    "\n",
    "b = np.array([2., 1., 5.], dtype=np.float64)\n",
    "\n",
    "# x = 1\n",
    "# y = 1\n",
    "# z = 2\n",
    "\n",
    "cholesky_method(A, b, Pivoting.FULL_PIVOTING)"
   ]
  },
  {
   "cell_type": "code",
   "execution_count": 17,
   "metadata": {},
   "outputs": [
    {
     "data": {
      "text/plain": [
       "array([1., 0., 1.])"
      ]
     },
     "execution_count": 17,
     "metadata": {},
     "output_type": "execute_result"
    }
   ],
   "source": [
    "A = np.array([\n",
    "  [4.,  2.,  -4.],\n",
    "  [2.,  10., 4.],\n",
    "  [-4., 4.,  9.],\n",
    "], dtype=np.float64)\n",
    "\n",
    "b = np.array([0., 6., 5.], dtype=np.float64)\n",
    "\n",
    "# x = 1\n",
    "# y = 0\n",
    "# z = 1\n",
    "\n",
    "cholesky_method(A, b)"
   ]
  },
  {
   "cell_type": "code",
   "execution_count": 18,
   "metadata": {},
   "outputs": [
    {
     "data": {
      "text/plain": [
       "array([1., 0., 1.])"
      ]
     },
     "execution_count": 18,
     "metadata": {},
     "output_type": "execute_result"
    }
   ],
   "source": [
    "A = np.array([\n",
    "  [4.,  2.,  -4.],\n",
    "  [2.,  10., 4.],\n",
    "  [-4., 4.,  9.],\n",
    "], dtype=np.float64)\n",
    "\n",
    "b = np.array([0., 6., 5.], dtype=np.float64)\n",
    "\n",
    "# x = 1\n",
    "# y = 0\n",
    "# z = 1\n",
    "\n",
    "cholesky_method_limited_precision(A, b)"
   ]
  },
  {
   "cell_type": "markdown",
   "metadata": {},
   "source": [
    "# Gauss Jacobi"
   ]
  },
  {
   "cell_type": "code",
   "execution_count": 19,
   "metadata": {},
   "outputs": [],
   "source": [
    "def is_possible_to_apply_Jacobi_method(A:np.ndarray) -> bool:\n",
    "  if A.ndim == 2 and A.shape[0] == A.shape[1]: \n",
    "    spectral_radius_less_than_one = all(map(lambda x: abs(x) < 1.0, np.linalg.eigvals(A)))\n",
    "    \n",
    "    rows_criteria = all(map(lambda x: A[x, :].sum() - A[x, x] < A[x, x], range(len(A))))\n",
    "    columns_criteria = all(map(lambda x: A[:, x].sum() - A[x, x] < A[x, x], range(len(A))))\n",
    "\n",
    "    diagonally_dominant = rows_criteria or columns_criteria\n",
    "\n",
    "    return spectral_radius_less_than_one or diagonally_dominant\n",
    "  return False\n",
    "\n",
    "def jacobi_method(A:np.ndarray, b:np.ndarray, x:np.ndarray, iterations: int = 10, epsilon : float = 0.0) -> np.ndarray:\n",
    "  # assert is_possible_to_apply_Jacobi_method(A) == True\n",
    "\n",
    "  for _ in range(iterations):\n",
    "    # Diagonal matrix\n",
    "    D = np.diag(np.diag(A))\n",
    "    \n",
    "    # construct a diagonal matrix where each position is 1/(diagonal element of A)\n",
    "    D_inv = np.linalg.inv(D)\n",
    "\n",
    "    new_x = D_inv @ (b - ((A - D) @ x))\n",
    "\n",
    "    if np.abs(new_x - x).max() / np.abs(new_x).max() < epsilon:\n",
    "      break\n",
    "\n",
    "    x = new_x\n",
    "\n",
    "  return x"
   ]
  },
  {
   "cell_type": "markdown",
   "metadata": {},
   "source": [
    "## Tests for Gauss Jacobi"
   ]
  },
  {
   "cell_type": "code",
   "execution_count": 20,
   "metadata": {},
   "outputs": [
    {
     "data": {
      "text/plain": [
       "array([0.63911074, 0.18195205, 0.74674592])"
      ]
     },
     "execution_count": 20,
     "metadata": {},
     "output_type": "execute_result"
    }
   ],
   "source": [
    "A = np.array([\n",
    "  [4.,  2.,  -4.],\n",
    "  [2.,  10., 4.],\n",
    "  [-4., 4.,  9.],\n",
    "], dtype=np.float64)\n",
    "\n",
    "b = np.array([0., 6., 5.], dtype=np.float64)\n",
    "# [1,0,1]\n",
    "\n",
    "jacobi_method(A, b, np.array([0., 0., 0.]), 20)"
   ]
  },
  {
   "cell_type": "markdown",
   "metadata": {},
   "source": [
    "# Gauss Seidel"
   ]
  },
  {
   "cell_type": "code",
   "execution_count": 21,
   "metadata": {},
   "outputs": [],
   "source": [
    "def is_possible_to_apply_Seidel_method(A:np.ndarray) -> bool:\n",
    "  return is_possible_to_apply_Jacobi_method(A) and meet_sassenfeld_criterion(A)\n",
    "\n",
    "def meet_sassenfeld_criterion(A:np.ndarray) -> bool:\n",
    "  n = len(A)\n",
    "  beta = np.ones(n)\n",
    "  A_abs = np.abs(A)\n",
    "  for i in range(n):\n",
    "    beta[i] = 0.0\n",
    "    beta[i] = (A_abs[i, :] @ beta) / A_abs[i, i]\n",
    "\n",
    "  return all(map(lambda x: x < 1.0, beta))\n",
    "\n",
    "def seidel_method(A:np.ndarray, b: np.ndarray, x: np.ndarray, iterations : int = 10, epsilon : float = 0.0) -> np.ndarray:\n",
    "  # assert is_possible_to_apply_Seidel_method(A) == True\n",
    "\n",
    "  for _ in range(iterations):\n",
    "    old_x = x.copy()\n",
    "    for i in range(len(A)):\n",
    "      x[i] = (b[i] - np.dot(A[i, :i], x[:i]) - np.dot(A[i, i + 1:], x[i + 1:])) / A[i, i]\n",
    "\n",
    "    if np.abs(x - old_x).max() / np.abs(x).max() < epsilon:\n",
    "      break\n",
    "\n",
    "  return x"
   ]
  },
  {
   "cell_type": "markdown",
   "metadata": {},
   "source": [
    "## Tests for Gauss Seidel"
   ]
  },
  {
   "cell_type": "code",
   "execution_count": 22,
   "metadata": {},
   "outputs": [
    {
     "data": {
      "text/plain": [
       "True"
      ]
     },
     "execution_count": 22,
     "metadata": {},
     "output_type": "execute_result"
    }
   ],
   "source": [
    "A = np.array([\n",
    "  [2.0, 1.0, -0.2, 0.2],\n",
    "  [0.6, 3.5, -0.6, -0.7],\n",
    "  [-0.1, -0.2, 1.0, 0.2],\n",
    "  [1.0, 1.2, 0.2, 4.0]], dtype=np.float64)\n",
    "\n",
    "meet_sassenfeld_criterion(A)"
   ]
  },
  {
   "cell_type": "code",
   "execution_count": 23,
   "metadata": {},
   "outputs": [
    {
     "data": {
      "text/plain": [
       "array([  12.05644,  -54.88202, -798.34312])"
      ]
     },
     "execution_count": 23,
     "metadata": {},
     "output_type": "execute_result"
    }
   ],
   "source": [
    "A = np.array([\n",
    "  [25.,  5.,  1.],\n",
    "  [64.,  8., 1.],\n",
    "  [144., 12.,  1.],\n",
    "], dtype=np.float64)\n",
    "\n",
    "b = np.array([106.8, 177.2, 279.2], dtype=np.float64)\n",
    "\n",
    "seidel_method(A, b, np.array([1., 2., 5.]), 2)"
   ]
  },
  {
   "cell_type": "markdown",
   "metadata": {},
   "source": [
    "# Newton's Method"
   ]
  },
  {
   "cell_type": "code",
   "execution_count": 24,
   "metadata": {},
   "outputs": [],
   "source": [
    "def is_possible_to_apply_Newton_method(A:np.ndarray) -> bool:\n",
    "  pass\n",
    "\n",
    "def generate_jacobi_function(functions: np.ndarray[sympy.core.Expr], vars : np.ndarray[sympy.Symbol]) -> Callable[[np.ndarray], np.ndarray]:\n",
    "  jacobi_matrix = [[sympy.diff(f, var) for var in vars] for f in functions]\n",
    "  def jacobi_function(x:np.ndarray) -> np.ndarray:\n",
    "    return np.array([[f.subs(list(zip(vars, x))) for f in row ] for row in jacobi_matrix], dtype=np.float64)\n",
    "  return jacobi_function\n",
    "\n",
    "def generate_F_function(functions: np.ndarray[sympy.core.Expr], vars : np.ndarray[sympy.Symbol]) -> Callable[[np.ndarray], np.ndarray]:\n",
    "  def F_function(x:np.ndarray) -> np.ndarray:\n",
    "    return np.array([f.subs(list(zip(vars, x))) for f in functions], dtype=np.float64)\n",
    "  return F_function\n",
    "\n",
    "def newton_method(F: Callable[[np.ndarray], np.ndarray], J: Callable[[np.ndarray], np.ndarray], x:np.ndarray, iterations: int = 10) -> np.ndarray:\n",
    "  for _ in range(iterations):\n",
    "    s = gauss_method(J(x), -F(x))\n",
    "    x = x + s\n",
    "  return x\n"
   ]
  },
  {
   "cell_type": "markdown",
   "metadata": {},
   "source": [
    "## Tests for Newton Method"
   ]
  },
  {
   "cell_type": "code",
   "execution_count": 25,
   "metadata": {},
   "outputs": [
    {
     "data": {
      "text/plain": [
       "array([ 1.93177027, -0.51822368])"
      ]
     },
     "execution_count": 25,
     "metadata": {},
     "output_type": "execute_result"
    }
   ],
   "source": [
    "x, x_2 = sympy.symbols('x,x_2')\n",
    "\n",
    "f1 = 4.*x - x**3. + x_2\n",
    "f2 = (-x**2.)/9. + (4.*x_2 - x_2**2.)/4. + 1.\n",
    "\n",
    "funcs = np.array([f1, f2])\n",
    "vars = np.array([x, x_2])\n",
    "\n",
    "initial_guess = np.array([-1.0, -2.0])\n",
    "\n",
    "newton_method(generate_F_function(funcs, vars), generate_jacobi_function(funcs, vars), initial_guess)"
   ]
  },
  {
   "cell_type": "code",
   "execution_count": 26,
   "metadata": {},
   "outputs": [
    {
     "data": {
      "text/plain": [
       "array([ 1.99755859, -1.        ])"
      ]
     },
     "execution_count": 26,
     "metadata": {},
     "output_type": "execute_result"
    }
   ],
   "source": [
    "x,y = sympy.symbols('x,y')\n",
    "\n",
    "f1 = (x-2)**2 + (y+3)**2 - 4\n",
    "f2 = y + 1\n",
    "\n",
    "funcs = np.array([f1, f2])\n",
    "vars = np.array([x, y])\n",
    "F = generate_F_function(funcs, vars)\n",
    "J = generate_jacobi_function(funcs, vars)\n",
    "\n",
    "initial_guess = np.array([0.0, 0.0])\n",
    "\n",
    "newton_method(F, J, initial_guess)"
   ]
  },
  {
   "cell_type": "markdown",
   "metadata": {},
   "source": [
    "# "
   ]
  },
  {
   "cell_type": "markdown",
   "metadata": {},
   "source": [
    "# Exercises"
   ]
  },
  {
   "cell_type": "markdown",
   "metadata": {},
   "source": [
    "# 1) Solve the systems when possible using Gaussian elimitaion, LU decomposition and Cholesky decomposition. With partial pivoting and without partial pivoting. 3 digits rounding should be used."
   ]
  },
  {
   "cell_type": "code",
   "execution_count": 27,
   "metadata": {},
   "outputs": [],
   "source": [
    "S1 = np.array([\n",
    "  [0.0, 3.0, 2.0],\n",
    "  [1.0, 4.0, 1.0],\n",
    "  [0.0, 2.0, 5.0],\n",
    "], np.float64)\n",
    "b1 = np.array([5.0, 6.0, 7.0], np.float64)\n",
    "\n",
    "S2 = np.array([\n",
    "  [-2.0, -2.0, 0.0],\n",
    "  [1.0, 3.0, -1.0],\n",
    "  [0.0, -1.0, 2.0],\n",
    "], np.float64)\n",
    "b2 = np.array([-1.0, 3.0, 1.0], np.float64)\n",
    "\n",
    "S3 = np.array([\n",
    "  [1.0, 2.0, 1.0],\n",
    "  [2.0, 6.0, 0.0],\n",
    "  [1.0, 0.0, 4.0],\n",
    "], np.float64)\n",
    "b3 = np.array([4.0, 8.0, 5.0], np.float64)\n",
    "\n",
    "PRECISION = 3"
   ]
  },
  {
   "cell_type": "markdown",
   "metadata": {},
   "source": [
    "## a) Gaussian elimination"
   ]
  },
  {
   "cell_type": "markdown",
   "metadata": {},
   "source": [
    "### S1\n",
    "\n",
    "The first system of equations is not possible to solve without pivoting due to the first pivot being zero.\n",
    "\n",
    "First let's see what is the true result of the system by solving with the gaussian method without any modifications (excpets the partial pivoting)"
   ]
  },
  {
   "cell_type": "code",
   "execution_count": 28,
   "metadata": {},
   "outputs": [
    {
     "data": {
      "text/plain": [
       "array([1., 1., 1.])"
      ]
     },
     "execution_count": 28,
     "metadata": {},
     "output_type": "execute_result"
    }
   ],
   "source": [
    "gauss_method(S1, b1, Pivoting.PARTIAL_PIVOTING)"
   ]
  },
  {
   "cell_type": "markdown",
   "metadata": {},
   "source": [
    "Now let's see what is the result using the 3 digits rounding constraint"
   ]
  },
  {
   "cell_type": "code",
   "execution_count": 29,
   "metadata": {},
   "outputs": [
    {
     "data": {
      "text/plain": [
       "array([1., 1., 1.])"
      ]
     },
     "execution_count": 29,
     "metadata": {},
     "output_type": "execute_result"
    }
   ],
   "source": [
    "gauss_method_limited_precision(S1, b1, Pivoting.PARTIAL_PIVOTING, PRECISION)"
   ]
  },
  {
   "cell_type": "markdown",
   "metadata": {},
   "source": [
    "The result is equal to the real solution and no error were introduced by the lack of precision"
   ]
  },
  {
   "cell_type": "markdown",
   "metadata": {},
   "source": [
    "### S2\n",
    "\n",
    "The second system of equations can be solved with no pivoting. But first let's solve using the unmodified gaussian method to find the true solution"
   ]
  },
  {
   "cell_type": "code",
   "execution_count": 30,
   "metadata": {},
   "outputs": [
    {
     "data": {
      "text/plain": [
       "array([-1.5,  2. ,  1.5])"
      ]
     },
     "execution_count": 30,
     "metadata": {},
     "output_type": "execute_result"
    }
   ],
   "source": [
    "gauss_method(S2, b2, Pivoting.NO_PIVOTING)"
   ]
  },
  {
   "cell_type": "markdown",
   "metadata": {},
   "source": [
    "Now we can solve using the limited precision version"
   ]
  },
  {
   "cell_type": "code",
   "execution_count": 31,
   "metadata": {},
   "outputs": [
    {
     "data": {
      "text/plain": [
       "array([-1.5,  2. ,  1.5])"
      ]
     },
     "execution_count": 31,
     "metadata": {},
     "output_type": "execute_result"
    }
   ],
   "source": [
    "gauss_method_limited_precision(S2, b2, Pivoting.NO_PIVOTING, PRECISION)"
   ]
  },
  {
   "cell_type": "markdown",
   "metadata": {},
   "source": [
    "And now using the partial pivoting"
   ]
  },
  {
   "cell_type": "code",
   "execution_count": 32,
   "metadata": {},
   "outputs": [
    {
     "data": {
      "text/plain": [
       "array([-1.5,  2. ,  1.5])"
      ]
     },
     "execution_count": 32,
     "metadata": {},
     "output_type": "execute_result"
    }
   ],
   "source": [
    "gauss_method_limited_precision(S2, b2, Pivoting.PARTIAL_PIVOTING, PRECISION)"
   ]
  },
  {
   "cell_type": "markdown",
   "metadata": {},
   "source": [
    "In this case, the result was the same with and without pivoting, that is due to the diagonal element being the greatest element in absolute value, so no row exchange is done and the row permutation matrix is equal to the identity matrix. But let's see if using the full pivoting helps refining the result"
   ]
  },
  {
   "cell_type": "code",
   "execution_count": 33,
   "metadata": {},
   "outputs": [
    {
     "data": {
      "text/plain": [
       "array([-1.5  ,  2.   ,  1.501])"
      ]
     },
     "execution_count": 33,
     "metadata": {},
     "output_type": "execute_result"
    }
   ],
   "source": [
    "gauss_method_limited_precision(S2, b2, Pivoting.FULL_PIVOTING, PRECISION)"
   ]
  },
  {
   "cell_type": "markdown",
   "metadata": {},
   "source": [
    "The full pivoting version was a little more imprecise than the others, that is beacuse in the full pivoting version, the number 3 was choosen as the first pivot, and the operations made were 2/3 and 1/3 that results in repeating decimal values and the rounding process affected more this version in such way that the values below the main diagonal were not 0, but very close to zero values like 0.001."
   ]
  },
  {
   "cell_type": "markdown",
   "metadata": {},
   "source": [
    "### S3\n",
    "\n",
    "Let's start once again by calculating the true solution for the system using the unmodified gaussian method"
   ]
  },
  {
   "cell_type": "code",
   "execution_count": 34,
   "metadata": {},
   "outputs": [
    {
     "data": {
      "text/plain": [
       "array([1., 1., 1.])"
      ]
     },
     "execution_count": 34,
     "metadata": {},
     "output_type": "execute_result"
    }
   ],
   "source": [
    "gauss_method(S3, b3, Pivoting.NO_PIVOTING)"
   ]
  },
  {
   "cell_type": "markdown",
   "metadata": {},
   "source": [
    "Calculating using the gaussian method without pivoting and only 3 decimal places gives us the following result"
   ]
  },
  {
   "cell_type": "code",
   "execution_count": 35,
   "metadata": {},
   "outputs": [
    {
     "data": {
      "text/plain": [
       "array([1., 1., 1.])"
      ]
     },
     "execution_count": 35,
     "metadata": {},
     "output_type": "execute_result"
    }
   ],
   "source": [
    "gauss_method_limited_precision(S3, b3, Pivoting.NO_PIVOTING, PRECISION)"
   ]
  },
  {
   "cell_type": "markdown",
   "metadata": {},
   "source": [
    "Now using partial pivoting"
   ]
  },
  {
   "cell_type": "code",
   "execution_count": 36,
   "metadata": {},
   "outputs": [
    {
     "data": {
      "text/plain": [
       "array([1., 1., 1.])"
      ]
     },
     "execution_count": 36,
     "metadata": {},
     "output_type": "execute_result"
    }
   ],
   "source": [
    "gauss_method_limited_precision(S3, b3, Pivoting.PARTIAL_PIVOTING, PRECISION)"
   ]
  },
  {
   "cell_type": "code",
   "execution_count": 37,
   "metadata": {},
   "outputs": [
    {
     "data": {
      "text/plain": [
       "array([1., 1., 1.])"
      ]
     },
     "execution_count": 37,
     "metadata": {},
     "output_type": "execute_result"
    }
   ],
   "source": [
    "gauss_method_limited_precision(S3, b3, Pivoting.FULL_PIVOTING, PRECISION)"
   ]
  },
  {
   "cell_type": "markdown",
   "metadata": {},
   "source": [
    "In this case, the result using pivoting didn't change, that is beacause the operations performed by the method all used less than the specified precision (3 decimal places)"
   ]
  },
  {
   "cell_type": "markdown",
   "metadata": {},
   "source": [
    "## b) LU decomposition"
   ]
  },
  {
   "cell_type": "markdown",
   "metadata": {},
   "source": [
    "### S1\n",
    "\n",
    "The first system is not possible to solve without pivoting. Let's check if it can be solved with LU decomposition, by checking if it meet the constraints imposed by the method"
   ]
  },
  {
   "cell_type": "code",
   "execution_count": 38,
   "metadata": {},
   "outputs": [
    {
     "data": {
      "text/plain": [
       "True"
      ]
     },
     "execution_count": 38,
     "metadata": {},
     "output_type": "execute_result"
    }
   ],
   "source": [
    "is_possible_to_apply_LU_method(S1)"
   ]
  },
  {
   "cell_type": "markdown",
   "metadata": {},
   "source": [
    "As it is possible to apply the method, let's solve the system and check the result"
   ]
  },
  {
   "cell_type": "code",
   "execution_count": 39,
   "metadata": {},
   "outputs": [
    {
     "data": {
      "text/plain": [
       "array([1., 1., 1.])"
      ]
     },
     "execution_count": 39,
     "metadata": {},
     "output_type": "execute_result"
    }
   ],
   "source": [
    "lu_factoring_limited_precision(S1, b1, Pivoting.PARTIAL_PIVOTING, PRECISION)"
   ]
  },
  {
   "cell_type": "markdown",
   "metadata": {},
   "source": [
    "Comparing it to the gaussian elimination, both methods were not affected by the lack of precision on the operations and achieved the correct result"
   ]
  },
  {
   "cell_type": "markdown",
   "metadata": {},
   "source": [
    "### S2\n",
    "\n",
    "First thing to do is check if it is possible to apply the method"
   ]
  },
  {
   "cell_type": "code",
   "execution_count": 40,
   "metadata": {},
   "outputs": [
    {
     "data": {
      "text/plain": [
       "True"
      ]
     },
     "execution_count": 40,
     "metadata": {},
     "output_type": "execute_result"
    }
   ],
   "source": [
    "is_possible_to_apply_LU_method(S2)"
   ]
  },
  {
   "cell_type": "markdown",
   "metadata": {},
   "source": [
    "It is! Let's solve the system by LU decomposition"
   ]
  },
  {
   "cell_type": "code",
   "execution_count": 41,
   "metadata": {},
   "outputs": [
    {
     "data": {
      "text/plain": [
       "array([-1.5,  2. ,  1.5])"
      ]
     },
     "execution_count": 41,
     "metadata": {},
     "output_type": "execute_result"
    }
   ],
   "source": [
    "lu_factoring_limited_precision(S2, b2, Pivoting.NO_PIVOTING, PRECISION)"
   ]
  },
  {
   "cell_type": "code",
   "execution_count": 42,
   "metadata": {},
   "outputs": [
    {
     "data": {
      "text/plain": [
       "array([-1.5,  2. ,  1.5])"
      ]
     },
     "execution_count": 42,
     "metadata": {},
     "output_type": "execute_result"
    }
   ],
   "source": [
    "lu_factoring_limited_precision(S2, b2, Pivoting.PARTIAL_PIVOTING, PRECISION)"
   ]
  },
  {
   "cell_type": "code",
   "execution_count": 43,
   "metadata": {},
   "outputs": [
    {
     "data": {
      "text/plain": [
       "array([-1.5  ,  2.   ,  1.501])"
      ]
     },
     "execution_count": 43,
     "metadata": {},
     "output_type": "execute_result"
    }
   ],
   "source": [
    "lu_factoring_limited_precision(S2, b2, Pivoting.FULL_PIVOTING, PRECISION)"
   ]
  },
  {
   "cell_type": "markdown",
   "metadata": {},
   "source": [
    "As we have already seen before, for the S2 system, the partial pivoting gives the same result as no pivoting at all.\n",
    "\n",
    "The LU method was able to find the exact solution with both partial and no pivoting.\n",
    "\n",
    "The same behavior of the full pivoing being worse were noted in the LU decomposition, but that is because the first pivot choose is the number 3 and the next operations are more affected by the rounding process"
   ]
  },
  {
   "cell_type": "markdown",
   "metadata": {},
   "source": [
    "### S3\n",
    "\n",
    "Let's check if it is possible to apply the method"
   ]
  },
  {
   "cell_type": "code",
   "execution_count": 44,
   "metadata": {},
   "outputs": [
    {
     "data": {
      "text/plain": [
       "True"
      ]
     },
     "execution_count": 44,
     "metadata": {},
     "output_type": "execute_result"
    }
   ],
   "source": [
    "is_possible_to_apply_LU_method(S3)"
   ]
  },
  {
   "cell_type": "markdown",
   "metadata": {},
   "source": [
    "Solving S3 with LU decomposition"
   ]
  },
  {
   "cell_type": "code",
   "execution_count": 45,
   "metadata": {},
   "outputs": [
    {
     "data": {
      "text/plain": [
       "array([1., 1., 1.])"
      ]
     },
     "execution_count": 45,
     "metadata": {},
     "output_type": "execute_result"
    }
   ],
   "source": [
    "lu_factoring_limited_precision(S3, b3, Pivoting.NO_PIVOTING, PRECISION)"
   ]
  },
  {
   "cell_type": "code",
   "execution_count": 46,
   "metadata": {},
   "outputs": [
    {
     "data": {
      "text/plain": [
       "array([1., 1., 1.])"
      ]
     },
     "execution_count": 46,
     "metadata": {},
     "output_type": "execute_result"
    }
   ],
   "source": [
    "lu_factoring_limited_precision(S3, b3, Pivoting.PARTIAL_PIVOTING, PRECISION)"
   ]
  },
  {
   "cell_type": "code",
   "execution_count": 47,
   "metadata": {},
   "outputs": [
    {
     "data": {
      "text/plain": [
       "array([1., 1., 1.])"
      ]
     },
     "execution_count": 47,
     "metadata": {},
     "output_type": "execute_result"
    }
   ],
   "source": [
    "lu_factoring_limited_precision(S3, b3, Pivoting.FULL_PIVOTING, PRECISION)"
   ]
  },
  {
   "cell_type": "markdown",
   "metadata": {},
   "source": [
    "For this system all pivoting versions find the correct solution"
   ]
  },
  {
   "cell_type": "markdown",
   "metadata": {},
   "source": [
    "## c) Cholesky decomposition"
   ]
  },
  {
   "cell_type": "markdown",
   "metadata": {},
   "source": [
    "### S1\n",
    "\n",
    "Solving the system S1 without pivoting is not possible.\n",
    "\n",
    "Let's check if it is possible to solve using the Cholesky decomposition"
   ]
  },
  {
   "cell_type": "code",
   "execution_count": 48,
   "metadata": {},
   "outputs": [
    {
     "data": {
      "text/plain": [
       "False"
      ]
     },
     "execution_count": 48,
     "metadata": {},
     "output_type": "execute_result"
    }
   ],
   "source": [
    "is_possible_to_apply_Cholesky_method(S1)"
   ]
  },
  {
   "cell_type": "markdown",
   "metadata": {},
   "source": [
    "It is not possible to solve with Cholesky, as the method require that the matrix representing the system to be symmetric"
   ]
  },
  {
   "cell_type": "markdown",
   "metadata": {},
   "source": [
    "### S2\n",
    "\n",
    "This system falls in the same problem as the S1. But let's check if it is possible to apply the Cholesky method"
   ]
  },
  {
   "cell_type": "code",
   "execution_count": 49,
   "metadata": {},
   "outputs": [
    {
     "data": {
      "text/plain": [
       "False"
      ]
     },
     "execution_count": 49,
     "metadata": {},
     "output_type": "execute_result"
    }
   ],
   "source": [
    "is_possible_to_apply_Cholesky_method(S2)"
   ]
  },
  {
   "cell_type": "markdown",
   "metadata": {},
   "source": [
    "### S3\n",
    "\n",
    "Verifying if it's possible to apply Cholesky method"
   ]
  },
  {
   "cell_type": "code",
   "execution_count": 50,
   "metadata": {},
   "outputs": [
    {
     "data": {
      "text/plain": [
       "True"
      ]
     },
     "execution_count": 50,
     "metadata": {},
     "output_type": "execute_result"
    }
   ],
   "source": [
    "is_possible_to_apply_Cholesky_method(S3)"
   ]
  },
  {
   "cell_type": "markdown",
   "metadata": {},
   "source": [
    "This system is possible to solve with Cholesky, as it have all the requirements needed by the method"
   ]
  },
  {
   "cell_type": "code",
   "execution_count": 56,
   "metadata": {},
   "outputs": [
    {
     "data": {
      "text/plain": [
       "array([1., 1., 1.])"
      ]
     },
     "execution_count": 56,
     "metadata": {},
     "output_type": "execute_result"
    }
   ],
   "source": [
    "cholesky_method_limited_precision(S3, b3, Pivoting.NO_PIVOTING, PRECISION)"
   ]
  },
  {
   "cell_type": "markdown",
   "metadata": {},
   "source": [
    "The Cholesky method assumes a symetric matrix, so the partial pivoting is not possible, as only changing rows could end up in a non symetrical matrix that is not possible to apply the method. I've implemented the Cholesky in such manner that even with partial pivoting the code also exchange the columns using the transpose of the rows permutation matrix."
   ]
  },
  {
   "cell_type": "code",
   "execution_count": 54,
   "metadata": {},
   "outputs": [
    {
     "data": {
      "text/plain": [
       "array([0.977, 1.008, 1.006])"
      ]
     },
     "execution_count": 54,
     "metadata": {},
     "output_type": "execute_result"
    }
   ],
   "source": [
    "cholesky_method_limited_precision(S3, b3, Pivoting.PARTIAL_PIVOTING, PRECISION)"
   ]
  },
  {
   "cell_type": "code",
   "execution_count": 53,
   "metadata": {},
   "outputs": [
    {
     "data": {
      "text/plain": [
       "array([0.979, 1.007, 1.005])"
      ]
     },
     "execution_count": 53,
     "metadata": {},
     "output_type": "execute_result"
    }
   ],
   "source": [
    "cholesky_method_limited_precision(S3, b3, Pivoting.FULL_PIVOTING, PRECISION)"
   ]
  },
  {
   "cell_type": "markdown",
   "metadata": {},
   "source": [
    "The results with pivoting were worse than the non pivoting version. "
   ]
  },
  {
   "cell_type": "markdown",
   "metadata": {},
   "source": [
    "# 2"
   ]
  },
  {
   "cell_type": "code",
   "execution_count": 70,
   "metadata": {},
   "outputs": [],
   "source": [
    "S  = np.array([\n",
    "  [1.0, 1.0, 3.0],\n",
    "  [1.0, 1.0, 4.0],\n",
    "  [5.0, 2.0, 1.0]\n",
    "], np.float64)\n",
    "\n",
    "b = np.array([-2.0, -3.0, 4.0], np.float64)\n"
   ]
  },
  {
   "cell_type": "markdown",
   "metadata": {},
   "source": [
    "## a) For applying the LU decomposition it's required that the determinant of the matrix must be different from zero."
   ]
  },
  {
   "cell_type": "markdown",
   "metadata": {},
   "source": [
    "$ \\begin{matrix}\n",
    "1.0 & 1.0 & 3.0 & 1.0 & 1.0 \\\\\n",
    "\\alpha &   1.0 & 4.0 & \\alpha &   1.0 \\\\\n",
    "5.0 & 2.0 & 1.0 & 5.0 & 2.0 \\\\\n",
    "\\end{matrix}\n",
    "$\n",
    "\n",
    "$ det = 0.0 $\n",
    "\n",
    "$1.0 + 20.0 + 6.0\\alpha - 15.0 - 8.0 - \\alpha = 0.0$\n",
    "\n",
    "$5.0\\alpha - 2.0 = 0.0$\n",
    "\n",
    "$ 5.0\\alpha = 2.0 $\n",
    "\n",
    "$ \\alpha = 2.0 / 5.0 $ "
   ]
  },
  {
   "cell_type": "markdown",
   "metadata": {},
   "source": [
    "For all values of $\\alpha \\neq 0.4$ it's possible to apply the LU decomposition "
   ]
  },
  {
   "cell_type": "markdown",
   "metadata": {},
   "source": [
    "## b) It is not possible to apply Cholesky decomposition, as it require a symmetric matrix and there is no possible value of $\\alpha$ that turn the matrix into a symmetric one"
   ]
  },
  {
   "cell_type": "markdown",
   "metadata": {},
   "source": [
    "## c) Solving with Gaussian elimination without pivoting"
   ]
  },
  {
   "cell_type": "markdown",
   "metadata": {},
   "source": [
    "It's not possible to solve with Gaussian Elimination without pivoting, because on the first step the second row pivot will be zeroed and it will generate a division by zero exception"
   ]
  },
  {
   "cell_type": "markdown",
   "metadata": {},
   "source": [
    "# 3"
   ]
  },
  {
   "cell_type": "code",
   "execution_count": 107,
   "metadata": {},
   "outputs": [],
   "source": [
    "S = np.array([\n",
    "  [17.0, -2.0, -3.0],\n",
    "  [-5.0, 21.0, -2.0],\n",
    "  [-5.0, -5.0, 22.0]\n",
    "], np.float64)\n",
    "\n",
    "b = np.array([500.0, 200.0, 30.0], np.float64)"
   ]
  },
  {
   "cell_type": "markdown",
   "metadata": {},
   "source": [
    "## a) Verify Gauss Jacobi and Gauss Seidel convergency conditions"
   ]
  },
  {
   "cell_type": "code",
   "execution_count": 75,
   "metadata": {},
   "outputs": [
    {
     "data": {
      "text/plain": [
       "True"
      ]
     },
     "execution_count": 75,
     "metadata": {},
     "output_type": "execute_result"
    }
   ],
   "source": [
    "is_possible_to_apply_Jacobi_method(S)"
   ]
  },
  {
   "cell_type": "code",
   "execution_count": 76,
   "metadata": {},
   "outputs": [
    {
     "data": {
      "text/plain": [
       "True"
      ]
     },
     "execution_count": 76,
     "metadata": {},
     "output_type": "execute_result"
    }
   ],
   "source": [
    "is_possible_to_apply_Seidel_method(S)"
   ]
  },
  {
   "cell_type": "markdown",
   "metadata": {},
   "source": [
    "Both methods can be applied to the system. To apply Jacobi it's necessary that the system have an spectral radius less than one or to be diagonally dominant. For Seidel it also has to meet the Sassenfeld criteria."
   ]
  },
  {
   "cell_type": "markdown",
   "metadata": {},
   "source": [
    "## b) Apply Gauss Seidel and Gauss Jacobi to the system"
   ]
  },
  {
   "cell_type": "code",
   "execution_count": 108,
   "metadata": {},
   "outputs": [],
   "source": [
    "x_0 = np.array([34.0, 19.0, 13.0], np.float64)\n",
    "MAX_ITERATIONS = 2\n",
    "MAX_ERROR = 0.0025"
   ]
  },
  {
   "cell_type": "markdown",
   "metadata": {},
   "source": [
    "True solution"
   ]
  },
  {
   "cell_type": "code",
   "execution_count": 109,
   "metadata": {},
   "outputs": [
    {
     "data": {
      "text/plain": [
       "array([33.99631415, 18.89282676, 13.38389566])"
      ]
     },
     "execution_count": 109,
     "metadata": {},
     "output_type": "execute_result"
    }
   ],
   "source": [
    "gauss_method(S, b, Pivoting.NO_PIVOTING)"
   ]
  },
  {
   "cell_type": "markdown",
   "metadata": {},
   "source": [
    "Gaus Jacobi"
   ]
  },
  {
   "cell_type": "code",
   "execution_count": 118,
   "metadata": {},
   "outputs": [
    {
     "data": {
      "text/plain": [
       "array([33.94117647, 18.85714286, 13.40909091])"
      ]
     },
     "execution_count": 118,
     "metadata": {},
     "output_type": "execute_result"
    }
   ],
   "source": [
    "jacobi_method(S, b, x_0.copy(), MAX_ITERATIONS, MAX_ERROR)"
   ]
  },
  {
   "cell_type": "markdown",
   "metadata": {},
   "source": [
    "Gauss Seidel"
   ]
  },
  {
   "cell_type": "code",
   "execution_count": 117,
   "metadata": {},
   "outputs": [
    {
     "data": {
      "text/plain": [
       "array([33.98626402, 18.88816489, 13.38055203])"
      ]
     },
     "execution_count": 117,
     "metadata": {},
     "output_type": "execute_result"
    }
   ],
   "source": [
    "seidel_method(S, b, x_0.copy(), MAX_ITERATIONS, MAX_ERROR)"
   ]
  },
  {
   "cell_type": "markdown",
   "metadata": {},
   "source": [
    "Comparing with the exact solution provided by the gaussian elimination method. The seidel method achieved a better solution"
   ]
  },
  {
   "cell_type": "markdown",
   "metadata": {},
   "source": [
    "# 4"
   ]
  },
  {
   "cell_type": "markdown",
   "metadata": {},
   "source": [
    "# 5 Solve the non linear system with Newton Method"
   ]
  },
  {
   "cell_type": "code",
   "execution_count": 135,
   "metadata": {},
   "outputs": [
    {
     "data": {
      "text/plain": [
       "array([ 1.06999055,  1.76139911, -0.45116738])"
      ]
     },
     "execution_count": 135,
     "metadata": {},
     "output_type": "execute_result"
    }
   ],
   "source": [
    "x, y, z = sympy.symbols('x,y,z')\n",
    "\n",
    "f1 = 3.0*sympy.sin(x)  -4.0 * y -12.0 * z - 1.0\n",
    "f2 = 4.0*(x**2) - 8.0*y - 10.0*z + 5.0\n",
    "f3 = 2.0*(sympy.E ** x) + 2.0*y + 3.0*z - 8.0\n",
    "\n",
    "funcs = np.array([f1, f2, f3])\n",
    "vars = np.array([x, y, z])\n",
    "\n",
    "x_0 = np.array([0.0, 0.0, 0.0], np.float64)\n",
    "ITERATIONS = 10\n",
    "\n",
    "newton_method(generate_F_function(funcs, vars), generate_jacobi_function(funcs, vars), x_0.copy(), ITERATIONS)"
   ]
  }
 ],
 "metadata": {
  "kernelspec": {
   "display_name": "Python 3",
   "language": "python",
   "name": "python3"
  },
  "language_info": {
   "codemirror_mode": {
    "name": "ipython",
    "version": 3
   },
   "file_extension": ".py",
   "mimetype": "text/x-python",
   "name": "python",
   "nbconvert_exporter": "python",
   "pygments_lexer": "ipython3",
   "version": "3.12.4"
  }
 },
 "nbformat": 4,
 "nbformat_minor": 2
}
