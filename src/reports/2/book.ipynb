{
 "cells": [
  {
   "cell_type": "code",
   "execution_count": 19,
   "metadata": {},
   "outputs": [],
   "source": [
    "import numpy as np\n",
    "from typing import Tuple, Callable, Protocol\n",
    "from enum import Enum\n",
    "import math\n",
    "import sympy"
   ]
  },
  {
   "cell_type": "code",
   "execution_count": 3,
   "metadata": {},
   "outputs": [],
   "source": [
    "class Pivoting(Enum):\n",
    "  NO_PIVOTING = 0,\n",
    "  PARTIAL_PIVOTING = 1,\n",
    "  FULL_PIVOTING = 2\n",
    "\n",
    "def do_partial_pivoting(A: np.ndarray, b:np.ndarray) -> Tuple[np.ndarray, np.ndarray]:\n",
    "  # find hihest row value\n",
    "  index_highest_values_per_column = np.abs(A).argmax(1)\n",
    "  index_hihest_first_column = index_highest_values_per_column[0]\n",
    "\n",
    "  # Swap rows\n",
    "  A[[0, index_hihest_first_column]] = A[[index_hihest_first_column, 0]]\n",
    "  b[[0, index_hihest_first_column]] = b[[index_hihest_first_column, 0]]\n",
    "\n",
    "  return (A, b)\n",
    "\n",
    "def do_partial_pivoting_lu(upper_matrix : np.ndarray, permutation_matrix: np.ndarray) -> Tuple[np.ndarray, np.ndarray]:\n",
    "  index_highest_values_per_column = np.abs(upper_matrix).argmax(1)\n",
    "  index_hihest_first_column = index_highest_values_per_column[0]\n",
    "\n",
    "  # return a permutation matrix\n",
    "  # permutation_matrix = np.identity(len(upper_matrix))\n",
    "  permutation_matrix[[0, index_hihest_first_column]] = permutation_matrix[[index_hihest_first_column, 0]]\n",
    "\n",
    "  # Swap rows\n",
    "  upper_matrix[[0, index_hihest_first_column]] = upper_matrix[[index_hihest_first_column, 0]]\n",
    "  \n",
    "  return (upper_matrix, permutation_matrix)\n",
    "\n",
    "def do_full_pivoting(A : np.ndarray, b:np.ndarray) -> Tuple[np.ndarray, np.ndarray, int]:\n",
    "  # Find the highest value\n",
    "  highest_value = max(A.min(), A.max(), key=abs)\n",
    "  max_value = np.where(A == highest_value)\n",
    "\n",
    "  # Use the first found occurence if there is more than one\n",
    "  index_row_highest_value = max_value[0][0]\n",
    "  index_column_highest_value = max_value[1][0]\n",
    "\n",
    "  # Swap rows\n",
    "  A[[0, index_row_highest_value]] = A[[index_row_highest_value, 0]]\n",
    "  b[[0, index_row_highest_value]] = b[[index_row_highest_value, 0]]\n",
    "\n",
    "  # Swap columns\n",
    "  A[:, [0, index_column_highest_value]] = A[:, [index_column_highest_value, 0]]\n",
    "\n",
    "  return (A, b, index_column_highest_value)"
   ]
  },
  {
   "cell_type": "markdown",
   "metadata": {},
   "source": [
    "# Gaussian Elimination method\n",
    "\n",
    "This method for solving linear systems works by forming a superior triangle matrix "
   ]
  },
  {
   "cell_type": "code",
   "execution_count": 4,
   "metadata": {},
   "outputs": [],
   "source": [
    "def gauss_elimination(A: np.ndarray, b:np.ndarray, pivoting = Pivoting.NO_PIVOTING) -> np.ndarray:\n",
    "  assert len(A) == len(b)\n",
    "  assert A.shape[0] == A.shape[1]\n",
    "  exchanged_columns = []\n",
    "\n",
    "  for index_col in range(len(A)):\n",
    "    match pivoting:\n",
    "      case Pivoting.NO_PIVOTING:\n",
    "        pass\n",
    "      case Pivoting.PARTIAL_PIVOTING:\n",
    "        A[index_col:, index_col:] , b[index_col:] = do_partial_pivoting(A[index_col:, index_col:] , b[index_col:])\n",
    "      case Pivoting.FULL_PIVOTING:\n",
    "        A[index_col:, index_col:], b[index_col:], local_column_excanged = do_full_pivoting(A[index_col:, index_col:] , b[index_col:])\n",
    "        exchanged_columns.append(local_column_excanged)\n",
    "      \n",
    "    pivot = A[index_col][index_col]\n",
    "    for index_row_below in range(index_col + 1, len(A)):\n",
    "      ratio = A[index_row_below][index_col] / pivot\n",
    "      \n",
    "      for idx in range(index_col, len(A)):\n",
    "        A[index_row_below][idx] -= A[index_col][idx] * ratio\n",
    "\n",
    "      b[index_row_below] -= b[index_col] * ratio\n",
    "      \n",
    "\n",
    "  result = np.linalg.solve(A, b)\n",
    "  if pivoting == Pivoting.FULL_PIVOTING:\n",
    "    for index, excahnged in enumerate(exchanged_columns):\n",
    "      result[[index, index + excahnged]] = result[[index + excahnged, index]]\n",
    "\n",
    "  return result"
   ]
  },
  {
   "cell_type": "markdown",
   "metadata": {},
   "source": [
    "# LU Factoring Method"
   ]
  },
  {
   "cell_type": "code",
   "execution_count": 5,
   "metadata": {},
   "outputs": [],
   "source": [
    "def is_possible_to_apply_LU_method(A:np.ndarray) -> bool:\n",
    "  if A.ndim == 2 and A.shape[0] == A.shape[1]: \n",
    "    if A.shape == (0,0):\n",
    "      return True\n",
    "    return np.linalg.det(A) != 0 and is_possible_to_apply_LU_method(A[1:, 1:])\n",
    "  return False\n",
    "\n",
    "# https://jonshiach.github.io/ODEs-book/pages/5.3_LUP_decomposition.html\n",
    "def lu_factoring(A: np.ndarray, b:np.ndarray, pivoting = Pivoting.NO_PIVOTING) -> np.ndarray:\n",
    "  assert len(A) == len(b)\n",
    "  assert A.shape[0] == A.shape[1]\n",
    "  assert is_possible_to_apply_LU_method(A) == True\n",
    "\n",
    "  permutation_matrix = np.identity(len(A), np.float64)\n",
    "\n",
    "  match pivoting:\n",
    "    case Pivoting.NO_PIVOTING:\n",
    "      pass\n",
    "    case Pivoting.PARTIAL_PIVOTING:\n",
    "      # Calculate pivoting matrix\n",
    "        copy_of_A = A.copy()\n",
    "        for index_col in range(len(A)):\n",
    "          copy_of_A[index_col:, index_col:], permutation_matrix[index_col:, :]  = do_partial_pivoting_lu(copy_of_A[index_col:, index_col:], permutation_matrix[index_col:, :])\n",
    "    case Pivoting.FULL_PIVOTING:\n",
    "      raise NotImplemented(\"Not implemented for LU\")\n",
    "    \n",
    "  upper_matrix = np.dot(permutation_matrix, A.copy())\n",
    "  lower_matrix = np.identity(len(A), np.float64)\n",
    "  \n",
    "  for index_col in range(len(upper_matrix)):\n",
    "    pivot = upper_matrix[index_col, index_col] \n",
    "    \n",
    "    for index_row_below in range(index_col + 1, len(upper_matrix)):\n",
    "      ratio = upper_matrix[index_row_below, index_col]/pivot\n",
    "      lower_matrix[index_row_below, index_col] = ratio\n",
    "\n",
    "      for idx in range(index_col, len(A)):\n",
    "        upper_matrix[index_row_below, idx] -= upper_matrix[index_col, idx] * ratio\n",
    "\n",
    "  partial_result = np.linalg.solve(lower_matrix, np.dot(permutation_matrix, b))\n",
    "  result = np.linalg.solve(upper_matrix, partial_result)\n",
    "  return result"
   ]
  },
  {
   "cell_type": "markdown",
   "metadata": {},
   "source": [
    "# Cholesky method"
   ]
  },
  {
   "cell_type": "code",
   "execution_count": 6,
   "metadata": {},
   "outputs": [],
   "source": [
    "def is_possible_to_apply_Cholesky_method(A:np.ndarray) -> bool:\n",
    "  if A.ndim == 2 and A.shape[0] == A.shape[1]: \n",
    "    if A.shape == (0,0):\n",
    "      return True\n",
    "    return np.linalg.det(A) > 0.0 and np.allclose(A, A.T) and is_possible_to_apply_Cholesky_method(A[1:, 1:])\n",
    "  return False\n",
    "\n",
    "def cholesky_method(A:np.ndarray, b:np.ndarray) -> np.ndarray:\n",
    "  assert len(A) == len(b)\n",
    "  assert A.shape[0] == A.shape[1]\n",
    "  assert is_possible_to_apply_Cholesky_method(A) == True\n",
    "\n",
    "  G = np.zeros(A.shape)\n",
    "\n",
    "  for i in range(len(A)):\n",
    "    for j in range(i + 1):\n",
    "      sum = 0\n",
    "      for k in range(j):\n",
    "        sum += G[i][k] * G[j][k]\n",
    "      \n",
    "      if i == j:\n",
    "        G[i][j] = math.sqrt(A[i][i] - sum)\n",
    "      else:\n",
    "        G[i][j] = (A[i][j] - sum) / G[j][j]\n",
    "\n",
    "  G_transpose = G.T\n",
    "  y = np.linalg.solve(G, b)\n",
    "  x = np.linalg.solve(G_transpose, y)\n",
    "  return x"
   ]
  },
  {
   "cell_type": "markdown",
   "metadata": {},
   "source": [
    "# Gauss Jacobi"
   ]
  },
  {
   "cell_type": "code",
   "execution_count": 7,
   "metadata": {},
   "outputs": [],
   "source": [
    "def is_possible_to_apply_Jacobi_method(A:np.ndarray) -> bool:\n",
    "  if A.ndim == 2 and A.shape[0] == A.shape[1]: \n",
    "    spectral_radius_less_than_one = all(map(lambda x: abs(x) < 1.0, np.linalg.eigvals(A)))\n",
    "    \n",
    "    rows_criteria = all(map(lambda x: A[x, :].sum() - A[x, x] < A[x, x], range(len(A))))\n",
    "    columns_criteria = all(map(lambda x: A[:, x].sum() - A[x, x] < A[x, x], range(len(A))))\n",
    "\n",
    "    diagonally_dominant = rows_criteria or columns_criteria\n",
    "\n",
    "    return spectral_radius_less_than_one or diagonally_dominant\n",
    "  return False\n",
    "\n",
    "def jacobi_method(A:np.ndarray, b:np.ndarray, x:np.ndarray, iterations: int = 10) -> np.ndarray:\n",
    "  assert is_possible_to_apply_Jacobi_method(A) == True\n",
    "\n",
    "  for _ in range(iterations):\n",
    "    # Diagonal matrix\n",
    "    D = np.diag(np.diag(A))\n",
    "    \n",
    "    # construct a diagonal matrix where each position is 1/(diagonal element of A)\n",
    "    D_inv = np.linalg.inv(D)\n",
    "\n",
    "    x = np.dot(D_inv, b - np.dot(A - D, x))\n",
    "\n",
    "  return x"
   ]
  },
  {
   "cell_type": "markdown",
   "metadata": {},
   "source": [
    "# Gaus Seidel"
   ]
  },
  {
   "cell_type": "code",
   "execution_count": 8,
   "metadata": {},
   "outputs": [],
   "source": [
    "def is_possible_to_apply_Seidel_method(A:np.ndarray) -> bool:\n",
    "  return is_possible_to_apply_Jacobi_method(A) # and meet_sassenfeld_criterion(A)\n",
    "\n",
    "def seidel_method(A:np.ndarray, b: np.ndarray, x: np.ndarray, iterations : int = 10) -> np.ndarray:\n",
    "  assert is_possible_to_apply_Seidel_method(A) == True\n",
    "\n",
    "  for _ in range(iterations):\n",
    "    for i in range(len(A)):\n",
    "      x[i] = (b[i] - np.dot(A[i, :i], x[:i]) - np.dot(A[i, i + 1:], x[i + 1:])) / A[i, i]\n",
    "\n",
    "  return x"
   ]
  },
  {
   "cell_type": "markdown",
   "metadata": {},
   "source": [
    "# Newton's Method"
   ]
  },
  {
   "cell_type": "code",
   "execution_count": 20,
   "metadata": {},
   "outputs": [],
   "source": [
    "def is_possible_to_apply_Newton_method(A:np.ndarray) -> bool:\n",
    "  pass\n",
    "\n",
    "class Callback(Protocol) :\n",
    "  def __call__(self, *args:np.float64) -> np.float64: ...\n",
    "\n",
    "def callback(*args:np.float64) -> np.float64:\n",
    "  return args[0] * 3.0\n",
    "\n",
    "\"\"\"\n",
    "F is an one dimensional array where each entry is a function that takes n variables (Callback)\n",
    "n is the number of variables on each function\n",
    "\n",
    "Ex.:\n",
    "F = [\n",
    "  lambda x, y: x**2 + sin(y) + 3,\n",
    "  lambda x, y: sqrt(x) + y - 9,\n",
    "]\n",
    "n = 2   # x and y\n",
    "\"\"\"\n",
    "def generate_jacobi_function(F: np.ndarray[Callback], n:int) -> Callable[[np.ndarray], np.ndarray]:\n",
    "  assert F.ndim == 1\n",
    "\n",
    "  # Jacobi matrix is one that each entry is defined as a function\n",
    "  # that will return a value for a given input\n",
    "  jacobi_matrix: np.ndarray[Callable[[np.float64], np.float64]]\n",
    "\n",
    "  for row in range(len(F)):\n",
    "    for column in range(n):\n",
    "      # Calculate the partial derivative in relation to the \n",
    "      # funciton in the row_th row and the column_th variable\n",
    "      # jacobi_matrix[row, column] = np.gradient(F[row, column])\n",
    "\n",
    "  def temp(x: np.ndarray) -> np.ndarray:\n",
    "    map(jacobi_matrix, x)\n",
    "    return \n",
    "  \n",
    "  return temp\n",
    "\n",
    "def newton_method(F: Callable[[np.ndarray], np.ndarray], J: Callable[[np.ndarray], np.ndarray], x:np.ndarray, iterations: int = 10) -> np.ndarray:\n",
    "  \n",
    "  pass\n"
   ]
  },
  {
   "cell_type": "markdown",
   "metadata": {},
   "source": [
    "# Gauss with pivoting"
   ]
  },
  {
   "cell_type": "code",
   "execution_count": 10,
   "metadata": {},
   "outputs": [
    {
     "data": {
      "text/plain": [
       "array([-4.,  1.])"
      ]
     },
     "execution_count": 10,
     "metadata": {},
     "output_type": "execute_result"
    }
   ],
   "source": [
    "A = np.array([[1,-7], [5,2]], dtype=np.float64)\n",
    "b = np.array([-11,-18], dtype=np.float64)\n",
    "# Solution x=-4, y=1\n",
    "gauss_elimination(A,b, Pivoting.PARTIAL_PIVOTING)"
   ]
  },
  {
   "cell_type": "code",
   "execution_count": 11,
   "metadata": {},
   "outputs": [
    {
     "data": {
      "text/plain": [
       "array([-3.,  5.,  0.])"
      ]
     },
     "execution_count": 11,
     "metadata": {},
     "output_type": "execute_result"
    }
   ],
   "source": [
    "A = np.array([\n",
    "  [3,2,4],\n",
    "  [1,1,2],\n",
    "  [4,3,-2],], \n",
    "dtype=np.float64)\n",
    "b = np.array([1,2,3], np.float64)\n",
    "\n",
    "# {-3, 5, 0}\n",
    "lu_factoring(A, b, Pivoting.PARTIAL_PIVOTING)"
   ]
  },
  {
   "cell_type": "code",
   "execution_count": 12,
   "metadata": {},
   "outputs": [
    {
     "data": {
      "text/plain": [
       "array([-1., -4.,  3.])"
      ]
     },
     "execution_count": 12,
     "metadata": {},
     "output_type": "execute_result"
    }
   ],
   "source": [
    "# 1x + 2y - 2z = -15\n",
    "# 2x + 1y - 5z = -21\n",
    "# 1x - 4y + 1z = +18 \n",
    "# Solution {-1, -4, 3}\n",
    "\n",
    "A = np.array([\n",
    "  [1, 2, -2],\n",
    "  [2, 1, -5],\n",
    "  [1, -4, 1]\n",
    "], dtype=np.float64)\n",
    "\n",
    "b = np.array([-15, -21, 18], dtype=np.float64)\n",
    "\n",
    "gauss_elimination(A, b, Pivoting.FULL_PIVOTING)"
   ]
  },
  {
   "cell_type": "code",
   "execution_count": 13,
   "metadata": {},
   "outputs": [
    {
     "data": {
      "text/plain": [
       "array([16., -6., -2., -3.])"
      ]
     },
     "execution_count": 13,
     "metadata": {},
     "output_type": "execute_result"
    }
   ],
   "source": [
    "A = np.array([\n",
    "  [1.,    2.,     1., -1.],\n",
    "  [3./2., 1.,     2., 2.],\n",
    "  [4.,    4.,     3., 4.],\n",
    "  [2./5., 0.,  1./5., 1.]\n",
    "], dtype=np.float64)\n",
    "\n",
    "b = np.array([5., 8., 22., 3.], dtype=np.float64)\n",
    "\n",
    "# x = 16\n",
    "# y = -6\n",
    "# z = -2\n",
    "# t = -3\n",
    "\n",
    "gauss_elimination(A, b, Pivoting.FULL_PIVOTING)"
   ]
  },
  {
   "cell_type": "code",
   "execution_count": 14,
   "metadata": {},
   "outputs": [
    {
     "data": {
      "text/plain": [
       "array([1., 1., 2.])"
      ]
     },
     "execution_count": 14,
     "metadata": {},
     "output_type": "execute_result"
    }
   ],
   "source": [
    "A = np.array([\n",
    "  [1.,  1.,  0.],\n",
    "  [1.,  2., -1.],\n",
    "  [0., -1.,  3.],\n",
    "], dtype=np.float64)\n",
    "\n",
    "b = np.array([2., 1., 5.], dtype=np.float64)\n",
    "\n",
    "# x = 1\n",
    "# y = 1\n",
    "# z = 2\n",
    "\n",
    "cholesky_method(A, b)"
   ]
  },
  {
   "cell_type": "code",
   "execution_count": 15,
   "metadata": {},
   "outputs": [
    {
     "data": {
      "text/plain": [
       "array([1., 0., 1.])"
      ]
     },
     "execution_count": 15,
     "metadata": {},
     "output_type": "execute_result"
    }
   ],
   "source": [
    "A = np.array([\n",
    "  [4.,  2.,  -4.],\n",
    "  [2.,  10., 4.],\n",
    "  [-4., 4.,  9.],\n",
    "], dtype=np.float64)\n",
    "\n",
    "b = np.array([0., 6., 5.], dtype=np.float64)\n",
    "\n",
    "# x = 1\n",
    "# y = 0\n",
    "# z = 1\n",
    "\n",
    "cholesky_method(A, b)"
   ]
  },
  {
   "cell_type": "code",
   "execution_count": 16,
   "metadata": {},
   "outputs": [
    {
     "data": {
      "text/plain": [
       "array([0.63911074, 0.18195205, 0.74674592])"
      ]
     },
     "execution_count": 16,
     "metadata": {},
     "output_type": "execute_result"
    }
   ],
   "source": [
    "A = np.array([\n",
    "  [4.,  2.,  -4.],\n",
    "  [2.,  10., 4.],\n",
    "  [-4., 4.,  9.],\n",
    "], dtype=np.float64)\n",
    "\n",
    "b = np.array([0., 6., 5.], dtype=np.float64)\n",
    "\n",
    "jacobi_method(A, b, np.array([0., 0., 0.]), 20)"
   ]
  },
  {
   "cell_type": "code",
   "execution_count": 17,
   "metadata": {},
   "outputs": [
    {
     "data": {
      "text/plain": [
       "array([0.82057774, 0.08823726, 0.88104021])"
      ]
     },
     "execution_count": 17,
     "metadata": {},
     "output_type": "execute_result"
    }
   ],
   "source": [
    "A = np.array([\n",
    "  [4.,  2.,  -4.],\n",
    "  [2.,  10., 4.],\n",
    "  [-4., 4.,  9.],\n",
    "], dtype=np.float64)\n",
    "\n",
    "b = np.array([0., 6., 5.], dtype=np.float64)\n",
    "\n",
    "seidel_method(A, b, np.array([0., 0., 0.]), 20)"
   ]
  }
 ],
 "metadata": {
  "kernelspec": {
   "display_name": "Python 3",
   "language": "python",
   "name": "python3"
  },
  "language_info": {
   "codemirror_mode": {
    "name": "ipython",
    "version": 3
   },
   "file_extension": ".py",
   "mimetype": "text/x-python",
   "name": "python",
   "nbconvert_exporter": "python",
   "pygments_lexer": "ipython3",
   "version": "3.10.12"
  }
 },
 "nbformat": 4,
 "nbformat_minor": 2
}
