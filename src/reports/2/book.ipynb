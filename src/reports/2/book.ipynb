{
 "cells": [
  {
   "cell_type": "code",
   "execution_count": 2,
   "metadata": {},
   "outputs": [],
   "source": [
    "import numpy as np"
   ]
  },
  {
   "cell_type": "markdown",
   "metadata": {},
   "source": [
    "# Gaussian Elimination method\n",
    "\n",
    "This method for solving linear systems works by forming a superior triangle matrix "
   ]
  },
  {
   "cell_type": "code",
   "execution_count": 19,
   "metadata": {},
   "outputs": [],
   "source": [
    "def gauss_elimination(A: np.ndarray, b:np.ndarray) -> np.ndarray:\n",
    "  assert len(A) == len(b)\n",
    "  assert A.shape[0] == A.shape[1]\n",
    "\n",
    "  for index_col in range(len(A)):\n",
    "    pivot = A[index_col][index_col]\n",
    "\n",
    "    for index_row_below in range(index_col + 1, len(A)):\n",
    "      ratio = A[index_row_below][index_col] / pivot\n",
    "      \n",
    "      for idx in range(index_col, len(A)):\n",
    "        A[index_row_below][idx] -= A[index_row_below][idx] * ratio\n",
    "\n",
    "      b[index_row_below] -= b[index_row_below] * ratio\n",
    "      \n",
    "\n",
    "  return np.linalg.solve(A, b)"
   ]
  },
  {
   "cell_type": "code",
   "execution_count": 25,
   "metadata": {},
   "outputs": [
    {
     "data": {
      "text/plain": [
       "array([-4.,  1.])"
      ]
     },
     "execution_count": 25,
     "metadata": {},
     "output_type": "execute_result"
    }
   ],
   "source": [
    "A = np.array([[1,-7], [5,2]])\n",
    "b = np.array([-11,-18])\n",
    "# Solution x=-4, y=1\n",
    "gauss_elimination(A,b)"
   ]
  }
 ],
 "metadata": {
  "kernelspec": {
   "display_name": "Python 3",
   "language": "python",
   "name": "python3"
  },
  "language_info": {
   "codemirror_mode": {
    "name": "ipython",
    "version": 3
   },
   "file_extension": ".py",
   "mimetype": "text/x-python",
   "name": "python",
   "nbconvert_exporter": "python",
   "pygments_lexer": "ipython3",
   "version": "3.10.12"
  }
 },
 "nbformat": 4,
 "nbformat_minor": 2
}
