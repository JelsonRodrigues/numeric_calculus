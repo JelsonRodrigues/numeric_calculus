{
 "cells": [
  {
   "cell_type": "code",
   "execution_count": 1,
   "metadata": {},
   "outputs": [],
   "source": [
    "import pandas as pd\n",
    "import matplotlib.pyplot as plt\n",
    "import numpy as np\n",
    "import sympy as sp\n",
    "import math\n",
    "from typing import Callable, Tuple, List"
   ]
  },
  {
   "cell_type": "markdown",
   "metadata": {},
   "source": [
    "# Langrange interpolation"
   ]
  },
  {
   "cell_type": "code",
   "execution_count": 2,
   "metadata": {},
   "outputs": [],
   "source": [
    "def lagrange_polynomial(x_values:np.ndarray, y_values:np.ndarray) -> sp.Expr:\n",
    "    n = len(x_values)\n",
    "    x = sp.symbols('x')\n",
    "    polynomial = 0\n",
    "    for i in range(n):\n",
    "        L = 1\n",
    "        for j in range(n):\n",
    "            if i != j:\n",
    "                L *= (x - x_values[j])/(x_values[i] - x_values[j])\n",
    "        polynomial += y_values[i] * L\n",
    "    return polynomial"
   ]
  },
  {
   "cell_type": "markdown",
   "metadata": {},
   "source": [
    "## Tests for Lagrange interpolation method"
   ]
  },
  {
   "cell_type": "code",
   "execution_count": 3,
   "metadata": {},
   "outputs": [
    {
     "data": {
      "text/latex": [
       "$\\displaystyle 0.666666666666667 x^{2} - 2.33333333333333 x + 1.0$"
      ],
      "text/plain": [
       "0.666666666666667*x**2 - 2.33333333333333*x + 1.0"
      ]
     },
     "execution_count": 3,
     "metadata": {},
     "output_type": "execute_result"
    }
   ],
   "source": [
    "x = np.array([-1, 0, 2], np.float64)\n",
    "y = np.array([4, 1, -1], np.float64)\n",
    "\n",
    "polynomial = lagrange_polynomial(x, y)\n",
    "polynomial.simplify()"
   ]
  },
  {
   "cell_type": "markdown",
   "metadata": {},
   "source": [
    "# Newton interpolation"
   ]
  },
  {
   "cell_type": "code",
   "execution_count": 4,
   "metadata": {},
   "outputs": [],
   "source": [
    "def divided_difference(x_values:np.ndarray, y_values:np.ndarray) -> sp.Expr:\n",
    "    n = len(x_values)\n",
    "    if n == 1:\n",
    "        return y_values[0]\n",
    "    return (divided_difference(x_values[1:], y_values[1:]) - divided_difference(x_values[:-1], y_values[:-1]))/(x_values[-1] - x_values[0])\n",
    "\n",
    "def newton_interpolation(x_values:np.ndarray, y_values:np.ndarray) -> sp.Expr:\n",
    "    n = len(x_values)\n",
    "    x = sp.symbols('x')\n",
    "    polynomial = y_values[0]\n",
    "    for i in range(1, n):\n",
    "        L = 1\n",
    "        for j in range(i):\n",
    "            L *= (x - x_values[j])\n",
    "        polynomial += L * divided_difference(x_values[:i+1], y_values[:i+1])\n",
    "    return polynomial\n"
   ]
  },
  {
   "cell_type": "markdown",
   "metadata": {},
   "source": [
    "# Tests for Newton interpolation"
   ]
  },
  {
   "cell_type": "code",
   "execution_count": 5,
   "metadata": {},
   "outputs": [
    {
     "data": {
      "text/latex": [
       "$\\displaystyle 0.666666666666667 x^{2} - 2.33333333333333 x + 1.0$"
      ],
      "text/plain": [
       "0.666666666666667*x**2 - 2.33333333333333*x + 1.0"
      ]
     },
     "execution_count": 5,
     "metadata": {},
     "output_type": "execute_result"
    }
   ],
   "source": [
    "x = np.array([-1, 0, 2], np.float64)\n",
    "y = np.array([4, 1, -1], np.float64)\n",
    "\n",
    "polynomial = newton_interpolation(x, y)\n",
    "polynomial.simplify()"
   ]
  },
  {
   "cell_type": "markdown",
   "metadata": {},
   "source": [
    "# Splines"
   ]
  },
  {
   "cell_type": "code",
   "execution_count": 6,
   "metadata": {},
   "outputs": [],
   "source": [
    "class Spline:\n",
    "    def __init__(self):\n",
    "        self.curves = []\n",
    "        \n",
    "    def add_curve(self, curve : Callable[[float], float], x_lim_inf : float, x_lim_sup : float):\n",
    "        left = 0\n",
    "        right = len(self.curves) - 1\n",
    "        while left <= right:\n",
    "            mid = left + (right - left) // 2\n",
    "            if self.curves[mid]['x_lim_inf'] == x_lim_inf:\n",
    "                raise ValueError('A curve with the same x_lim_inf already exists')\n",
    "            elif self.curves[mid]['x_lim_inf'] < x_lim_inf:\n",
    "                left = mid + 1\n",
    "            else:\n",
    "                right = mid - 1\n",
    "\n",
    "        self.curves.insert(left, {'curve': curve, 'x_lim_inf': x_lim_inf, 'x_lim_sup': x_lim_sup})\n",
    "\n",
    "    def evaluate(self, x : float) -> float:\n",
    "        # Find the curve that contains x by doing a binary search\n",
    "        # if no such curve exists it will raise an error\n",
    "\n",
    "        left = 0\n",
    "        right = len(self.curves) - 1\n",
    "\n",
    "        while left <= right:\n",
    "            mid = left + (right - left) // 2\n",
    "            if self.curves[mid]['x_lim_inf'] <= x <= self.curves[mid]['x_lim_sup']:\n",
    "                # return self.curves[mid]['curve'].subs('x', x)\n",
    "                return self.curves[mid]['curve'](x)\n",
    "            elif self.curves[mid]['x_lim_inf'] < x:\n",
    "                left = mid + 1\n",
    "            else:\n",
    "                right = mid - 1\n",
    "\n",
    "        raise ValueError('No curve found for x')"
   ]
  },
  {
   "cell_type": "code",
   "execution_count": 7,
   "metadata": {},
   "outputs": [
    {
     "data": {
      "text/plain": [
       "25.0"
      ]
     },
     "execution_count": 7,
     "metadata": {},
     "output_type": "execute_result"
    }
   ],
   "source": [
    "x_values = np.array([1, 2, 5, 7], np.float64)\n",
    "y_values = np.array([1, 2, 3, 25], np.float64)\n",
    "\n",
    "n = len(x_values)\n",
    "\n",
    "spline = Spline()\n",
    "\n",
    "for i in range(n - 1):\n",
    "    x0, x1 = x_values[i], x_values[i + 1]\n",
    "    y0, y1 = y_values[i], y_values[i + 1]\n",
    "    curve = lambda x, x0=x0, x1=x1, y0=y0, y1=y1: y0 + (y1 - y0)/(x1 - x0) * (x - x0)\n",
    "    spline.add_curve(curve, x0, x1)\n",
    "\n",
    "spline.evaluate(7)"
   ]
  },
  {
   "cell_type": "code",
   "execution_count": 8,
   "metadata": {},
   "outputs": [],
   "source": [
    "def cubic_natural_curve(x_values:np.ndarray, y_values:np.ndarray) -> List[Callable[[float], float]]:\n",
    "    n = len(x_values)\n",
    "    h = x_values[1] - x_values[0]\n",
    "    a = y_values[0]\n",
    "    b = (y_values[1] - y_values[0])/h\n",
    "    c = 0\n",
    "    d = 0\n",
    "    curves = []\n",
    "\n",
    "    # First curve is a special case, it's a linear curve\n",
    "    curve = lambda x, a=a, b=b, x0=x_values[0]: a + b * (x - x0)\n",
    "    curves.append(curve)\n",
    "\n",
    "    for i in range(1, n - 1):\n",
    "        h = x_values[i] - x_values[i - 1]\n",
    "        a = y_values[i - 1]\n",
    "        b = (y_values[i] - y_values[i - 1])/h\n",
    "        c = (y_values[i - 1] - 2 * y_values[i] + y_values[i + 1])/h**2\n",
    "        d = (y_values[i] - y_values[i - 1])/(h**3)\n",
    "        curve = lambda x, a=a, b=b, c=c, d=d, x0=x_values[i]: a + b * (x - x0) + c * (x - x0)**2 + d * (x - x0)**3\n",
    "        curves.append(curve)\n",
    "    return curves"
   ]
  },
  {
   "cell_type": "code",
   "execution_count": 9,
   "metadata": {},
   "outputs": [
    {
     "data": {
      "text/plain": [
       "2.5"
      ]
     },
     "execution_count": 9,
     "metadata": {},
     "output_type": "execute_result"
    }
   ],
   "source": [
    "x_values = np.array([3, 4.5, 7, 9], np.float64)\n",
    "y_values = np.array([2.5, 1.0, 2.5, 0.5], np.float64)\n",
    "\n",
    "curves = cubic_natural_curve(x_values, y_values)\n",
    "\n",
    "spline = Spline()\n",
    "\n",
    "for i, curve in enumerate(curves):\n",
    "    spline.add_curve(curve, x_values[i], x_values[i + 1])\n",
    "\n",
    "spline.evaluate(4.5)"
   ]
  },
  {
   "cell_type": "markdown",
   "metadata": {},
   "source": [
    "# Function adjustment"
   ]
  },
  {
   "cell_type": "code",
   "execution_count": 10,
   "metadata": {},
   "outputs": [],
   "source": [
    "def linear_regression(x_values:np.ndarray, y_values:np.ndarray) -> Callable[[float], float]:\n",
    "    x_mean = np.mean(x_values)\n",
    "    y_mean = np.mean(y_values)\n",
    "    x_diff = x_values - x_mean\n",
    "    y_diff = y_values - y_mean\n",
    "    m = np.sum(x_diff * y_diff)/np.sum(x_diff**2)\n",
    "    c = y_mean - m * x_mean\n",
    "    return lambda x, m=m, c=c: m * x + c"
   ]
  },
  {
   "cell_type": "code",
   "execution_count": 11,
   "metadata": {},
   "outputs": [],
   "source": [
    "def exponential_regression(x_values:np.ndarray, y_values:np.ndarray, \n",
    "                          x_fun: Callable[[float], float] = lambda x: x,\n",
    "                          y_fun: Callable[[float], float] = lambda y: y,\n",
    "                          a_fun: Callable[[float], float] = lambda a: a, \n",
    "                          b_fun: Callable[[float], float] = lambda b: b) -> Callable[[float], float]:\n",
    "    x_values = x_fun(x_values)\n",
    "    y_values = y_fun(y_values)\n",
    "\n",
    "    x_sum = np.sum(x_values)\n",
    "    y_sum = np.sum(y_values)\n",
    "    x_times_y_sum = np.sum(x_values * y_values)\n",
    "    x_squared_sum = np.sum(x_values**2)\n",
    "\n",
    "    a = (len(x_values) * x_times_y_sum - x_sum * y_sum)/(len(x_values) * x_squared_sum - x_sum**2)\n",
    "    b = (y_sum - a * x_sum)/len(x_values)\n",
    "\n",
    "    return (a_fun(a), b_fun(b))"
   ]
  },
  {
   "cell_type": "code",
   "execution_count": 12,
   "metadata": {},
   "outputs": [
    {
     "data": {
      "text/plain": [
       "5.344462061821694"
      ]
     },
     "execution_count": 12,
     "metadata": {},
     "output_type": "execute_result"
    }
   ],
   "source": [
    "x_values = np.array([1, 2, 3, 4], np.float64)\n",
    "y_values = np.array([3, 5, 6, 8], np.float64)\n",
    "\n",
    "identity_function = lambda x: x\n",
    "a, b = exponential_regression(x_values, y_values, identity_function, np.log, identity_function, np.exp)\n",
    "\n",
    "# y = b * exp(a * x)\n",
    "\n",
    "y = lambda x, a=a, b=b: b * np.exp(a * x)\n",
    "\n",
    "y(2.6)"
   ]
  },
  {
   "cell_type": "markdown",
   "metadata": {},
   "source": [
    "# Exercises"
   ]
  },
  {
   "cell_type": "markdown",
   "metadata": {},
   "source": [
    "# 1 - A car traveled between two cities that are 160 Km apart in 2h20min. The values below have the time and distance traveled in discrete intervals."
   ]
  },
  {
   "cell_type": "code",
   "execution_count": 13,
   "metadata": {},
   "outputs": [],
   "source": [
    "time = np.array([0, 10, 30, 60, 90, 120, 140], np.float64)\n",
    "distance = np.array([0, 8, 27, 58, 100, 145, 160], np.float64)"
   ]
  },
  {
   "cell_type": "markdown",
   "metadata": {},
   "source": [
    "## a) What was the approximate traveled distance by the car in the first 45 minutes considering only the first 4 points"
   ]
  },
  {
   "cell_type": "code",
   "execution_count": 31,
   "metadata": {},
   "outputs": [
    {
     "data": {
      "text/latex": [
       "$\\displaystyle 42.5625$"
      ],
      "text/plain": [
       "42.5625000000000"
      ]
     },
     "execution_count": 31,
     "metadata": {},
     "output_type": "execute_result"
    }
   ],
   "source": [
    "l_pol = lagrange_polynomial(time[:4], distance[:4])\n",
    "n_pol = newton_interpolation(time[:4], distance[:4])\n",
    "\n",
    "l_result = l_pol.subs('x', 45)\n",
    "n_result = n_pol.subs('x', 45)\n",
    "\n",
    "# Results are the same\n",
    "assert l_result - n_result < 1e-10\n",
    "\n",
    "l_result"
   ]
  },
  {
   "cell_type": "markdown",
   "metadata": {},
   "source": [
    "The results are the same, as they should be and the result is inside the interval expected\n",
    "\n",
    "$ x \\in [30; 60] $\n",
    "\n",
    "$ y \\in [27; 58] $\n",
    "\n",
    "$ g(45) = 42.5625 $"
   ]
  },
  {
   "cell_type": "markdown",
   "metadata": {},
   "source": [
    "## b) How long the car took to arrive at half the destination"
   ]
  },
  {
   "cell_type": "markdown",
   "metadata": {},
   "source": [
    "To obtain the time, the values inputed for both $x$ and $y$ are inverted, the $x$ values will be the traveled distance and the $y$ values will be the time "
   ]
  },
  {
   "cell_type": "code",
   "execution_count": 32,
   "metadata": {},
   "outputs": [
    {
     "data": {
      "text/latex": [
       "$\\displaystyle 77.8354988011719$"
      ],
      "text/plain": [
       "77.8354988011719"
      ]
     },
     "execution_count": 32,
     "metadata": {},
     "output_type": "execute_result"
    }
   ],
   "source": [
    "half_destination = distance[-1] / 2\n",
    "\n",
    "l_pol = lagrange_polynomial(distance, time)\n",
    "n_pol = lagrange_polynomial(distance, time)\n",
    "\n",
    "l_result = l_pol.subs('x', half_destination)\n",
    "n_result = n_pol.subs('x', half_destination)\n",
    "\n",
    "# Results are equal within a 1/(10^10) error\n",
    "assert l_result - n_result < 1e-10\n",
    "\n",
    "n_result"
   ]
  },
  {
   "cell_type": "markdown",
   "metadata": {},
   "source": [
    "The obtained result is inside the value expected. For traveling 80Km, the car took approximately 78 minutes."
   ]
  },
  {
   "cell_type": "markdown",
   "metadata": {},
   "source": [
    "# 2 - A wire has the following resistivity (Ohms) according to the lenght (m)"
   ]
  },
  {
   "cell_type": "code",
   "execution_count": 33,
   "metadata": {},
   "outputs": [],
   "source": [
    "lenght = np.array([500, 1000, 1500, 2000, 2500, 3000, 3500, 4000], np.float64)\n",
    "resistivity = np.array([2.74, 5.48, 7.90, 11.00, 13.93, 16.43, 20.24, 23.52], np.float64)"
   ]
  },
  {
   "cell_type": "markdown",
   "metadata": {},
   "source": [
    "Using polinommyals of degree 2 and 3, calculate the aproximation to the risistivity in with the given lenght"
   ]
  },
  {
   "cell_type": "markdown",
   "metadata": {},
   "source": [
    "## a) 1730m"
   ]
  },
  {
   "cell_type": "markdown",
   "metadata": {},
   "source": [
    "First using a degree 2 polinomyal using 3 points, $ [1000, 1500, 2000] $"
   ]
  },
  {
   "cell_type": "code",
   "execution_count": 34,
   "metadata": {},
   "outputs": [
    {
     "data": {
      "text/latex": [
       "$\\displaystyle 9.241544$"
      ],
      "text/plain": [
       "9.24154400000000"
      ]
     },
     "execution_count": 34,
     "metadata": {},
     "output_type": "execute_result"
    }
   ],
   "source": [
    "l_pol = lagrange_polynomial(lenght[1:4], resistivity[1:4])\n",
    "n_pol = newton_interpolation(lenght[1:4], resistivity[1:4])\n",
    "\n",
    "l_result = l_pol.subs('x', 1730)\n",
    "n_result = n_pol.subs('x', 1730)\n",
    "\n",
    "# Results are the same\n",
    "assert l_result - n_result < 1e-10\n",
    "\n",
    "l_result"
   ]
  },
  {
   "cell_type": "markdown",
   "metadata": {},
   "source": [
    "Now using the degree 3 polinomyal, using 4 points $ [500, 1000, 1500, 2000] $"
   ]
  },
  {
   "cell_type": "code",
   "execution_count": 35,
   "metadata": {},
   "outputs": [
    {
     "data": {
      "text/latex": [
       "$\\displaystyle 9.1811$"
      ],
      "text/plain": [
       "9.18110000000000"
      ]
     },
     "execution_count": 35,
     "metadata": {},
     "output_type": "execute_result"
    }
   ],
   "source": [
    "l_pol = lagrange_polynomial(lenght[:4], resistivity[:4])\n",
    "n_pol = newton_interpolation(lenght[:4], resistivity[:4])\n",
    "\n",
    "l_result = l_pol.subs('x', 1730)\n",
    "n_result = n_pol.subs('x', 1730)\n",
    "\n",
    "# Results are the same\n",
    "assert l_result - n_result < 1e-10\n",
    "\n",
    "l_result"
   ]
  },
  {
   "cell_type": "markdown",
   "metadata": {},
   "source": [
    "In both cases the result is inside the interval expected for the input value, the result should be between $[7.9; 11.0]$ as the input is between $[1500; 2000]$"
   ]
  },
  {
   "cell_type": "markdown",
   "metadata": {},
   "source": [
    "## b) 3200m"
   ]
  },
  {
   "cell_type": "markdown",
   "metadata": {},
   "source": [
    "Solving using the degree 2 polynomial considering the 3 points $[2500, 3000, 3500]$"
   ]
  },
  {
   "cell_type": "code",
   "execution_count": 36,
   "metadata": {},
   "outputs": [
    {
     "data": {
      "text/latex": [
       "$\\displaystyle 17.7968$"
      ],
      "text/plain": [
       "17.7968000000000"
      ]
     },
     "execution_count": 36,
     "metadata": {},
     "output_type": "execute_result"
    }
   ],
   "source": [
    "l_pol = lagrange_polynomial(lenght[4:7], resistivity[4:7])\n",
    "n_pol = newton_interpolation(lenght[4:7], resistivity[4:7])\n",
    "\n",
    "l_result = l_pol.subs('x', 3200)\n",
    "n_result = n_pol.subs('x', 3200)\n",
    "\n",
    "# Results are the same\n",
    "assert l_result - n_result < 1e-10\n",
    "\n",
    "l_result"
   ]
  },
  {
   "cell_type": "markdown",
   "metadata": {},
   "source": [
    "Result is inside the expected range for the input $[16.43;20.24]$"
   ]
  },
  {
   "cell_type": "markdown",
   "metadata": {},
   "source": [
    "Now calculating using the degree 3 polynomial, considering the points $[2500, 3000, 3500, 4000]$"
   ]
  },
  {
   "cell_type": "code",
   "execution_count": 37,
   "metadata": {},
   "outputs": [
    {
     "data": {
      "text/latex": [
       "$\\displaystyle 17.89984$"
      ],
      "text/plain": [
       "17.8998400000000"
      ]
     },
     "execution_count": 37,
     "metadata": {},
     "output_type": "execute_result"
    }
   ],
   "source": [
    "l_pol = lagrange_polynomial(lenght[4:], resistivity[4:])\n",
    "n_pol = newton_interpolation(lenght[4:], resistivity[4:])\n",
    "\n",
    "l_result = l_pol.subs('x', 3200)\n",
    "n_result = n_pol.subs('x', 3200)\n",
    "\n",
    "# Results are the same\n",
    "assert l_result - n_result < 1e-10\n",
    "\n",
    "l_result"
   ]
  },
  {
   "cell_type": "markdown",
   "metadata": {},
   "source": [
    "The result found is inside the expected interval using a degree 3 polynomial to interpolate the points"
   ]
  },
  {
   "cell_type": "markdown",
   "metadata": {},
   "source": [
    "# 3 -"
   ]
  },
  {
   "cell_type": "markdown",
   "metadata": {},
   "source": [
    "# 4 - The number of bacteria by unit of volume is given in by hours "
   ]
  },
  {
   "cell_type": "code",
   "execution_count": 38,
   "metadata": {},
   "outputs": [],
   "source": [
    "hours = np.array([0, 1, 2, 3, 4, 5, 6], np.float64)\n",
    "number_of_bacteria = np.array([32, 47, 65, 92, 132, 190, 275], np.float64)"
   ]
  },
  {
   "cell_type": "markdown",
   "metadata": {},
   "source": [
    "## a) Make the scatter plot of the data"
   ]
  },
  {
   "cell_type": "code",
   "execution_count": 39,
   "metadata": {},
   "outputs": [
    {
     "data": {
      "image/png": "[encoded data removed]",
      "text/plain": [
       "<Figure size 640x480 with 1 Axes>"
      ]
     },
     "metadata": {},
     "output_type": "display_data"
    }
   ],
   "source": [
    "plt.scatter(hours, number_of_bacteria)\n",
    "plt.show()"
   ]
  },
  {
   "cell_type": "markdown",
   "metadata": {},
   "source": [
    "By analizing the scatter plot, the values appear to show an exponential form"
   ]
  },
  {
   "cell_type": "markdown",
   "metadata": {},
   "source": [
    "## b) Use the function adjustment to adjust the curves $ y = ab^x $ and $y=ax^b$"
   ]
  },
  {
   "cell_type": "markdown",
   "metadata": {},
   "source": [
    "$y = ab^x$"
   ]
  },
  {
   "cell_type": "code",
   "execution_count": 71,
   "metadata": {},
   "outputs": [
    {
     "data": {
      "text/plain": [
       "[32.1468513163175,\n",
       " 45.87223257677207,\n",
       " 65.45778623455297,\n",
       " 93.40556450043047,\n",
       " 133.2858928100849,\n",
       " 190.193478484888,\n",
       " 271.3982590019799]"
      ]
     },
     "execution_count": 71,
     "metadata": {},
     "output_type": "execute_result"
    }
   ],
   "source": [
    "i = lambda v : v\n",
    "a, b = exponential_regression(\n",
    "  x_values=hours, \n",
    "  y_values=number_of_bacteria,\n",
    "  x_fun=i,\n",
    "  y_fun=np.log,\n",
    "  a_fun=np.exp,\n",
    "  b_fun=np.exp\n",
    "  )\n",
    "\n",
    "# g(x) = b * a ^ x\n",
    "y = lambda x, a=a, b=b: b * np.power(a, x)\n",
    "\n",
    "list(map(y, hours))"
   ]
  },
  {
   "cell_type": "markdown",
   "metadata": {},
   "source": [
    "$ y = ax^b$"
   ]
  },
  {
   "cell_type": "code",
   "execution_count": 77,
   "metadata": {},
   "outputs": [
    {
     "data": {
      "text/plain": [
       "[3.659417456986258,\n",
       " 22.49285662413486,\n",
       " 65.06765383927083,\n",
       " 138.2538628239886,\n",
       " 248.06202462177376,\n",
       " 399.94273019642884]"
      ]
     },
     "execution_count": 77,
     "metadata": {},
     "output_type": "execute_result"
    }
   ],
   "source": [
    "#g(x) = b *  x^a\n",
    "i = lambda v : v\n",
    "a, b = exponential_regression(\n",
    "  x_values=hours[1:], \n",
    "  y_values=number_of_bacteria[1:],\n",
    "  x_fun=np.log,\n",
    "  y_fun=np.log,\n",
    "  a_fun=np.exp,\n",
    "  b_fun=i\n",
    "  )\n",
    "\n",
    "# g(x) = b * a ^ x\n",
    "y = lambda x, a=a, b=b: b * np.power(x, a)\n",
    "\n",
    "list(map(y, hours[1:]))"
   ]
  },
  {
   "cell_type": "code",
   "execution_count": 78,
   "metadata": {},
   "outputs": [
    {
     "data": {
      "text/plain": [
       "[0.0,\n",
       " 32.1468513163175,\n",
       " 86.43623564101127,\n",
       " 154.15968619061968,\n",
       " 232.40916375521013,\n",
       " 319.5507524307597,\n",
       " 414.50351795894517]"
      ]
     },
     "execution_count": 78,
     "metadata": {},
     "output_type": "execute_result"
    }
   ],
   "source": [
    "#g(x) = b *  x^a\n",
    "\n",
    "# certa\n",
    "i = lambda v : v\n",
    "a, b = exponential_regression(\n",
    "  x_values=hours, \n",
    "  y_values=number_of_bacteria,\n",
    "  x_fun=i,\n",
    "  y_fun=np.log,\n",
    "  a_fun=np.exp,\n",
    "  b_fun=np.exp\n",
    "  )\n",
    "\n",
    "# g(x) = b * a ^ x\n",
    "y = lambda x, a=a, b=b: b * np.power(x, a)\n",
    "\n",
    "list(map(y, hours))"
   ]
  }
 ],
 "metadata": {
  "kernelspec": {
   "display_name": "Python 3",
   "language": "python",
   "name": "python3"
  },
  "language_info": {
   "codemirror_mode": {
    "name": "ipython",
    "version": 3
   },
   "file_extension": ".py",
   "mimetype": "text/x-python",
   "name": "python",
   "nbconvert_exporter": "python",
   "pygments_lexer": "ipython3",
   "version": "3.10.12"
  }
 },
 "nbformat": 4,
 "nbformat_minor": 2
}
