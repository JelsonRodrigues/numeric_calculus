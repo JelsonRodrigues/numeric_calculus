{
 "cells": [
  {
   "cell_type": "code",
   "execution_count": 1,
   "metadata": {},
   "outputs": [],
   "source": [
    "import pandas as pd\n",
    "import matplotlib.pyplot as plt\n",
    "import numpy as np\n",
    "import sympy as sp\n",
    "import math\n",
    "from typing import Callable, Tuple, List"
   ]
  },
  {
   "cell_type": "markdown",
   "metadata": {},
   "source": [
    "# Langrange interpolation"
   ]
  },
  {
   "cell_type": "code",
   "execution_count": 2,
   "metadata": {},
   "outputs": [],
   "source": [
    "def lagrange_polynomial(x_values:np.ndarray, y_values:np.ndarray) -> sp.Expr:\n",
    "    n = len(x_values)\n",
    "    x = sp.symbols('x')\n",
    "    polynomial = 0\n",
    "    for i in range(n):\n",
    "        L = 1\n",
    "        for j in range(n):\n",
    "            if i != j:\n",
    "                L *= (x - x_values[j])/(x_values[i] - x_values[j])\n",
    "        polynomial += y_values[i] * L\n",
    "    return polynomial"
   ]
  },
  {
   "cell_type": "markdown",
   "metadata": {},
   "source": [
    "## Tests for Lagrange interpolation method"
   ]
  },
  {
   "cell_type": "code",
   "execution_count": 3,
   "metadata": {},
   "outputs": [
    {
     "data": {
      "text/latex": [
       "$\\displaystyle 0.666666666666667 x^{2} - 2.33333333333333 x + 1.0$"
      ],
      "text/plain": [
       "0.666666666666667*x**2 - 2.33333333333333*x + 1.0"
      ]
     },
     "execution_count": 3,
     "metadata": {},
     "output_type": "execute_result"
    }
   ],
   "source": [
    "x = np.array([-1, 0, 2], np.float64)\n",
    "y = np.array([4, 1, -1], np.float64)\n",
    "\n",
    "polynomial = lagrange_polynomial(x, y)\n",
    "polynomial.simplify()"
   ]
  },
  {
   "cell_type": "markdown",
   "metadata": {},
   "source": [
    "# Newton interpolation"
   ]
  },
  {
   "cell_type": "code",
   "execution_count": 4,
   "metadata": {},
   "outputs": [],
   "source": [
    "def divided_difference(x_values:np.ndarray, y_values:np.ndarray) -> sp.Expr:\n",
    "    n = len(x_values)\n",
    "    if n == 1:\n",
    "        return y_values[0]\n",
    "    return (divided_difference(x_values[1:], y_values[1:]) - divided_difference(x_values[:-1], y_values[:-1]))/(x_values[-1] - x_values[0])\n",
    "\n",
    "def newton_interpolation(x_values:np.ndarray, y_values:np.ndarray) -> sp.Expr:\n",
    "    n = len(x_values)\n",
    "    x = sp.symbols('x')\n",
    "    polynomial = y_values[0]\n",
    "    for i in range(1, n):\n",
    "        L = 1\n",
    "        for j in range(i):\n",
    "            L *= (x - x_values[j])\n",
    "        polynomial += L * divided_difference(x_values[:i+1], y_values[:i+1])\n",
    "    return polynomial\n"
   ]
  },
  {
   "cell_type": "markdown",
   "metadata": {},
   "source": [
    "# Tests for Newton interpolation"
   ]
  },
  {
   "cell_type": "code",
   "execution_count": 5,
   "metadata": {},
   "outputs": [
    {
     "data": {
      "text/latex": [
       "$\\displaystyle 0.666666666666667 x^{2} - 2.33333333333333 x + 1.0$"
      ],
      "text/plain": [
       "0.666666666666667*x**2 - 2.33333333333333*x + 1.0"
      ]
     },
     "execution_count": 5,
     "metadata": {},
     "output_type": "execute_result"
    }
   ],
   "source": [
    "x = np.array([-1, 0, 2], np.float64)\n",
    "y = np.array([4, 1, -1], np.float64)\n",
    "\n",
    "polynomial = newton_interpolation(x, y)\n",
    "polynomial.simplify()"
   ]
  },
  {
   "cell_type": "markdown",
   "metadata": {},
   "source": [
    "# Splines"
   ]
  },
  {
   "cell_type": "code",
   "execution_count": 6,
   "metadata": {},
   "outputs": [],
   "source": [
    "class Spline:\n",
    "    def __init__(self):\n",
    "        self.curves = []\n",
    "        \n",
    "    def add_curve(self, curve : Callable[[float], float], x_lim_inf : float, x_lim_sup : float):\n",
    "        left = 0\n",
    "        right = len(self.curves) - 1\n",
    "        while left <= right:\n",
    "            mid = left + (right - left) // 2\n",
    "            if self.curves[mid]['x_lim_inf'] == x_lim_inf:\n",
    "                raise ValueError('A curve with the same x_lim_inf already exists')\n",
    "            elif self.curves[mid]['x_lim_inf'] < x_lim_inf:\n",
    "                left = mid + 1\n",
    "            else:\n",
    "                right = mid - 1\n",
    "\n",
    "        self.curves.insert(left, {'curve': curve, 'x_lim_inf': x_lim_inf, 'x_lim_sup': x_lim_sup})\n",
    "\n",
    "    def evaluate(self, x : float) -> float:\n",
    "        # Find the curve that contains x by doing a binary search\n",
    "        # if no such curve exists it will raise an error\n",
    "\n",
    "        left = 0\n",
    "        right = len(self.curves) - 1\n",
    "\n",
    "        while left <= right:\n",
    "            mid = left + (right - left) // 2\n",
    "            if self.curves[mid]['x_lim_inf'] <= x <= self.curves[mid]['x_lim_sup']:\n",
    "                # return self.curves[mid]['curve'].subs('x', x)\n",
    "                return self.curves[mid]['curve'](x)\n",
    "            elif self.curves[mid]['x_lim_inf'] < x:\n",
    "                left = mid + 1\n",
    "            else:\n",
    "                right = mid - 1\n",
    "\n",
    "        raise ValueError('No curve found for x')"
   ]
  },
  {
   "cell_type": "code",
   "execution_count": 7,
   "metadata": {},
   "outputs": [
    {
     "data": {
      "text/plain": [
       "25.0"
      ]
     },
     "execution_count": 7,
     "metadata": {},
     "output_type": "execute_result"
    }
   ],
   "source": [
    "x_values = np.array([1, 2, 5, 7], np.float64)\n",
    "y_values = np.array([1, 2, 3, 25], np.float64)\n",
    "\n",
    "n = len(x_values)\n",
    "\n",
    "spline = Spline()\n",
    "\n",
    "for i in range(n - 1):\n",
    "    x0, x1 = x_values[i], x_values[i + 1]\n",
    "    y0, y1 = y_values[i], y_values[i + 1]\n",
    "    curve = lambda x, x0=x0, x1=x1, y0=y0, y1=y1: y0 + (y1 - y0)/(x1 - x0) * (x - x0)\n",
    "    spline.add_curve(curve, x0, x1)\n",
    "\n",
    "spline.evaluate(7)"
   ]
  },
  {
   "cell_type": "code",
   "execution_count": 26,
   "metadata": {},
   "outputs": [],
   "source": [
    "def cubic_natural_curve(x_values:np.ndarray, y_values:np.ndarray) -> List[Callable[[float], float]]:\n",
    "    n = len(x_values)\n",
    "    h = x_values[1] - x_values[0]\n",
    "    a = y_values[0]\n",
    "    b = (y_values[1] - y_values[0])/h\n",
    "    c = 0\n",
    "    d = 0\n",
    "    curves = []\n",
    "\n",
    "    # First curve is a special case, it's a linear curve\n",
    "    curve = lambda x, a=a, b=b, x0=x_values[0]: a + b * (x - x0)\n",
    "    curves.append(curve)\n",
    "\n",
    "    for i in range(1, n - 1):\n",
    "        h = x_values[i] - x_values[i - 1]\n",
    "        a = y_values[i - 1]\n",
    "        b = (y_values[i] - y_values[i - 1])/h\n",
    "        c = (y_values[i - 1] - 2 * y_values[i] + y_values[i + 1])/h**2\n",
    "        d = (y_values[i] - y_values[i - 1])/(h**3)\n",
    "        curve = lambda x, a=a, b=b, c=c, d=d, x0=x_values[i]: a + b * (x - x0) + c * (x - x0)**2 + d * (x - x0)**3\n",
    "        curves.append(curve)\n",
    "    return curves"
   ]
  },
  {
   "cell_type": "code",
   "execution_count": 28,
   "metadata": {},
   "outputs": [
    {
     "ename": "KeyboardInterrupt",
     "evalue": "",
     "output_type": "error",
     "traceback": [
      "\u001b[1;31m---------------------------------------------------------------------------\u001b[0m",
      "\u001b[1;31mKeyboardInterrupt\u001b[0m                         Traceback (most recent call last)",
      "Cell \u001b[1;32mIn[28], line 6\u001b[0m\n\u001b[0;32m      2\u001b[0m y_values \u001b[38;5;241m=\u001b[39m np\u001b[38;5;241m.\u001b[39marray([\u001b[38;5;241m2.5\u001b[39m, \u001b[38;5;241m1.0\u001b[39m, \u001b[38;5;241m2.5\u001b[39m, \u001b[38;5;241m0.5\u001b[39m], np\u001b[38;5;241m.\u001b[39mfloat64)\n\u001b[0;32m      4\u001b[0m curves \u001b[38;5;241m=\u001b[39m cubic_natural_curve(x_values, y_values)\n\u001b[1;32m----> 6\u001b[0m spline \u001b[38;5;241m=\u001b[39m Spline()\n\u001b[0;32m      8\u001b[0m \u001b[38;5;28;01mfor\u001b[39;00m i, curve \u001b[38;5;129;01min\u001b[39;00m \u001b[38;5;28menumerate\u001b[39m(curves):\n\u001b[0;32m      9\u001b[0m     spline\u001b[38;5;241m.\u001b[39madd_curve(curve, x_values[i], x_values[i \u001b[38;5;241m+\u001b[39m \u001b[38;5;241m1\u001b[39m])\n",
      "File \u001b[1;32m~\\AppData\\Roaming\\Python\\Python312\\site-packages\\debugpy\\_vendored\\pydevd\\_pydevd_bundle\\pydevd_frame.py:1197\u001b[0m, in \u001b[0;36mPyDBFrame.trace_dispatch\u001b[1;34m(self, frame, event, arg)\u001b[0m\n\u001b[0;32m   1195\u001b[0m \u001b[38;5;28;01mif\u001b[39;00m is_line:\n\u001b[0;32m   1196\u001b[0m     \u001b[38;5;28mself\u001b[39m\u001b[38;5;241m.\u001b[39mset_suspend(thread, step_cmd, original_step_cmd\u001b[38;5;241m=\u001b[39minfo\u001b[38;5;241m.\u001b[39mpydev_original_step_cmd)\n\u001b[1;32m-> 1197\u001b[0m     \u001b[38;5;28;43mself\u001b[39;49m\u001b[38;5;241;43m.\u001b[39;49m\u001b[43mdo_wait_suspend\u001b[49m\u001b[43m(\u001b[49m\u001b[43mthread\u001b[49m\u001b[43m,\u001b[49m\u001b[43m \u001b[49m\u001b[43mframe\u001b[49m\u001b[43m,\u001b[49m\u001b[43m \u001b[49m\u001b[43mevent\u001b[49m\u001b[43m,\u001b[49m\u001b[43m \u001b[49m\u001b[43marg\u001b[49m\u001b[43m)\u001b[49m\n\u001b[0;32m   1198\u001b[0m \u001b[38;5;28;01melif\u001b[39;00m is_return:  \u001b[38;5;66;03m# return event\u001b[39;00m\n\u001b[0;32m   1199\u001b[0m     back \u001b[38;5;241m=\u001b[39m frame\u001b[38;5;241m.\u001b[39mf_back\n",
      "File \u001b[1;32m~\\AppData\\Roaming\\Python\\Python312\\site-packages\\debugpy\\_vendored\\pydevd\\_pydevd_bundle\\pydevd_frame.py:165\u001b[0m, in \u001b[0;36mPyDBFrame.do_wait_suspend\u001b[1;34m(self, *args, **kwargs)\u001b[0m\n\u001b[0;32m    164\u001b[0m \u001b[38;5;28;01mdef\u001b[39;00m \u001b[38;5;21mdo_wait_suspend\u001b[39m(\u001b[38;5;28mself\u001b[39m, \u001b[38;5;241m*\u001b[39margs, \u001b[38;5;241m*\u001b[39m\u001b[38;5;241m*\u001b[39mkwargs):\n\u001b[1;32m--> 165\u001b[0m     \u001b[38;5;28;43mself\u001b[39;49m\u001b[38;5;241;43m.\u001b[39;49m\u001b[43m_args\u001b[49m\u001b[43m[\u001b[49m\u001b[38;5;241;43m0\u001b[39;49m\u001b[43m]\u001b[49m\u001b[38;5;241;43m.\u001b[39;49m\u001b[43mdo_wait_suspend\u001b[49m\u001b[43m(\u001b[49m\u001b[38;5;241;43m*\u001b[39;49m\u001b[43margs\u001b[49m\u001b[43m,\u001b[49m\u001b[43m \u001b[49m\u001b[38;5;241;43m*\u001b[39;49m\u001b[38;5;241;43m*\u001b[39;49m\u001b[43mkwargs\u001b[49m\u001b[43m)\u001b[49m\n",
      "File \u001b[1;32m~\\AppData\\Roaming\\Python\\Python312\\site-packages\\debugpy\\_vendored\\pydevd\\pydevd.py:2070\u001b[0m, in \u001b[0;36mPyDB.do_wait_suspend\u001b[1;34m(self, thread, frame, event, arg, exception_type)\u001b[0m\n\u001b[0;32m   2067\u001b[0m             from_this_thread\u001b[38;5;241m.\u001b[39mappend(frame_custom_thread_id)\n\u001b[0;32m   2069\u001b[0m     \u001b[38;5;28;01mwith\u001b[39;00m \u001b[38;5;28mself\u001b[39m\u001b[38;5;241m.\u001b[39m_threads_suspended_single_notification\u001b[38;5;241m.\u001b[39mnotify_thread_suspended(thread_id, thread, stop_reason):\n\u001b[1;32m-> 2070\u001b[0m         keep_suspended \u001b[38;5;241m=\u001b[39m \u001b[38;5;28;43mself\u001b[39;49m\u001b[38;5;241;43m.\u001b[39;49m\u001b[43m_do_wait_suspend\u001b[49m\u001b[43m(\u001b[49m\u001b[43mthread\u001b[49m\u001b[43m,\u001b[49m\u001b[43m \u001b[49m\u001b[43mframe\u001b[49m\u001b[43m,\u001b[49m\u001b[43m \u001b[49m\u001b[43mevent\u001b[49m\u001b[43m,\u001b[49m\u001b[43m \u001b[49m\u001b[43marg\u001b[49m\u001b[43m,\u001b[49m\u001b[43m \u001b[49m\u001b[43msuspend_type\u001b[49m\u001b[43m,\u001b[49m\u001b[43m \u001b[49m\u001b[43mfrom_this_thread\u001b[49m\u001b[43m,\u001b[49m\u001b[43m \u001b[49m\u001b[43mframes_tracker\u001b[49m\u001b[43m)\u001b[49m\n\u001b[0;32m   2072\u001b[0m frames_list \u001b[38;5;241m=\u001b[39m \u001b[38;5;28;01mNone\u001b[39;00m\n\u001b[0;32m   2074\u001b[0m \u001b[38;5;28;01mif\u001b[39;00m keep_suspended:\n\u001b[0;32m   2075\u001b[0m     \u001b[38;5;66;03m# This means that we should pause again after a set next statement.\u001b[39;00m\n",
      "File \u001b[1;32m~\\AppData\\Roaming\\Python\\Python312\\site-packages\\debugpy\\_vendored\\pydevd\\pydevd.py:2106\u001b[0m, in \u001b[0;36mPyDB._do_wait_suspend\u001b[1;34m(self, thread, frame, event, arg, suspend_type, from_this_thread, frames_tracker)\u001b[0m\n\u001b[0;32m   2103\u001b[0m         \u001b[38;5;28mself\u001b[39m\u001b[38;5;241m.\u001b[39m_call_input_hook()\n\u001b[0;32m   2105\u001b[0m     \u001b[38;5;28mself\u001b[39m\u001b[38;5;241m.\u001b[39mprocess_internal_commands()\n\u001b[1;32m-> 2106\u001b[0m     \u001b[43mtime\u001b[49m\u001b[38;5;241;43m.\u001b[39;49m\u001b[43msleep\u001b[49m\u001b[43m(\u001b[49m\u001b[38;5;241;43m0.01\u001b[39;49m\u001b[43m)\u001b[49m\n\u001b[0;32m   2108\u001b[0m \u001b[38;5;28mself\u001b[39m\u001b[38;5;241m.\u001b[39mcancel_async_evaluation(get_current_thread_id(thread), \u001b[38;5;28mstr\u001b[39m(\u001b[38;5;28mid\u001b[39m(frame)))\n\u001b[0;32m   2110\u001b[0m \u001b[38;5;66;03m# process any stepping instructions\u001b[39;00m\n",
      "\u001b[1;31mKeyboardInterrupt\u001b[0m: "
     ]
    }
   ],
   "source": [
    "x_values = np.array([3, 4.5, 7, 9], np.float64)\n",
    "y_values = np.array([2.5, 1.0, 2.5, 0.5], np.float64)\n",
    "\n",
    "curves = cubic_natural_curve(x_values, y_values)\n",
    "\n",
    "spline = Spline()\n",
    "\n",
    "for i, curve in enumerate(curves):\n",
    "    spline.add_curve(curve, x_values[i], x_values[i + 1])\n",
    "\n",
    "spline.evaluate(4.5)"
   ]
  },
  {
   "cell_type": "markdown",
   "metadata": {},
   "source": [
    "# Function adjustment"
   ]
  },
  {
   "cell_type": "code",
   "execution_count": 10,
   "metadata": {},
   "outputs": [],
   "source": [
    "def linear_regression(x_values:np.ndarray, y_values:np.ndarray) -> Callable[[float], float]:\n",
    "    x_mean = np.mean(x_values)\n",
    "    y_mean = np.mean(y_values)\n",
    "    x_diff = x_values - x_mean\n",
    "    y_diff = y_values - y_mean\n",
    "    m = np.sum(x_diff * y_diff)/np.sum(x_diff**2)\n",
    "    c = y_mean - m * x_mean\n",
    "    return lambda x, m=m, c=c: m * x + c"
   ]
  },
  {
   "cell_type": "code",
   "execution_count": 11,
   "metadata": {},
   "outputs": [],
   "source": [
    "def exponential_regression(x_values:np.ndarray, y_values:np.ndarray, \n",
    "                          x_fun: Callable[[float], float] = lambda x: x,\n",
    "                          y_fun: Callable[[float], float] = lambda y: y,\n",
    "                          a_fun: Callable[[float], float] = lambda a: a, \n",
    "                          b_fun: Callable[[float], float] = lambda b: b) -> Callable[[float], float]:\n",
    "    x_values = x_fun(x_values)\n",
    "    y_values = y_fun(y_values)\n",
    "\n",
    "    x_sum = np.sum(x_values)\n",
    "    y_sum = np.sum(y_values)\n",
    "    x_times_y_sum = np.sum(x_values * y_values)\n",
    "    x_squared_sum = np.sum(x_values**2)\n",
    "\n",
    "    a = (len(x_values) * x_times_y_sum - x_sum * y_sum)/(len(x_values) * x_squared_sum - x_sum**2)\n",
    "    b = (y_sum - a * x_sum)/len(x_values)\n",
    "\n",
    "    return (a_fun(a), b_fun(b))"
   ]
  },
  {
   "cell_type": "code",
   "execution_count": 12,
   "metadata": {},
   "outputs": [
    {
     "data": {
      "text/plain": [
       "5.344462061821694"
      ]
     },
     "execution_count": 12,
     "metadata": {},
     "output_type": "execute_result"
    }
   ],
   "source": [
    "x_values = np.array([1, 2, 3, 4], np.float64)\n",
    "y_values = np.array([3, 5, 6, 8], np.float64)\n",
    "\n",
    "identity_function = lambda x: x\n",
    "a, b = exponential_regression(x_values, y_values, identity_function, np.log, identity_function, np.exp)\n",
    "\n",
    "# y = b * exp(a * x)\n",
    "\n",
    "y = lambda x, a=a, b=b: b * np.exp(a * x)\n",
    "\n",
    "y(2.6)"
   ]
  }
 ],
 "metadata": {
  "kernelspec": {
   "display_name": "Python 3",
   "language": "python",
   "name": "python3"
  },
  "language_info": {
   "codemirror_mode": {
    "name": "ipython",
    "version": 3
   },
   "file_extension": ".py",
   "mimetype": "text/x-python",
   "name": "python",
   "nbconvert_exporter": "python",
   "pygments_lexer": "ipython3",
   "version": "3.12.4"
  }
 },
 "nbformat": 4,
 "nbformat_minor": 2
}
