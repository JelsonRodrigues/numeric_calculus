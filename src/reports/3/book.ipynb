{
 "cells": [
  {
   "cell_type": "code",
   "execution_count": 1,
   "metadata": {},
   "outputs": [],
   "source": [
    "import pandas as pd\n",
    "import matplotlib.pyplot as plt\n",
    "import numpy as np\n",
    "import sympy as sp\n",
    "import scipy as sc\n",
    "import math\n",
    "from typing import Callable, Tuple, List"
   ]
  },
  {
   "cell_type": "markdown",
   "metadata": {},
   "source": [
    "# Langrange interpolation"
   ]
  },
  {
   "cell_type": "code",
   "execution_count": 2,
   "metadata": {},
   "outputs": [],
   "source": [
    "def lagrange_polynomial(x_values:np.ndarray, y_values:np.ndarray) -> sp.Expr:\n",
    "    n = len(x_values)\n",
    "    x = sp.symbols('x')\n",
    "    polynomial = 0\n",
    "    for i in range(n):\n",
    "        L = 1\n",
    "        for j in range(n):\n",
    "            if i != j:\n",
    "                L *= (x - x_values[j])/(x_values[i] - x_values[j])\n",
    "        polynomial += y_values[i] * L\n",
    "    return polynomial"
   ]
  },
  {
   "cell_type": "markdown",
   "metadata": {},
   "source": [
    "## Tests for Lagrange interpolation method"
   ]
  },
  {
   "cell_type": "code",
   "execution_count": 3,
   "metadata": {},
   "outputs": [
    {
     "data": {
      "text/latex": [
       "$\\displaystyle 0.666666666666667 x^{2} - 2.33333333333333 x + 1.0$"
      ],
      "text/plain": [
       "0.666666666666667*x**2 - 2.33333333333333*x + 1.0"
      ]
     },
     "execution_count": 3,
     "metadata": {},
     "output_type": "execute_result"
    }
   ],
   "source": [
    "x = np.array([-1, 0, 2], np.float64)\n",
    "y = np.array([4, 1, -1], np.float64)\n",
    "\n",
    "polynomial = lagrange_polynomial(x, y)\n",
    "polynomial.simplify()"
   ]
  },
  {
   "cell_type": "markdown",
   "metadata": {},
   "source": [
    "# Newton interpolation"
   ]
  },
  {
   "cell_type": "code",
   "execution_count": 4,
   "metadata": {},
   "outputs": [],
   "source": [
    "def divided_difference(x_values:np.ndarray, y_values:np.ndarray) -> sp.Expr:\n",
    "    n = len(x_values)\n",
    "    if n == 1:\n",
    "        return y_values[0]\n",
    "    return (divided_difference(x_values[1:], y_values[1:]) - divided_difference(x_values[:-1], y_values[:-1]))/(x_values[-1] - x_values[0])\n",
    "\n",
    "def newton_interpolation(x_values:np.ndarray, y_values:np.ndarray) -> sp.Expr:\n",
    "    n = len(x_values)\n",
    "    x = sp.symbols('x')\n",
    "    polynomial = y_values[0]\n",
    "    for i in range(1, n):\n",
    "        L = 1\n",
    "        for j in range(i):\n",
    "            L *= (x - x_values[j])\n",
    "        polynomial += L * divided_difference(x_values[:i+1], y_values[:i+1])\n",
    "    return polynomial\n"
   ]
  },
  {
   "cell_type": "markdown",
   "metadata": {},
   "source": [
    "# Tests for Newton interpolation"
   ]
  },
  {
   "cell_type": "code",
   "execution_count": 5,
   "metadata": {},
   "outputs": [
    {
     "data": {
      "text/latex": [
       "$\\displaystyle 0.666666666666667 x^{2} - 2.33333333333333 x + 1.0$"
      ],
      "text/plain": [
       "0.666666666666667*x**2 - 2.33333333333333*x + 1.0"
      ]
     },
     "execution_count": 5,
     "metadata": {},
     "output_type": "execute_result"
    }
   ],
   "source": [
    "x = np.array([-1, 0, 2], np.float64)\n",
    "y = np.array([4, 1, -1], np.float64)\n",
    "\n",
    "polynomial = newton_interpolation(x, y)\n",
    "polynomial.simplify()"
   ]
  },
  {
   "cell_type": "markdown",
   "metadata": {},
   "source": [
    "# Splines"
   ]
  },
  {
   "cell_type": "code",
   "execution_count": 6,
   "metadata": {},
   "outputs": [],
   "source": [
    "class Spline:\n",
    "    def __init__(self):\n",
    "        self.curves = []\n",
    "        \n",
    "    def add_curve(self, curve : Callable[[float], float], x_lim_inf : float, x_lim_sup : float):\n",
    "        left = 0\n",
    "        right = len(self.curves) - 1\n",
    "        while left <= right:\n",
    "            mid = left + (right - left) // 2\n",
    "            if self.curves[mid]['x_lim_inf'] == x_lim_inf:\n",
    "                raise ValueError('A curve with the same x_lim_inf already exists')\n",
    "            elif self.curves[mid]['x_lim_inf'] < x_lim_inf:\n",
    "                left = mid + 1\n",
    "            else:\n",
    "                right = mid - 1\n",
    "\n",
    "        self.curves.insert(left, {'curve': curve, 'x_lim_inf': x_lim_inf, 'x_lim_sup': x_lim_sup})\n",
    "\n",
    "    def evaluate(self, x : float) -> float:\n",
    "        # Find the curve that contains x by doing a binary search\n",
    "        # if no such curve exists it will raise an error\n",
    "\n",
    "        left = 0\n",
    "        right = len(self.curves) - 1\n",
    "\n",
    "        while left <= right:\n",
    "            mid = left + (right - left) // 2\n",
    "            if self.curves[mid]['x_lim_inf'] <= x <= self.curves[mid]['x_lim_sup']:\n",
    "                # return self.curves[mid]['curve'].subs('x', x)\n",
    "                return self.curves[mid]['curve'](x)\n",
    "            elif self.curves[mid]['x_lim_inf'] < x:\n",
    "                left = mid + 1\n",
    "            else:\n",
    "                right = mid - 1\n",
    "\n",
    "        raise ValueError('No curve found for x')"
   ]
  },
  {
   "cell_type": "code",
   "execution_count": 7,
   "metadata": {},
   "outputs": [
    {
     "data": {
      "text/plain": [
       "25.0"
      ]
     },
     "execution_count": 7,
     "metadata": {},
     "output_type": "execute_result"
    }
   ],
   "source": [
    "x_values = np.array([1, 2, 5, 7], np.float64)\n",
    "y_values = np.array([1, 2, 3, 25], np.float64)\n",
    "\n",
    "n = len(x_values)\n",
    "\n",
    "spline = Spline()\n",
    "\n",
    "for i in range(n - 1):\n",
    "    x0, x1 = x_values[i], x_values[i + 1]\n",
    "    y0, y1 = y_values[i], y_values[i + 1]\n",
    "    curve = lambda x, x0=x0, x1=x1, y0=y0, y1=y1: y0 + (y1 - y0)/(x1 - x0) * (x - x0)\n",
    "    spline.add_curve(curve, x0, x1)\n",
    "\n",
    "spline.evaluate(7)"
   ]
  },
  {
   "cell_type": "code",
   "execution_count": 8,
   "metadata": {},
   "outputs": [],
   "source": [
    "# Based on https://github.com/scipy/scipy/blob/v1.14.0/scipy/interpolate/_cubic.py#L584-L980\n",
    "def cubic_natural_curve(x: np.ndarray, y: np.ndarray) -> List[Callable[[float], float]]:\n",
    "  n = len(x)\n",
    "  # generate the h array with differences between adjacent x values\n",
    "  h = np.diff(x)\n",
    "\n",
    "  # generate the alpha array, it contains the values of the derivative at each point\n",
    "  alpha = np.zeros(n)\n",
    "  for i in range(1, n-1):\n",
    "    alpha[i] = 3/h[i] * (y[i+1] - y[i]) - 3/h[i-1] * (y[i] - y[i-1])\n",
    "\n",
    "  # solve the tridiagonal system\n",
    "  l = np.zeros(n)\n",
    "  u = np.zeros(n)\n",
    "  z = np.zeros(n)\n",
    "  l[0] = 1\n",
    "  u[0] = 0\n",
    "  z[0] = 0\n",
    "  for i in range(1, n-1):\n",
    "    l[i] = 2 * (x[i+1] - x[i-1]) - h[i-1] * u[i-1]\n",
    "    u[i] = h[i] / l[i]\n",
    "    z[i] = (alpha[i] - h[i-1] * z[i-1]) / l[i]\n",
    "  l[n-1] = 1\n",
    "  z[n-1] = 0\n",
    "\n",
    "  # solve for the coefficients\n",
    "  c = np.zeros(n)\n",
    "  b = np.zeros(n)\n",
    "  d = np.zeros(n)\n",
    "  for j in range(n-2, -1, -1):\n",
    "    c[j] = z[j] - u[j] * c[j+1]\n",
    "    b[j] = (y[j+1] - y[j]) / h[j] - h[j] * (c[j+1] + 2 * c[j]) / 3\n",
    "    d[j] = (c[j+1] - c[j]) / (3 * h[j])\n",
    "    \n",
    "  # generate the curves\n",
    "  curves = []\n",
    "  for i in range(n-1):\n",
    "    # curve = lambda x, i=i, x_i=x[i], x_i1=x[i+1], y_i=y[i], y_i1=y[i+1], b_i=b[i], c_i=c[i], d_i=d[i]: (\n",
    "    #   y_i + b_i * (x - x_i) + c_i * (x - x_i)**2 + d_i * (x - x_i)**3 if x_i <= x <= x_i1 else None\n",
    "    # )\n",
    "    curve = lambda x, x_i=x[i], y_i=y[i], b_i=b[i], c_i=c[i], d_i=d[i]: (\n",
    "      y_i + b_i * (x - x_i) + c_i * (x - x_i)**2 + d_i * (x - x_i)**3\n",
    "    )\n",
    "    curves.append(curve)\n",
    "  return curves\n"
   ]
  },
  {
   "cell_type": "code",
   "execution_count": 9,
   "metadata": {},
   "outputs": [
    {
     "data": {
      "text/plain": [
       "1.102889733840304"
      ]
     },
     "execution_count": 9,
     "metadata": {},
     "output_type": "execute_result"
    }
   ],
   "source": [
    "x_values = np.array([3, 4.5, 7, 9], np.float64)\n",
    "y_values = np.array([2.5, 1.0, 2.5, 0.5], np.float64)\n",
    "\n",
    "curves = cubic_natural_curve(x_values, y_values)\n",
    "\n",
    "spline = Spline()\n",
    "\n",
    "for i, curve in enumerate(curves):\n",
    "    spline.add_curve(curve, x_values[i], x_values[i + 1])\n",
    "\n",
    "spline.evaluate(5.0)"
   ]
  },
  {
   "cell_type": "code",
   "execution_count": 10,
   "metadata": {},
   "outputs": [
    {
     "data": {
      "text/plain": [
       "True"
      ]
     },
     "execution_count": 10,
     "metadata": {},
     "output_type": "execute_result"
    }
   ],
   "source": [
    "sc.interpolate.CubicSpline(x_values, y_values, bc_type='natural')(5.0) == spline.evaluate(5.0)"
   ]
  },
  {
   "cell_type": "markdown",
   "metadata": {},
   "source": [
    "# Function adjustment"
   ]
  },
  {
   "cell_type": "code",
   "execution_count": 11,
   "metadata": {},
   "outputs": [],
   "source": [
    "def linear_regression(x_values:np.ndarray, y_values:np.ndarray) -> Callable[[float], float]:\n",
    "    x_mean = np.mean(x_values)\n",
    "    y_mean = np.mean(y_values)\n",
    "    x_diff = x_values - x_mean\n",
    "    y_diff = y_values - y_mean\n",
    "    m = np.sum(x_diff * y_diff)/np.sum(x_diff**2)\n",
    "    c = y_mean - m * x_mean\n",
    "    return lambda x, m=m, c=c: m * x + c"
   ]
  },
  {
   "cell_type": "code",
   "execution_count": 12,
   "metadata": {},
   "outputs": [],
   "source": [
    "def exponential_regression(x_values:np.ndarray, y_values:np.ndarray, \n",
    "                          x_fun: Callable[[float], float] = lambda x: x,\n",
    "                          y_fun: Callable[[float], float] = lambda y: y,\n",
    "                          a_fun: Callable[[float], float] = lambda a: a, \n",
    "                          b_fun: Callable[[float], float] = lambda b: b) -> Callable[[float], float]:\n",
    "    x_values = x_fun(x_values)\n",
    "    y_values = y_fun(y_values)\n",
    "\n",
    "    x_sum = np.sum(x_values)\n",
    "    y_sum = np.sum(y_values)\n",
    "    x_times_y_sum = np.sum(x_values * y_values)\n",
    "    x_squared_sum = np.sum(x_values**2)\n",
    "\n",
    "    a = (len(x_values) * x_times_y_sum - x_sum * y_sum)/(len(x_values) * x_squared_sum - x_sum**2)\n",
    "    b = (y_sum - a * x_sum)/len(x_values)\n",
    "\n",
    "    return (a_fun(a), b_fun(b))"
   ]
  },
  {
   "cell_type": "code",
   "execution_count": 13,
   "metadata": {},
   "outputs": [
    {
     "data": {
      "text/plain": [
       "5.344462061821694"
      ]
     },
     "execution_count": 13,
     "metadata": {},
     "output_type": "execute_result"
    }
   ],
   "source": [
    "x_values = np.array([1, 2, 3, 4], np.float64)\n",
    "y_values = np.array([3, 5, 6, 8], np.float64)\n",
    "\n",
    "identity_function = lambda x: x\n",
    "a, b = exponential_regression(x_values, y_values, identity_function, np.log, identity_function, np.exp)\n",
    "\n",
    "# y = b * exp(a * x)\n",
    "\n",
    "y = lambda x, a=a, b=b: b * np.exp(a * x)\n",
    "\n",
    "y(2.6)"
   ]
  },
  {
   "cell_type": "markdown",
   "metadata": {},
   "source": [
    "# Exercises"
   ]
  },
  {
   "cell_type": "markdown",
   "metadata": {},
   "source": [
    "# 1 - A car traveled between two cities that are 160 Km apart in 2h20min. The values below have the time and distance traveled in discrete intervals."
   ]
  },
  {
   "cell_type": "code",
   "execution_count": 14,
   "metadata": {},
   "outputs": [],
   "source": [
    "time = np.array([0, 10, 30, 60, 90, 120, 140], np.float64)\n",
    "distance = np.array([0, 8, 27, 58, 100, 145, 160], np.float64)"
   ]
  },
  {
   "cell_type": "markdown",
   "metadata": {},
   "source": [
    "## a) What was the approximate traveled distance by the car in the first 45 minutes considering only the first 4 points"
   ]
  },
  {
   "cell_type": "code",
   "execution_count": 15,
   "metadata": {},
   "outputs": [
    {
     "data": {
      "text/latex": [
       "$\\displaystyle 42.5625$"
      ],
      "text/plain": [
       "42.5625000000000"
      ]
     },
     "execution_count": 15,
     "metadata": {},
     "output_type": "execute_result"
    }
   ],
   "source": [
    "l_pol = lagrange_polynomial(time[:4], distance[:4])\n",
    "n_pol = newton_interpolation(time[:4], distance[:4])\n",
    "\n",
    "l_result = l_pol.subs('x', 45)\n",
    "n_result = n_pol.subs('x', 45)\n",
    "\n",
    "# Results are the same\n",
    "assert l_result - n_result < 1e-10\n",
    "\n",
    "l_result"
   ]
  },
  {
   "cell_type": "markdown",
   "metadata": {},
   "source": [
    "The results are the same, as they should be and the result is inside the interval expected\n",
    "\n",
    "$ x \\in [30; 60] $\n",
    "\n",
    "$ y \\in [27; 58] $\n",
    "\n",
    "$ g(45) = 42.5625 $"
   ]
  },
  {
   "cell_type": "markdown",
   "metadata": {},
   "source": [
    "## b) How long the car took to arrive at half the destination"
   ]
  },
  {
   "cell_type": "markdown",
   "metadata": {},
   "source": [
    "To obtain the time, the values inputed for both $x$ and $y$ are inverted, the $x$ values will be the traveled distance and the $y$ values will be the time "
   ]
  },
  {
   "cell_type": "code",
   "execution_count": 16,
   "metadata": {},
   "outputs": [
    {
     "data": {
      "text/latex": [
       "$\\displaystyle 77.8354988011719$"
      ],
      "text/plain": [
       "77.8354988011719"
      ]
     },
     "execution_count": 16,
     "metadata": {},
     "output_type": "execute_result"
    }
   ],
   "source": [
    "half_destination = distance[-1] / 2\n",
    "\n",
    "l_pol = lagrange_polynomial(distance, time)\n",
    "n_pol = lagrange_polynomial(distance, time)\n",
    "\n",
    "l_result = l_pol.subs('x', half_destination)\n",
    "n_result = n_pol.subs('x', half_destination)\n",
    "\n",
    "# Results are equal within a 1/(10^10) error\n",
    "assert l_result - n_result < 1e-10\n",
    "\n",
    "n_result"
   ]
  },
  {
   "cell_type": "markdown",
   "metadata": {},
   "source": [
    "The obtained result is inside the value expected. For traveling 80Km, the car took approximately 78 minutes."
   ]
  },
  {
   "cell_type": "markdown",
   "metadata": {},
   "source": [
    "# 2 - A wire has the following resistivity (Ohms) according to the lenght (m)"
   ]
  },
  {
   "cell_type": "code",
   "execution_count": 17,
   "metadata": {},
   "outputs": [],
   "source": [
    "lenght = np.array([500, 1000, 1500, 2000, 2500, 3000, 3500, 4000], np.float64)\n",
    "resistivity = np.array([2.74, 5.48, 7.90, 11.00, 13.93, 16.43, 20.24, 23.52], np.float64)"
   ]
  },
  {
   "cell_type": "markdown",
   "metadata": {},
   "source": [
    "Using polinommyals of degree 2 and 3, calculate the aproximation to the risistivity in with the given lenght"
   ]
  },
  {
   "cell_type": "markdown",
   "metadata": {},
   "source": [
    "## a) 1730m"
   ]
  },
  {
   "cell_type": "markdown",
   "metadata": {},
   "source": [
    "First using a degree 2 polinomyal using 3 points, $ [1000, 1500, 2000] $"
   ]
  },
  {
   "cell_type": "code",
   "execution_count": 18,
   "metadata": {},
   "outputs": [
    {
     "data": {
      "text/latex": [
       "$\\displaystyle 9.241544$"
      ],
      "text/plain": [
       "9.24154400000000"
      ]
     },
     "execution_count": 18,
     "metadata": {},
     "output_type": "execute_result"
    }
   ],
   "source": [
    "l_pol = lagrange_polynomial(lenght[1:4], resistivity[1:4])\n",
    "n_pol = newton_interpolation(lenght[1:4], resistivity[1:4])\n",
    "\n",
    "l_result = l_pol.subs('x', 1730)\n",
    "n_result = n_pol.subs('x', 1730)\n",
    "\n",
    "# Results are the same\n",
    "assert l_result - n_result < 1e-10\n",
    "\n",
    "l_result"
   ]
  },
  {
   "cell_type": "markdown",
   "metadata": {},
   "source": [
    "Now using the degree 3 polinomyal, using 4 points $ [500, 1000, 1500, 2000] $"
   ]
  },
  {
   "cell_type": "code",
   "execution_count": 19,
   "metadata": {},
   "outputs": [
    {
     "data": {
      "text/latex": [
       "$\\displaystyle 9.1811$"
      ],
      "text/plain": [
       "9.18110000000000"
      ]
     },
     "execution_count": 19,
     "metadata": {},
     "output_type": "execute_result"
    }
   ],
   "source": [
    "l_pol = lagrange_polynomial(lenght[:4], resistivity[:4])\n",
    "n_pol = newton_interpolation(lenght[:4], resistivity[:4])\n",
    "\n",
    "l_result = l_pol.subs('x', 1730)\n",
    "n_result = n_pol.subs('x', 1730)\n",
    "\n",
    "# Results are the same\n",
    "assert l_result - n_result < 1e-10\n",
    "\n",
    "l_result"
   ]
  },
  {
   "cell_type": "markdown",
   "metadata": {},
   "source": [
    "In both cases the result is inside the interval expected for the input value, the result should be between $[7.9; 11.0]$ as the input is between $[1500; 2000]$"
   ]
  },
  {
   "cell_type": "markdown",
   "metadata": {},
   "source": [
    "## b) 3200m"
   ]
  },
  {
   "cell_type": "markdown",
   "metadata": {},
   "source": [
    "Solving using the degree 2 polynomial considering the 3 points $[2500, 3000, 3500]$"
   ]
  },
  {
   "cell_type": "code",
   "execution_count": 20,
   "metadata": {},
   "outputs": [
    {
     "data": {
      "text/latex": [
       "$\\displaystyle 17.7968$"
      ],
      "text/plain": [
       "17.7968000000000"
      ]
     },
     "execution_count": 20,
     "metadata": {},
     "output_type": "execute_result"
    }
   ],
   "source": [
    "l_pol = lagrange_polynomial(lenght[4:7], resistivity[4:7])\n",
    "n_pol = newton_interpolation(lenght[4:7], resistivity[4:7])\n",
    "\n",
    "l_result = l_pol.subs('x', 3200)\n",
    "n_result = n_pol.subs('x', 3200)\n",
    "\n",
    "# Results are the same\n",
    "assert l_result - n_result < 1e-10\n",
    "\n",
    "l_result"
   ]
  },
  {
   "cell_type": "markdown",
   "metadata": {},
   "source": [
    "Result is inside the expected range for the input $[16.43;20.24]$"
   ]
  },
  {
   "cell_type": "markdown",
   "metadata": {},
   "source": [
    "Now calculating using the degree 3 polynomial, considering the points $[2500, 3000, 3500, 4000]$"
   ]
  },
  {
   "cell_type": "code",
   "execution_count": 21,
   "metadata": {},
   "outputs": [
    {
     "data": {
      "text/latex": [
       "$\\displaystyle 17.89984$"
      ],
      "text/plain": [
       "17.8998400000000"
      ]
     },
     "execution_count": 21,
     "metadata": {},
     "output_type": "execute_result"
    }
   ],
   "source": [
    "l_pol = lagrange_polynomial(lenght[4:], resistivity[4:])\n",
    "n_pol = newton_interpolation(lenght[4:], resistivity[4:])\n",
    "\n",
    "l_result = l_pol.subs('x', 3200)\n",
    "n_result = n_pol.subs('x', 3200)\n",
    "\n",
    "# Results are the same\n",
    "assert l_result - n_result < 1e-10\n",
    "\n",
    "l_result"
   ]
  },
  {
   "cell_type": "markdown",
   "metadata": {},
   "source": [
    "The result found is inside the expected interval using a degree 3 polynomial to interpolate the points"
   ]
  },
  {
   "cell_type": "markdown",
   "metadata": {},
   "source": [
    "# 3 - By moving trought Pelotas on a veicle, the following coordinates were obtained"
   ]
  },
  {
   "cell_type": "code",
   "execution_count": 22,
   "metadata": {},
   "outputs": [],
   "source": [
    "latitude = np.array([0.4488888889, 0.4472222222, 0.4505555556, 0.4494444444], np.float64)\n",
    "longitude = np.array([0.0933333333, 0.0988888889, 0.1044444444, 0.11], np.float64)"
   ]
  },
  {
   "cell_type": "markdown",
   "metadata": {},
   "source": [
    "Aproximate the road by a natural cubic spline and find"
   ]
  },
  {
   "cell_type": "markdown",
   "metadata": {},
   "source": [
    "## a) The latitude of the road at the longitude $ \\lambda = 6' $"
   ]
  },
  {
   "cell_type": "code",
   "execution_count": 23,
   "metadata": {},
   "outputs": [
    {
     "name": "stdout",
     "output_type": "stream",
     "text": [
      "0°26'51\"\n",
      "0.44771111110408535\n"
     ]
    }
   ],
   "source": [
    "# Converting 6'00\" to decimal degrees\n",
    "value = 6./60.\n",
    "\n",
    "curves = cubic_natural_curve(longitude, latitude)\n",
    "\n",
    "spline = Spline()\n",
    "for i, curve in enumerate(curves):\n",
    "    spline.add_curve(curve, longitude[i], longitude[i + 1])\n",
    "  \n",
    "res = spline.evaluate(value)\n",
    "\n",
    "# Convert the latitude to degrees, minutes and seconds and print the result\n",
    "degrees = int(res)\n",
    "minutes = int((res - degrees) * 60)\n",
    "seconds = int(((res - degrees) * 60 - minutes) * 60)\n",
    "print(f'{degrees}°{minutes}\\'{seconds}\"')\n",
    "\n",
    "# print result in decimal degrees also\n",
    "print(res)"
   ]
  },
  {
   "cell_type": "markdown",
   "metadata": {},
   "source": [
    "## b) The coordinates of the road at the furthest point from the equator, supposing it happens between 6'16\" and 6'36\" of longitude"
   ]
  },
  {
   "cell_type": "markdown",
   "metadata": {},
   "source": [
    "To find the furthest point on the road is necessary to find the highest latitude. To do so is possible to use some optimization functions, or to find the maxima of the spline in the interval given. I will be plotting the spline in the interval."
   ]
  },
  {
   "cell_type": "code",
   "execution_count": 24,
   "metadata": {},
   "outputs": [
    {
     "data": {
      "text/plain": [
       "[<matplotlib.lines.Line2D at 0x1cff90285f0>]"
      ]
     },
     "execution_count": 24,
     "metadata": {},
     "output_type": "execute_result"
    },
    {
     "data": {
      "image/png": "[encoded data removed]",
      "text/plain": [
       "<Figure size 640x480 with 1 Axes>"
      ]
     },
     "metadata": {},
     "output_type": "display_data"
    }
   ],
   "source": [
    "points = 100\n",
    "\n",
    "interval_start = 0.1044444444\n",
    "# interval_start = longitude[0]\n",
    "interval_end = 0.11\n",
    "\n",
    "x = np.linspace(interval_start, interval_end, points)\n",
    "y = np.array([spline.evaluate(x_i) for x_i in x])\n",
    "\n",
    "plt.plot(x, y)\n",
    "# plt.scatter(longitude, latitude)"
   ]
  },
  {
   "cell_type": "markdown",
   "metadata": {},
   "source": [
    "Just by plotting the function is possible to observe that the maximum is arround 0.105 and 0.106. To find the exact value, I will be using the scipy minimize funtion."
   ]
  },
  {
   "cell_type": "code",
   "execution_count": 25,
   "metadata": {},
   "outputs": [
    {
     "name": "stdout",
     "output_type": "stream",
     "text": [
      "0.10577904934195083\n",
      "latitude 0°27'2\"\n",
      "longitude 0°6'20\"\n"
     ]
    }
   ],
   "source": [
    "optimization_res = sc.optimize.minimize_scalar(lambda x: -spline.evaluate(x), bounds=(interval_start, interval_end), method='bounded')\n",
    "print(optimization_res.x)\n",
    "\n",
    "# print result in decimal degrees also\n",
    "res = spline.evaluate(optimization_res.x)\n",
    "degrees = int(res)\n",
    "minutes = int((res - degrees) * 60)\n",
    "seconds = int(((res - degrees) * 60 - minutes) * 60)\n",
    "print(f'latitude {degrees}°{minutes}\\'{seconds}\"')\n",
    "\n",
    "degrees = int(optimization_res.x)\n",
    "minutes = int((optimization_res.x - degrees) * 60)\n",
    "seconds = int(((optimization_res.x - degrees) * 60 - minutes) * 60)\n",
    "print(f'longitude {degrees}°{minutes}\\'{seconds}\"')\n"
   ]
  },
  {
   "cell_type": "markdown",
   "metadata": {},
   "source": [
    "# 4 - The number of bacteria by unit of volume is given by hours "
   ]
  },
  {
   "cell_type": "code",
   "execution_count": 26,
   "metadata": {},
   "outputs": [],
   "source": [
    "hours = np.array([0, 1, 2, 3, 4, 5, 6], np.float64)\n",
    "number_of_bacteria = np.array([32, 47, 65, 92, 132, 190, 275], np.float64)"
   ]
  },
  {
   "cell_type": "markdown",
   "metadata": {},
   "source": [
    "## a) Make the scatter plot of the data"
   ]
  },
  {
   "cell_type": "code",
   "execution_count": 27,
   "metadata": {},
   "outputs": [
    {
     "data": {
      "image/png": "[encoded data removed]",
      "text/plain": [
       "<Figure size 640x480 with 1 Axes>"
      ]
     },
     "metadata": {},
     "output_type": "display_data"
    }
   ],
   "source": [
    "plt.scatter(hours, number_of_bacteria)\n",
    "plt.show()"
   ]
  },
  {
   "cell_type": "markdown",
   "metadata": {},
   "source": [
    "By analizing the scatter plot, the values appear to show an exponential form"
   ]
  },
  {
   "cell_type": "markdown",
   "metadata": {},
   "source": [
    "## b) Use the function adjustment to adjust the curves $ y = ab^x $ and $y=ax^b$"
   ]
  },
  {
   "cell_type": "markdown",
   "metadata": {},
   "source": [
    "$y = ab^x$"
   ]
  },
  {
   "cell_type": "code",
   "execution_count": 28,
   "metadata": {},
   "outputs": [
    {
     "data": {
      "text/plain": [
       "[32.1468513163175,\n",
       " 45.87223257677207,\n",
       " 65.45778623455297,\n",
       " 93.40556450043047,\n",
       " 133.2858928100849,\n",
       " 190.193478484888,\n",
       " 271.3982590019799]"
      ]
     },
     "execution_count": 28,
     "metadata": {},
     "output_type": "execute_result"
    }
   ],
   "source": [
    "i = lambda v : v\n",
    "a, b = exponential_regression(\n",
    "  x_values=hours, \n",
    "  y_values=number_of_bacteria,\n",
    "  x_fun=i,\n",
    "  y_fun=np.log,\n",
    "  a_fun=np.exp,\n",
    "  b_fun=np.exp\n",
    "  )\n",
    "\n",
    "# g(x) = b * a ^ x\n",
    "curve_1 = lambda x, a=a, b=b: b * np.power(a, x)\n",
    "\n",
    "list(map(curve_1, hours))"
   ]
  },
  {
   "cell_type": "markdown",
   "metadata": {},
   "source": [
    "$ y = ax^b$"
   ]
  },
  {
   "cell_type": "code",
   "execution_count": 29,
   "metadata": {},
   "outputs": [
    {
     "data": {
      "text/plain": [
       "[32.27466746917803,\n",
       " 86.7013789563114,\n",
       " 154.5507031013941,\n",
       " 232.91112511398288,\n",
       " 320.14760392292897,\n",
       " 415.17884236468035]"
      ]
     },
     "execution_count": 29,
     "metadata": {},
     "output_type": "execute_result"
    }
   ],
   "source": [
    "i = lambda v : v\n",
    "a, b = exponential_regression(\n",
    "  x_values=hours[1:], \n",
    "  y_values=number_of_bacteria[1:],\n",
    "  x_fun=i,\n",
    "  y_fun=np.log,\n",
    "  a_fun=np.exp,\n",
    "  b_fun=np.exp\n",
    "  )\n",
    "\n",
    "#g(x) = b * x^a\n",
    "curve_2 = lambda x, a=a, b=b: b * np.power(x, a)\n",
    "\n",
    "list(map(curve_2, hours[1:]))"
   ]
  },
  {
   "cell_type": "markdown",
   "metadata": {},
   "source": [
    "To identify the best curve, I will calculate the error of each curve"
   ]
  },
  {
   "cell_type": "code",
   "execution_count": 30,
   "metadata": {},
   "outputs": [
    {
     "data": {
      "text/plain": [
       "(12776.188585075255, 30347.29296299587)"
      ]
     },
     "execution_count": 30,
     "metadata": {},
     "output_type": "execute_result"
    }
   ],
   "source": [
    "squared_error_sum_1 = np.sum(np.square(np.diff(list(map(curve_1, hours)))))\n",
    "squared_error_sum_2 = np.sum(np.square(np.diff(list(map(curve_2, hours[1:])))))\n",
    "\n",
    "squared_error_sum_1, squared_error_sum_2"
   ]
  },
  {
   "cell_type": "code",
   "execution_count": 31,
   "metadata": {},
   "outputs": [
    {
     "data": {
      "text/plain": [
       "[<matplotlib.lines.Line2D at 0x1cffed24110>]"
      ]
     },
     "execution_count": 31,
     "metadata": {},
     "output_type": "execute_result"
    },
    {
     "data": {
      "image/png": "[encoded data removed]",
      "text/plain": [
       "<Figure size 640x480 with 1 Axes>"
      ]
     },
     "metadata": {},
     "output_type": "display_data"
    }
   ],
   "source": [
    "plt.scatter(hours, number_of_bacteria)\n",
    "plt.plot(hours, list(map(curve_1, hours)))\n",
    "plt.plot(hours[1:], list(map(curve_2, hours[1:])))\n"
   ]
  },
  {
   "cell_type": "markdown",
   "metadata": {},
   "source": [
    "By calculating the square sum error for each curve, the one that fitted the best the initial values is the first curve"
   ]
  },
  {
   "cell_type": "code",
   "execution_count": 32,
   "metadata": {},
   "outputs": [
    {
     "data": {
      "text/plain": [
       "(387.2741356647424, 517.2233055991059)"
      ]
     },
     "execution_count": 32,
     "metadata": {},
     "output_type": "execute_result"
    }
   ],
   "source": [
    "curve_1(7), curve_2(7)"
   ]
  }
 ],
 "metadata": {
  "kernelspec": {
   "display_name": "Python 3",
   "language": "python",
   "name": "python3"
  },
  "language_info": {
   "codemirror_mode": {
    "name": "ipython",
    "version": 3
   },
   "file_extension": ".py",
   "mimetype": "text/x-python",
   "name": "python",
   "nbconvert_exporter": "python",
   "pygments_lexer": "ipython3",
   "version": "3.12.4"
  }
 },
 "nbformat": 4,
 "nbformat_minor": 2
}
