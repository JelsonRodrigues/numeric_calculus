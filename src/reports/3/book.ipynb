{
 "cells": [
  {
   "cell_type": "code",
   "execution_count": 1,
   "metadata": {},
   "outputs": [],
   "source": [
    "import pandas as pd\n",
    "import matplotlib.pyplot as plt\n",
    "import numpy as np\n",
    "import sympy as sp\n",
    "import math"
   ]
  },
  {
   "cell_type": "markdown",
   "metadata": {},
   "source": [
    "# Langrange interpolation"
   ]
  },
  {
   "cell_type": "code",
   "execution_count": 4,
   "metadata": {},
   "outputs": [],
   "source": [
    "def lagrange_polynomial(x_values:np.ndarray, y_values:np.ndarray) -> sp.Expr:\n",
    "    n = len(x_values)\n",
    "    x = sp.symbols('x')\n",
    "    polynomial = 0\n",
    "    for i in range(n):\n",
    "        L = 1\n",
    "        for j in range(n):\n",
    "            if i != j:\n",
    "                L *= (x - x_values[j])/(x_values[i] - x_values[j])\n",
    "        polynomial += y_values[i] * L\n",
    "    return polynomial"
   ]
  },
  {
   "cell_type": "markdown",
   "metadata": {},
   "source": [
    "## Tests for Lagrange interpolation method"
   ]
  },
  {
   "cell_type": "code",
   "execution_count": 6,
   "metadata": {},
   "outputs": [
    {
     "data": {
      "text/latex": [
       "$\\displaystyle 0.666666666666667 x^{2} - 2.33333333333333 x + 1.0$"
      ],
      "text/plain": [
       "0.666666666666667*x**2 - 2.33333333333333*x + 1.0"
      ]
     },
     "execution_count": 6,
     "metadata": {},
     "output_type": "execute_result"
    }
   ],
   "source": [
    "x = np.array([-1, 0, 2], np.float64)\n",
    "y = np.array([4, 1, -1], np.float64)\n",
    "\n",
    "polynomial = lagrange_polynomial(x, y)\n",
    "polynomial.simplify()"
   ]
  },
  {
   "cell_type": "markdown",
   "metadata": {},
   "source": [
    "# Newton interpolation"
   ]
  },
  {
   "cell_type": "code",
   "execution_count": 19,
   "metadata": {},
   "outputs": [],
   "source": [
    "def divided_difference(x_values:np.ndarray, y_values:np.ndarray) -> sp.Expr:\n",
    "    n = len(x_values)\n",
    "    if n == 1:\n",
    "        return y_values[0]\n",
    "    return (divided_difference(x_values[1:], y_values[1:]) - divided_difference(x_values[:-1], y_values[:-1]))/(x_values[-1] - x_values[0])\n",
    "\n",
    "def newton_interpolation(x_values:np.ndarray, y_values:np.ndarray) -> sp.Expr:\n",
    "    n = len(x_values)\n",
    "    x = sp.symbols('x')\n",
    "    polynomial = y_values[0]\n",
    "    for i in range(1, n):\n",
    "        L = 1\n",
    "        for j in range(i):\n",
    "            L *= (x - x_values[j])\n",
    "        polynomial += L * divided_difference(x_values[:i+1], y_values[:i+1])\n",
    "    return polynomial\n"
   ]
  },
  {
   "cell_type": "markdown",
   "metadata": {},
   "source": [
    "# Tests for Newton interpolation"
   ]
  },
  {
   "cell_type": "code",
   "execution_count": 20,
   "metadata": {},
   "outputs": [
    {
     "data": {
      "text/latex": [
       "$\\displaystyle 0.666666666666667 x^{2} - 2.33333333333333 x + 1.0$"
      ],
      "text/plain": [
       "0.666666666666667*x**2 - 2.33333333333333*x + 1.0"
      ]
     },
     "execution_count": 20,
     "metadata": {},
     "output_type": "execute_result"
    }
   ],
   "source": [
    "x = np.array([-1, 0, 2], np.float64)\n",
    "y = np.array([4, 1, -1], np.float64)\n",
    "\n",
    "polynomial = newton_interpolation(x, y)\n",
    "polynomial.simplify()"
   ]
  }
 ],
 "metadata": {
  "kernelspec": {
   "display_name": "Python 3",
   "language": "python",
   "name": "python3"
  },
  "language_info": {
   "codemirror_mode": {
    "name": "ipython",
    "version": 3
   },
   "file_extension": ".py",
   "mimetype": "text/x-python",
   "name": "python",
   "nbconvert_exporter": "python",
   "pygments_lexer": "ipython3",
   "version": "3.12.4"
  }
 },
 "nbformat": 4,
 "nbformat_minor": 2
}
