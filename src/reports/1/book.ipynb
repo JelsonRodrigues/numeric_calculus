{
 "cells": [
  {
   "cell_type": "code",
   "execution_count": 1,
   "metadata": {},
   "outputs": [],
   "source": [
    "import pandas as pd\n",
    "import matplotlib.pyplot as plt\n",
    "from typing import Callable, Tuple"
   ]
  },
  {
   "cell_type": "markdown",
   "metadata": {},
   "source": [
    "# Bissection Method\n",
    "The Bissection method works by evaluating a function in an interval. It's necessary that the interval contains a root to the funcion.\n",
    "At each iteration, the interval will be splitted in half, then the function is evaluated at the mid point. The next interval will be defined by one of the old extemities and the mid point. The extremitie that will be replaced by the mid point is the one that has the same sign as the function in the mid point.\n",
    "\n",
    "This method has a property of alway converging to a root (when there is one in the interval) with a conversion factor of 1.\n",
    "This method also can be implemented in a concurrent way, and instead of splitting the interval in half, one could split the interval in N parts and make N function evaluations in parallel, thus speeding the conversion with less iterations.\n",
    "\n",
    "The implementation bellow is done in a recursive way, where there is two stop conditions, the tol and the iterations."
   ]
  },
  {
   "cell_type": "code",
   "execution_count": 2,
   "metadata": {},
   "outputs": [],
   "source": [
    "def bissection(\n",
    "      f: Callable[[float], float], \n",
    "      a: float, \n",
    "      b: float, \n",
    "      tol: float, \n",
    "      iterations:int\n",
    "      ) -> float:\n",
    "    if iterations < 0:\n",
    "      raise ValueError(\"Iterations cannot be less than 0\")\n",
    "    \n",
    "    f_a : float = f(a)\n",
    "    f_b : float = f(b)\n",
    "    mid_point : float = (a + b) / 2.0\n",
    "    f_mid : float = f(mid_point)\n",
    "    \n",
    "    if iterations == 0 or abs(f_mid) < tol:\n",
    "       return mid_point\n",
    "    else:\n",
    "       if f_a * f_mid < 0:\n",
    "          return bissection(f, a, mid_point, tol, iterations - 1)\n",
    "       else:\n",
    "          return bissection(f, mid_point, b, tol, iterations - 1)"
   ]
  },
  {
   "cell_type": "markdown",
   "metadata": {},
   "source": [
    "# False Position Method \n",
    "\n",
    "The false position method is very similar to the bissection, except that the interval is not splitted in half, it is an weighted average of the extremities and their error. This method always converge to a root.\n"
   ]
  },
  {
   "cell_type": "code",
   "execution_count": 3,
   "metadata": {},
   "outputs": [],
   "source": [
    "def false_position(\n",
    "    f: Callable[[float], float],\n",
    "    a : float, \n",
    "    b : float, \n",
    "    tol : float,\n",
    "    iterations:int\n",
    "    ) -> float:\n",
    "    if iterations < 0:\n",
    "      raise ValueError(\"Iterations cannot be less than 0\")\n",
    "    \n",
    "    f_a : float = f(a)\n",
    "    f_b : float = f(b)\n",
    "    mid_point : float = (a * f_b - b * f_a) / (f_b - f_a)\n",
    "    f_mid : float = f(mid_point)\n",
    "    \n",
    "    if iterations == 0 or abs(f_mid) < tol:\n",
    "       return mid_point\n",
    "    else:\n",
    "       if f_a * f_mid < 0:\n",
    "          return false_position(f, a, mid_point, tol, iterations - 1)\n",
    "       else:\n",
    "          return false_position(f, mid_point, b, tol, iterations - 1)"
   ]
  },
  {
   "cell_type": "markdown",
   "metadata": {},
   "source": [
    "# Newton-Rhapson Method\n",
    "\n",
    "The Newton-Rhapson method works by following the solpe of the funcion, and for that it needs the derivate of the function. This method, in contrast to the first two, is not guaranteed to converge, however when it does converge, it is the fastest with a conversion factor of 2.\n",
    "\n",
    "When considering concurrent implementations of this method, one could evaluate the function and it's derivative at the same time."
   ]
  },
  {
   "cell_type": "code",
   "execution_count": 4,
   "metadata": {},
   "outputs": [],
   "source": [
    "def newton_rhapson_method(\n",
    "    f: Callable[[float], float],\n",
    "    df: Callable[[float], float],\n",
    "    guess: float,\n",
    "    tol: float,\n",
    "    iterations: int\n",
    "  ) -> float:\n",
    "  if iterations < 0:\n",
    "    raise ValueError(\"Iterations cannot be less than 0\")\n",
    "  \n",
    "  f_guess = f(guess)\n",
    "  df_guess = df(guess)\n",
    "\n",
    "  if iterations == 0 or abs(f_guess) < tol:\n",
    "    return guess\n",
    "  else:\n",
    "    new_guess = guess - f_guess / df_guess\n",
    "    return newton_rhapson_method(f, df, new_guess, tol, iterations - 1)"
   ]
  },
  {
   "cell_type": "markdown",
   "metadata": {},
   "source": [
    "# Secant Method\n",
    "\n",
    "The secant method is a variation of the Newton-Rhapson method, where is not necessary the derivative of the function. It will be made and approximation. \n",
    "In the following implementation, a derivative approximation function is created by sampling the original function in two points very near the $x$ input. Currently the offset from x used is 0.0000001 (1e-7).\n",
    "\n",
    "This method has a convergence factor of 1.618 ((1 + sqrt(5)) / 2)"
   ]
  },
  {
   "cell_type": "code",
   "execution_count": 5,
   "metadata": {},
   "outputs": [],
   "source": [
    "def secant_method(\n",
    "    f: Callable[[float], float],\n",
    "    guess: float,\n",
    "    tol: float,\n",
    "    iterations: int\n",
    "  ) -> float: \n",
    "  df_approximation = lambda x: (f(x + 1e-7) - f(x - 1e-7)) / 2e-7\n",
    "  return newton_rhapson_method(f, df_approximation, guess, tol, iterations)"
   ]
  },
  {
   "cell_type": "code",
   "execution_count": 40,
   "metadata": {},
   "outputs": [
    {
     "data": {
      "image/png": "[encoded data removed]",
      "text/plain": [
       "<Figure size 640x480 with 1 Axes>"
      ]
     },
     "metadata": {},
     "output_type": "display_data"
    },
    {
     "name": "stdout",
     "output_type": "stream",
     "text": [
      "   iter         error\n",
      "0     0  7.441880e-02\n",
      "1     1  1.175242e-03\n",
      "2     2  1.838657e-05\n",
      "3     3  2.876139e-07\n",
      "4     4  4.499021e-09\n",
      "5     5  7.037571e-11\n",
      "6     6  1.100453e-12\n",
      "7     7  1.776357e-14\n",
      "8     8  8.881784e-16\n",
      "9     9  8.881784e-16\n",
      "0.5768875239163401\n"
     ]
    }
   ],
   "source": [
    "iterations = 10\n",
    "function = lambda x: x ** 3 - 9 * x + 5\n",
    "a = 0.5\n",
    "b = 1.0\n",
    "\n",
    "error = []\n",
    "\n",
    "for it in range(iterations):\n",
    "    mid = false_position(function, a, b, 0.0, 0)\n",
    "\n",
    "    f_a = function(a)\n",
    "    # f_b = function(b)\n",
    "    f_mid = function(mid)\n",
    "\n",
    "    if f_a * f_mid < 0.0:\n",
    "        b = mid\n",
    "    else:\n",
    "        a = mid\n",
    "            \n",
    "    error.append(abs(f_mid))\n",
    "    \n",
    "df_errors = pd.DataFrame(data=[{\"iter\": it, \"error\" : val} for it, val in enumerate(error)], columns=[\"iter\", \"error\"])\n",
    "df_errors.plot(x=\"iter\", y=\"error\")\n",
    "plt.show()\n",
    "print(df_errors)\n",
    "print(mid)\n"
   ]
  },
  {
   "cell_type": "code",
   "execution_count": 7,
   "metadata": {},
   "outputs": [
    {
     "data": {
      "text/plain": [
       "0.578125"
      ]
     },
     "execution_count": 7,
     "metadata": {},
     "output_type": "execute_result"
    }
   ],
   "source": [
    "bissection(lambda x: x**3 -9*x + 5, 0.5, 1.0, 0.05, 5)"
   ]
  },
  {
   "cell_type": "code",
   "execution_count": 8,
   "metadata": {},
   "outputs": [
    {
     "data": {
      "text/plain": [
       "0.5770344044260434"
      ]
     },
     "execution_count": 8,
     "metadata": {},
     "output_type": "execute_result"
    }
   ],
   "source": [
    "false_position(lambda x: x**3 -9*x + 5, 0.5, 1.0, 0.05, 5)"
   ]
  },
  {
   "cell_type": "code",
   "execution_count": 13,
   "metadata": {},
   "outputs": [
    {
     "data": {
      "text/plain": [
       "2.2360688956433634"
      ]
     },
     "execution_count": 13,
     "metadata": {},
     "output_type": "execute_result"
    }
   ],
   "source": [
    "fn = lambda x: x**2 - 5\n",
    "d_fn = lambda x: 2*x\n",
    "newton_rhapson_method(fn, d_fn, 3.0, 10e-4, 5)"
   ]
  },
  {
   "cell_type": "code",
   "execution_count": 14,
   "metadata": {},
   "outputs": [
    {
     "data": {
      "text/plain": [
       "2.2360688956392814"
      ]
     },
     "execution_count": 14,
     "metadata": {},
     "output_type": "execute_result"
    }
   ],
   "source": [
    "fn = lambda x: x**2 - 5\n",
    "secant_method(fn, 3.0, 10e-4, 5)"
   ]
  },
  {
   "cell_type": "code",
   "execution_count": 12,
   "metadata": {},
   "outputs": [
    {
     "name": "stdout",
     "output_type": "stream",
     "text": [
      "secant = 2.333333332242281, newton = 2.3333333333333335, abs dif = 0.0000000011\n",
      "secant = 2.238095237909163, newton = 2.238095238095238, abs dif = 0.0000000002\n",
      "secant = 2.2360688956392814, newton = 2.2360688956433634, abs dif = 0.0000000000\n",
      "secant = 2.2360688956392814, newton = 2.2360688956433634, abs dif = 0.0000000000\n",
      "secant = 2.2360688956392814, newton = 2.2360688956433634, abs dif = 0.0000000000\n"
     ]
    }
   ],
   "source": [
    "fn = lambda x: x**2 - 5\n",
    "d_fn = lambda x: 2*x\n",
    "guess_newton = 3.0\n",
    "guess_secant = 3.0\n",
    "for it in range(0, 5):\n",
    "  guess_newton = newton_rhapson_method(fn, d_fn, guess_newton, 10e-4, 1)\n",
    "  guess_secant = secant_method(fn, guess_secant, 10e-4, 1)\n",
    "  print(f\"secant = {guess_secant}, newton = {guess_newton}, abs dif = {abs(guess_secant - guess_newton):.10f}\")"
   ]
  }
 ],
 "metadata": {
  "kernelspec": {
   "display_name": "Python 3",
   "language": "python",
   "name": "python3"
  },
  "language_info": {
   "codemirror_mode": {
    "name": "ipython",
    "version": 3
   },
   "file_extension": ".py",
   "mimetype": "text/x-python",
   "name": "python",
   "nbconvert_exporter": "python",
   "pygments_lexer": "ipython3",
   "version": "3.10.12"
  }
 },
 "nbformat": 4,
 "nbformat_minor": 2
}
