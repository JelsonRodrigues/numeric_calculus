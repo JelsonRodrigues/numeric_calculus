{
 "cells": [
  {
   "cell_type": "code",
   "execution_count": 1,
   "metadata": {},
   "outputs": [],
   "source": [
    "import pandas as pd\n",
    "import matplotlib.pyplot as plt\n",
    "from typing import Callable, Tuple"
   ]
  },
  {
   "cell_type": "code",
   "execution_count": 2,
   "metadata": {},
   "outputs": [],
   "source": [
    "def bissection(\n",
    "      f: Callable[[float], float], \n",
    "      a: float, \n",
    "      b: float, \n",
    "      tol: float, \n",
    "      iterations:int\n",
    "      ) -> float:\n",
    "    if iterations < 0:\n",
    "      raise ValueError(\"Iterations cannot be less than 0\")\n",
    "    \n",
    "    f_a : float = f(a)\n",
    "    f_b : float = f(b)\n",
    "    mid_point : float = (a + b) / 2.0\n",
    "    f_mid : float = f(mid_point)\n",
    "    \n",
    "    if iterations == 0 or abs(f_mid) < tol:\n",
    "       return mid_point\n",
    "    else:\n",
    "       if f_a * f_mid < 0:\n",
    "          return bissection(f, a, mid_point, tol, iterations - 1)\n",
    "       else:\n",
    "          return bissection(f, mid_point, b, tol, iterations - 1)"
   ]
  },
  {
   "cell_type": "code",
   "execution_count": 3,
   "metadata": {},
   "outputs": [],
   "source": [
    "def false_position(\n",
    "    f: Callable[[float], float],\n",
    "    a : float, \n",
    "    b : float, \n",
    "    tol : float,\n",
    "    iterations:int\n",
    "    ) -> float:\n",
    "    if iterations < 0:\n",
    "      raise ValueError(\"Iterations cannot be less than 0\")\n",
    "    \n",
    "    f_a : float = f(a)\n",
    "    f_b : float = f(b)\n",
    "    mid_point : float = (a * f_b - b * f_a) / (f_b - f_a)\n",
    "    f_mid : float = f(mid_point)\n",
    "    \n",
    "    if iterations == 0 or abs(f_mid) < tol:\n",
    "       return mid_point\n",
    "    else:\n",
    "       if f_a * f_mid < 0:\n",
    "          return false_position(f, a, mid_point, tol, iterations - 1)\n",
    "       else:\n",
    "          return false_position(f, mid_point, b, tol, iterations - 1)"
   ]
  },
  {
   "cell_type": "code",
   "execution_count": 4,
   "metadata": {},
   "outputs": [],
   "source": [
    "def newton_rhapson_method(\n",
    "    f: Callable[[float], float],\n",
    "    df: Callable[[float], float],\n",
    "    guess: float,\n",
    "    tol: float,\n",
    "    iterations: int\n",
    "  ) -> float:\n",
    "  if iterations < 0:\n",
    "    raise ValueError(\"Iterations cannot be less than 0\")\n",
    "  \n",
    "  f_guess = f(guess)\n",
    "  df_guess = df(guess)\n",
    "\n",
    "  if iterations == 0 or abs(f_guess) < tol:\n",
    "    return guess\n",
    "  else:\n",
    "    new_guess = guess - f_guess / df_guess\n",
    "    return newton_rhapson_method(f, df, new_guess, tol, iterations - 1)"
   ]
  },
  {
   "cell_type": "code",
   "execution_count": 5,
   "metadata": {},
   "outputs": [],
   "source": [
    "def secant_method(\n",
    "    f: Callable[[float], float],\n",
    "    guess: float,\n",
    "    tol: float,\n",
    "    iterations: int\n",
    "  ) -> float: \n",
    "  df_approximation = lambda x: (f(x) - f(x - 1e-6)) / 1e-6\n",
    "  return newton_rhapson_method(f, df_approximation, guess, tol, iterations)"
   ]
  },
  {
   "cell_type": "code",
   "execution_count": 6,
   "metadata": {},
   "outputs": [],
   "source": [
    "def false_position_plotting(\n",
    "    f: Callable[[float], float],\n",
    "    a : float, \n",
    "    b : float, \n",
    "    iterations:float\n",
    "    ):\n",
    "    df_errors = pd.DataFrame(columns=[\"iter\", \"error\"])\n",
    "    for it in range(0, iterations):\n",
    "        f_a : float = f(a)\n",
    "        f_b : float = f(b)\n",
    "        mid_point : float = (a * f_b - b * f_a) / (f_b - f_a)\n",
    "        f_mid : float = f(mid_point)\n",
    "\n",
    "        if f_a * f_mid < 0:\n",
    "            b = f_mid\n",
    "        else:\n",
    "            a = f_mid\n",
    "            \n",
    "        df_errors = pd.concat([\n",
    "            df_errors,\n",
    "            pd.Series({\"iter\" : it, \"error\": abs(f_mid)}).to_frame().T\n",
    "        ]) \n",
    "    \n",
    "    df_errors.plot(x=\"iter\", y=\"error\")\n",
    "    plt.show()\n",
    "    print(df_errors)\n"
   ]
  },
  {
   "cell_type": "code",
   "execution_count": 7,
   "metadata": {},
   "outputs": [
    {
     "data": {
      "text/plain": [
       "0.578125"
      ]
     },
     "execution_count": 7,
     "metadata": {},
     "output_type": "execute_result"
    }
   ],
   "source": [
    "bissection(lambda x: x**3 -9*x + 5, 0.5, 1.0, 0.05, 5)"
   ]
  },
  {
   "cell_type": "code",
   "execution_count": 8,
   "metadata": {},
   "outputs": [
    {
     "data": {
      "text/plain": [
       "0.5770344044260434"
      ]
     },
     "execution_count": 8,
     "metadata": {},
     "output_type": "execute_result"
    }
   ],
   "source": [
    "false_position(lambda x: x**3 -9*x + 5, 0.5, 1.0, 0.05, 5)"
   ]
  },
  {
   "cell_type": "code",
   "execution_count": 13,
   "metadata": {},
   "outputs": [
    {
     "name": "stderr",
     "output_type": "stream",
     "text": [
      "C:\\Users\\jelso\\AppData\\Local\\Temp\\ipykernel_22384\\1620729796.py:19: FutureWarning: The behavior of DataFrame concatenation with empty or all-NA entries is deprecated. In a future version, this will no longer exclude empty or all-NA columns when determining the result dtypes. To retain the old behavior, exclude the relevant entries before the concat operation.\n",
      "  df_errors = pd.concat([\n"
     ]
    },
    {
     "data": {
      "image/png": "[encoded data removed]",
      "text/plain": [
       "<Figure size 640x480 with 1 Axes>"
      ]
     },
     "metadata": {},
     "output_type": "display_data"
    },
    {
     "name": "stdout",
     "output_type": "stream",
     "text": [
      "   iter     error\n",
      "0   0.0  0.074419\n",
      "0   1.0  0.045798\n",
      "0   2.0  0.169448\n",
      "0   3.0  0.159582\n",
      "0   4.0  0.161007\n",
      "0   5.0  0.160808\n",
      "0   6.0  0.160836\n",
      "0   7.0  0.160832\n",
      "0   8.0  0.160833\n",
      "0   9.0  0.160833\n"
     ]
    }
   ],
   "source": [
    "false_position_plotting(lambda x: x**3 -9*x + 5, 0.5, 1.0, 10)"
   ]
  },
  {
   "cell_type": "code",
   "execution_count": 10,
   "metadata": {},
   "outputs": [
    {
     "data": {
      "text/plain": [
       "2.2360688956433634"
      ]
     },
     "execution_count": 10,
     "metadata": {},
     "output_type": "execute_result"
    }
   ],
   "source": [
    "fn = lambda x: x**2 - 5\n",
    "d_fn = lambda x: 2*x\n",
    "newton_rhapson_method(fn, d_fn, 3.0, 10e-4, 5)"
   ]
  },
  {
   "cell_type": "code",
   "execution_count": 11,
   "metadata": {},
   "outputs": [
    {
     "data": {
      "text/plain": [
       "2.23606889516846"
      ]
     },
     "execution_count": 11,
     "metadata": {},
     "output_type": "execute_result"
    }
   ],
   "source": [
    "fn = lambda x: x**2 - 5\n",
    "secant_method(fn, 3.0, 10e-4, 5)"
   ]
  },
  {
   "cell_type": "code",
   "execution_count": 12,
   "metadata": {},
   "outputs": [
    {
     "name": "stdout",
     "output_type": "stream",
     "text": [
      "secant = 2.3333332223055114, newton = 2.3333333333333335, abs dif = 0.0000001110\n",
      "secant = 2.23809521316707, newton = 2.238095238095238, abs dif = 0.0000000249\n",
      "secant = 2.23606889516846, newton = 2.2360688956433634, abs dif = 0.0000000005\n",
      "secant = 2.23606889516846, newton = 2.2360688956433634, abs dif = 0.0000000005\n",
      "secant = 2.23606889516846, newton = 2.2360688956433634, abs dif = 0.0000000005\n"
     ]
    }
   ],
   "source": [
    "fn = lambda x: x**2 - 5\n",
    "d_fn = lambda x: 2*x\n",
    "guess_newton = 3.0\n",
    "guess_secant = 3.0\n",
    "for it in range(0, 5):\n",
    "  guess_newton = newton_rhapson_method(fn, d_fn, guess_newton, 10e-4, 1)\n",
    "  guess_secant = secant_method(fn, guess_secant, 10e-4, 1)\n",
    "  print(f\"secant = {guess_secant}, newton = {guess_newton}, abs dif = {abs(guess_secant - guess_newton):.10f}\")"
   ]
  }
 ],
 "metadata": {
  "kernelspec": {
   "display_name": "Python 3",
   "language": "python",
   "name": "python3"
  },
  "language_info": {
   "codemirror_mode": {
    "name": "ipython",
    "version": 3
   },
   "file_extension": ".py",
   "mimetype": "text/x-python",
   "name": "python",
   "nbconvert_exporter": "python",
   "pygments_lexer": "ipython3",
   "version": "3.12.3"
  }
 },
 "nbformat": 4,
 "nbformat_minor": 2
}
