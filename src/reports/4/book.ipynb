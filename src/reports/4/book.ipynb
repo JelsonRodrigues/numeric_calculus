{
 "cells": [
  {
   "cell_type": "code",
   "execution_count": 1,
   "metadata": {},
   "outputs": [],
   "source": [
    "import sympy as sp\n",
    "import scipy as sc\n",
    "import numpy as np\n",
    "import matplotlib.pyplot as plt\n",
    "import math\n",
    "from typing import List"
   ]
  },
  {
   "cell_type": "markdown",
   "metadata": {},
   "source": [
    "# Methods"
   ]
  },
  {
   "cell_type": "markdown",
   "metadata": {},
   "source": [
    "This method is used to convert between a function and a list of points sampled from the function"
   ]
  },
  {
   "cell_type": "code",
   "execution_count": 2,
   "metadata": {},
   "outputs": [],
   "source": [
    "def sample_function_in_range(f:sp.Expr, a, b, n) -> np.ndarray:\n",
    "    # Set of points linearly spaced between a and b\n",
    "    x = np.linspace(a, b, n)\n",
    "    # Compute the value of the function at each point in x\n",
    "    y = np.array(list(map(lambda var: f.subs('x', var), x)))\n",
    "    return y"
   ]
  },
  {
   "cell_type": "markdown",
   "metadata": {},
   "source": [
    "# Trapezoidal method"
   ]
  },
  {
   "cell_type": "code",
   "execution_count": 3,
   "metadata": {},
   "outputs": [],
   "source": [
    "def trapezoidal_method(points_y : np.ndarray, h) -> float:\n",
    "    n = len(points_y) -1\n",
    "    \n",
    "    if n+1 < 2:\n",
    "        raise ValueError(\"n must be greater than 1\")\n",
    "\n",
    "    # This will create the expansion for the sum\n",
    "    weights = np.array([1.0, 1.0])\n",
    "    summation = sum(\n",
    "        map(lambda sub_interval: np.dot(sub_interval, weights), \n",
    "            map(lambda index: points_y[index:index+2], range(0, n, 1))\n",
    "          )\n",
    "        )\n",
    "\n",
    "    return h * (1 / 2) * summation\n",
    "\n",
    "def trapezoidal_method_error(f : sp.Expr, a, b, n) -> float:\n",
    "    # Compute the second derivative of the function\n",
    "    f_2 = sp.diff(f, 'x', 2)\n",
    "    h = (b - a) / n\n",
    "    random_value_on_interval = np.random.uniform(a, b)\n",
    "    return -h**2 / 12 * f_2.subs('x', random_value_on_interval)"
   ]
  },
  {
   "cell_type": "markdown",
   "metadata": {},
   "source": [
    "## Tests for trapezoidal method"
   ]
  },
  {
   "cell_type": "code",
   "execution_count": 4,
   "metadata": {},
   "outputs": [
    {
     "name": "stdout",
     "output_type": "stream",
     "text": [
      "Integral of exp(x) from 0 to 1 using 10 points: 1.71971349138931\n"
     ]
    }
   ],
   "source": [
    "a = 0\n",
    "b = 1\n",
    "n = 10\n",
    "x = sp.symbols(\"x\")\n",
    "f = sp.exp(x)\n",
    "h = (b - a) / n\n",
    "integral = trapezoidal_method(sample_function_in_range(f, a, b, n+1), h)\n",
    "print(f\"Integral of exp(x) from {a} to {b} using {n} points: {integral}\")"
   ]
  },
  {
   "cell_type": "code",
   "execution_count": 5,
   "metadata": {},
   "outputs": [
    {
     "name": "stdout",
     "output_type": "stream",
     "text": [
      "Number of points needed to get an error less than 10e-3: 4, 116.990980584056\n"
     ]
    }
   ],
   "source": [
    "error_expected = 10e-3\n",
    "n=0\n",
    "while True:\n",
    "    n += 1\n",
    "    error = trapezoidal_method_error(f, a, b, n)\n",
    "    if abs(error) < error_expected:\n",
    "        break\n",
    "print(f\"Number of points needed to get an error less than 10e-3: {n}, {1/(abs(error))}\")"
   ]
  },
  {
   "cell_type": "markdown",
   "metadata": {},
   "source": [
    "# 1/3 Simpson Method"
   ]
  },
  {
   "cell_type": "code",
   "execution_count": 6,
   "metadata": {},
   "outputs": [],
   "source": [
    "def simpson_one_third_method(points_y:np.ndarray, h) -> float:\n",
    "    n = len(points_y) -1\n",
    "    \n",
    "    if n % 2 != 0:\n",
    "        raise ValueError(\"The number of points a multiple of 2\")\n",
    "\n",
    "    # Compute the integral using the Simpson's three eight rule\n",
    "    weights = np.array([1.0, 4.0, 1.0])\n",
    "    summation = sum(\n",
    "        map(lambda sub_interval: np.dot(sub_interval, weights), \n",
    "            map(lambda index: points_y[index:index+3], range(0, n, 2))\n",
    "          )\n",
    "        )\n",
    "\n",
    "    return h * (1 / 3) * summation"
   ]
  },
  {
   "cell_type": "markdown",
   "metadata": {},
   "source": [
    "## Tests for 1/3 Simpson Method"
   ]
  },
  {
   "cell_type": "code",
   "execution_count": 7,
   "metadata": {},
   "outputs": [
    {
     "name": "stdout",
     "output_type": "stream",
     "text": [
      "Integral of exp(x) from 0 to 1 using 10 points: 1.71828278192482\n"
     ]
    }
   ],
   "source": [
    "a = 0\n",
    "b = 1\n",
    "n = 10\n",
    "x = sp.symbols(\"x\")\n",
    "f = sp.exp(x)\n",
    "h = (b - a) / n\n",
    "integral = simpson_one_third_method(sample_function_in_range(f, a, b, n+1), h)\n",
    "print(f\"Integral of exp(x) from {a} to {b} using {n} points: {integral}\")"
   ]
  },
  {
   "cell_type": "markdown",
   "metadata": {},
   "source": [
    "#  3/8 Simpson method"
   ]
  },
  {
   "cell_type": "code",
   "execution_count": 8,
   "metadata": {},
   "outputs": [],
   "source": [
    "def simpson_three_eights_method(point_y:np.ndarray, h) -> float:\n",
    "    n = len(point_y) -1\n",
    "\n",
    "    if n % 3 != 0:\n",
    "        raise ValueError(\"The number of points must be a multiple of 3\")\n",
    "    \n",
    "    # Compute the integral using the Simpson's three eight rule\n",
    "    weights = np.array([1.0, 3.0, 3.0, 1.0])\n",
    "    summation = sum(\n",
    "        map(lambda sub_interval: np.dot(sub_interval, weights),\n",
    "            map(lambda index: point_y[index:index+4], range(0, n, 3))\n",
    "          )\n",
    "        )\n",
    "\n",
    "    return h * (3 / 8) * summation\n",
    "\n",
    "def simpson_three_eights_method_error(f : sp.Expr, a, b, n):\n",
    "    # Compute the fourth derivative of the function\n",
    "    f_4 = sp.diff(f, 'x', 4)\n",
    "    h = (b - a) / n\n",
    "    random_value_on_interval = np.random.uniform(a, b)\n",
    "    return -h**4 / 80 * f_4.subs('x', random_value_on_interval)"
   ]
  },
  {
   "cell_type": "markdown",
   "metadata": {},
   "source": [
    "## Tests for 3/8 Simpson method"
   ]
  },
  {
   "cell_type": "code",
   "execution_count": 9,
   "metadata": {},
   "outputs": [
    {
     "name": "stdout",
     "output_type": "stream",
     "text": [
      "Integral of exp(x) from 0 to 1 using 9 points: 1.71828509252926\n"
     ]
    }
   ],
   "source": [
    "a = 0\n",
    "b = 1\n",
    "n = 9\n",
    "x = sp.symbols(\"x\")\n",
    "f = sp.exp(x)\n",
    "h = (b - a) / n\n",
    "integral = simpson_three_eights_method(sample_function_in_range(f, a, b, n+1), h)\n",
    "print(f\"Integral of exp(x) from {a} to {b} using {n} points: {integral}\")"
   ]
  },
  {
   "cell_type": "markdown",
   "metadata": {},
   "source": [
    "# Euler method for differentiation"
   ]
  },
  {
   "cell_type": "code",
   "execution_count": 10,
   "metadata": {},
   "outputs": [],
   "source": [
    "def euler_method(f, x0, y0, h, n):\n",
    "    x = x0\n",
    "    y = y0\n",
    "    for _ in range(n):\n",
    "        y = y + h * f(x, y)\n",
    "        x = x + h\n",
    "    return y"
   ]
  },
  {
   "cell_type": "markdown",
   "metadata": {},
   "source": [
    "## Tests for Euler method"
   ]
  },
  {
   "cell_type": "code",
   "execution_count": 11,
   "metadata": {},
   "outputs": [
    {
     "data": {
      "text/plain": [
       "0.6281565095552948"
      ]
     },
     "execution_count": 11,
     "metadata": {},
     "output_type": "execute_result"
    }
   ],
   "source": [
    "f = lambda x, y : -x * y\n",
    "h = 0.1\n",
    "n = 10\n",
    "x0 = 0\n",
    "y0 = 1\n",
    "\n",
    "euler_method(f, x0, y0, h, n)"
   ]
  },
  {
   "cell_type": "markdown",
   "metadata": {},
   "source": [
    "# Runge-Kutta 2nd order"
   ]
  },
  {
   "cell_type": "code",
   "execution_count": 12,
   "metadata": {},
   "outputs": [],
   "source": [
    "def runge_kutta_2nd_order(f, x0, y0, h, n):\n",
    "    x = x0\n",
    "    y = y0\n",
    "    for _ in range(n):\n",
    "        k1 = h * f(x, y)\n",
    "        k2 = h * f(x + h, y + k1)\n",
    "        y = y + (1/2) * (k1 + k2)\n",
    "        x = x + h\n",
    "    return y"
   ]
  },
  {
   "cell_type": "markdown",
   "metadata": {},
   "source": [
    "## Tests for Runge-Kutta 2nd order method"
   ]
  },
  {
   "cell_type": "code",
   "execution_count": 13,
   "metadata": {},
   "outputs": [
    {
     "data": {
      "text/plain": [
       "0.6670895521276202"
      ]
     },
     "execution_count": 13,
     "metadata": {},
     "output_type": "execute_result"
    }
   ],
   "source": [
    "f = lambda x, y : -x * y\n",
    "h = 0.1\n",
    "n = 9\n",
    "x0 = 0\n",
    "y0 = 1\n",
    "\n",
    "runge_kutta_2nd_order(f, x0, y0, h, n)"
   ]
  },
  {
   "cell_type": "markdown",
   "metadata": {},
   "source": [
    "# Runge-Kutta 4th order"
   ]
  },
  {
   "cell_type": "code",
   "execution_count": 14,
   "metadata": {},
   "outputs": [],
   "source": [
    "def runge_kutta_4th_order(f, x0, y0, h, n):\n",
    "    x = x0\n",
    "    y = y0\n",
    "    for _ in range(n):\n",
    "        k1 = h * f(x, y)\n",
    "        k2 = h * f(x + h/2, y + (1/2) * k1)\n",
    "        k3 = h * f(x + h/2, y + (1/2) * k2)\n",
    "        k4 = h * f(x + h, y + k3)\n",
    "        y = y + (1/6) * (k1 + 2*k2 + 2*k3 + k4)\n",
    "        x = x + h\n",
    "    return y"
   ]
  },
  {
   "cell_type": "markdown",
   "metadata": {},
   "source": [
    "## Tests for Runge-Kutta 4th order"
   ]
  },
  {
   "cell_type": "code",
   "execution_count": 15,
   "metadata": {},
   "outputs": [
    {
     "data": {
      "text/plain": [
       "0.6669768445306272"
      ]
     },
     "execution_count": 15,
     "metadata": {},
     "output_type": "execute_result"
    }
   ],
   "source": [
    "f = lambda x, y : -x * y\n",
    "h = 0.1\n",
    "n = 9\n",
    "x0 = 0\n",
    "y0 = 1\n",
    "\n",
    "runge_kutta_4th_order(f, x0, y0, h, n)"
   ]
  },
  {
   "cell_type": "markdown",
   "metadata": {},
   "source": [
    "# Exercises"
   ]
  },
  {
   "cell_type": "markdown",
   "metadata": {},
   "source": [
    "# 1 \n",
    "The work done by a force $ F(x) $, that has an angle between the movement direction and the force, given by $ \\theta (x) $, can be obtained with the following formula:\n",
    "\n",
    "$ W = \\int_{x_0}^{x_n}{F(x)cos(\\theta(x)) dx} $\n",
    "\n",
    "Where the values $ x_0 $ and $ x_n $ are the starting and ending positions.\n",
    "\n",
    "Calculate the best approximation to the work done, W, by pulling a block from position 0 to 30 knowing that the force and the angle are given bellow"
   ]
  },
  {
   "cell_type": "code",
   "execution_count": 16,
   "metadata": {},
   "outputs": [],
   "source": [
    "x = [0, 2.5, 5, 15, 20, 25, 30]\n",
    "f_x = [0, 7, 9, 14, 10.5, 12, 5]\n",
    "theta_x = [0.5, 0.9, 1.4, 0.9, 1.3, 1.48, 1.5]"
   ]
  },
  {
   "cell_type": "markdown",
   "metadata": {},
   "source": [
    "## a) \n",
    "Apply the Simpson one third method in the first interval from 0 to 5"
   ]
  },
  {
   "cell_type": "code",
   "execution_count": 31,
   "metadata": {},
   "outputs": [
    {
     "name": "stdout",
     "output_type": "stream",
     "text": [
      "The approximate value of the function W is 15.778986164733976 in the interval [0, 5]\n",
      "2.5\n"
     ]
    }
   ],
   "source": [
    "i_start = 0\n",
    "i_end = 2\n",
    "\n",
    "n = 2\n",
    "a = x[i_start]\n",
    "b = x[i_end]\n",
    "h = (b - a) / n\n",
    "\n",
    "points = [f_x[i] * math.cos(theta_x[i]) for i in range(i_start, i_end+1)]\n",
    "integral = simpson_one_third_method(points, h)\n",
    "print(f\"The approximate value of the function W is {integral} in the interval [{a}, {b}]\")\n",
    "print(h)"
   ]
  },
  {
   "cell_type": "markdown",
   "metadata": {},
   "source": [
    "## b)\n",
    "Apply the Trapezoidal method on the second interval"
   ]
  },
  {
   "cell_type": "code",
   "execution_count": 18,
   "metadata": {},
   "outputs": [
    {
     "name": "stdout",
     "output_type": "stream",
     "text": [
      "The integral of the function is 51.16121920945736 in the interval [5, 15]\n",
      "10.0\n"
     ]
    }
   ],
   "source": [
    "i_start = 2\n",
    "i_end = 3\n",
    "\n",
    "n = 1\n",
    "a = x[i_start]\n",
    "b = x[i_end]\n",
    "h = (b - a) / n\n",
    "\n",
    "points = [f_x[i] * math.cos(theta_x[i]) for i in range(i_start, i_end+1)]\n",
    "integral = trapezoidal_method(points, h)\n",
    "print(f\"The integral of the function is {integral} in the interval [{a}, {b}]\")\n",
    "print(h)"
   ]
  },
  {
   "cell_type": "markdown",
   "metadata": {},
   "source": [
    "## c)\n",
    "Apply the Simpson trhee eights method to the third interval"
   ]
  },
  {
   "cell_type": "code",
   "execution_count": 19,
   "metadata": {},
   "outputs": [
    {
     "name": "stdout",
     "output_type": "stream",
     "text": [
      "The integral of the function is 38.89990714972025 in the interval [15, 30]\n",
      "5.0\n"
     ]
    }
   ],
   "source": [
    "i_start = 3\n",
    "i_end = 6\n",
    "\n",
    "n = 3\n",
    "a = x[i_start]\n",
    "b = x[i_end]\n",
    "h = (b - a) / n\n",
    "\n",
    "points = [f_x[i] * math.cos(theta_x[i]) for i in range(i_start, i_end+1)]\n",
    "integral = simpson_three_eights_method(points, h)\n",
    "print(f\"The integral of the function is {integral} in the interval [{a}, {b}]\")\n",
    "print(h)"
   ]
  },
  {
   "cell_type": "markdown",
   "metadata": {},
   "source": [
    "# 2\n",
    "For the problems with starting values\n",
    "\n",
    "A) $\n",
    "\\begin{cases}\n",
    "   y' = x^2 + y^2 \\\\\n",
    "   y(0) = 0\n",
    "\\end{cases}\n",
    "$\n",
    "\n",
    "B) $\n",
    "\\begin{cases}\n",
    "   y' = x + y \\\\\n",
    "   y(0) = 1\n",
    "\\end{cases}\n",
    "$"
   ]
  },
  {
   "cell_type": "code",
   "execution_count": 20,
   "metadata": {},
   "outputs": [],
   "source": [
    "f1 = lambda x, y : np.power(x, 2) + np.power(y, 2)\n",
    "f2 = lambda x, y : x + y\n",
    "\n",
    "x0_f1 = 0\n",
    "y0_f1 = 0\n",
    "\n",
    "x0_f2 = 0\n",
    "y0_f2 = 1"
   ]
  },
  {
   "cell_type": "markdown",
   "metadata": {},
   "source": [
    "## a)\n",
    "Calculate $y(0.5)$ for the problem A and $y(0.2)$ for the problem B using the Euler method. Consider $ h = 0.1 $ and $ h = 0.05 $"
   ]
  },
  {
   "cell_type": "markdown",
   "metadata": {},
   "source": [
    "Problem A"
   ]
  },
  {
   "cell_type": "code",
   "execution_count": 21,
   "metadata": {},
   "outputs": [],
   "source": [
    "target_x = 0.5"
   ]
  },
  {
   "cell_type": "code",
   "execution_count": 22,
   "metadata": {},
   "outputs": [
    {
     "data": {
      "text/plain": [
       "0.030022207380957063"
      ]
     },
     "execution_count": 22,
     "metadata": {},
     "output_type": "execute_result"
    }
   ],
   "source": [
    "h = 0.1\n",
    "iterations = int((target_x - x0_f1) / h)\n",
    "euler_method(f1, x0_f1, y0_f1, h, iterations)"
   ]
  },
  {
   "cell_type": "code",
   "execution_count": 23,
   "metadata": {},
   "outputs": [
    {
     "data": {
      "text/plain": [
       "0.035682619628341176"
      ]
     },
     "execution_count": 23,
     "metadata": {},
     "output_type": "execute_result"
    }
   ],
   "source": [
    "h = 0.05\n",
    "iterations = int((target_x - x0_f1) / h)\n",
    "euler_method(f1, x0_f1, y0_f1, h, iterations)"
   ]
  },
  {
   "cell_type": "markdown",
   "metadata": {},
   "source": [
    "Problem B"
   ]
  },
  {
   "cell_type": "code",
   "execution_count": 24,
   "metadata": {},
   "outputs": [],
   "source": [
    "target_x = 0.2"
   ]
  },
  {
   "cell_type": "code",
   "execution_count": 25,
   "metadata": {},
   "outputs": [
    {
     "data": {
      "text/plain": [
       "1.2200000000000002"
      ]
     },
     "execution_count": 25,
     "metadata": {},
     "output_type": "execute_result"
    }
   ],
   "source": [
    "h = 0.1\n",
    "iterations = int((target_x - x0_f2) / h)\n",
    "euler_method(f2, x0_f2, y0_f2, h, iterations)"
   ]
  },
  {
   "cell_type": "code",
   "execution_count": 26,
   "metadata": {},
   "outputs": [
    {
     "data": {
      "text/plain": [
       "1.2310124999999998"
      ]
     },
     "execution_count": 26,
     "metadata": {},
     "output_type": "execute_result"
    }
   ],
   "source": [
    "h = 0.05\n",
    "iterations = int((target_x - x0_f2) / h)\n",
    "euler_method(f2, x0_f2, y0_f2, h, iterations)"
   ]
  },
  {
   "cell_type": "markdown",
   "metadata": {},
   "source": [
    "## b)\n",
    "Compare the results obtained with $h = 0.1$ and $h=0.05$ on the previous exercise"
   ]
  },
  {
   "cell_type": "markdown",
   "metadata": {},
   "source": [
    "To compare the results, I will use a better solver (Runge Kutta with 100 points) to reach a greater precision and plot the results to see what step size had the least error"
   ]
  },
  {
   "cell_type": "code",
   "execution_count": 27,
   "metadata": {},
   "outputs": [],
   "source": [
    "# Modified euler method to output intermediate values\n",
    "def euler_method_modified(f, x0, y0, h, n):\n",
    "    x_values = [x0]\n",
    "    y_values = [y0]\n",
    "    for _ in range(n):\n",
    "        y_values.append(y_values[-1] + h * f(x_values[-1], y_values[-1]))\n",
    "        x_values.append(x_values[-1] + h)\n",
    "    return x_values, y_values\n",
    "\n",
    "# Modified Runge Kunta 4th order method to output intermediate values\n",
    "def runge_kutta_4th_order_modified( f, x0, y0, h, n):\n",
    "    x_values = [x0]\n",
    "    y_values = [y0]\n",
    "    for _ in range(n):\n",
    "        k1 = h * f(x_values[-1], y_values[-1])\n",
    "        k2 = h * f(x_values[-1] + h/2, y_values[-1] + (1/2) * k1)\n",
    "        k3 = h * f(x_values[-1] + h/2, y_values[-1] + (1/2) * k2)\n",
    "        k4 = h * f(x_values[-1] + h, y_values[-1] + k3)\n",
    "        y_values.append(y_values[-1] + (1/6) * (k1 + 2*k2 + 2*k3 + k4))\n",
    "        x_values.append(x_values[-1] + h)\n",
    "    return x_values, y_values"
   ]
  },
  {
   "cell_type": "markdown",
   "metadata": {},
   "source": [
    "Problem A\n",
    "\n",
    "$ y(0.5) $"
   ]
  },
  {
   "cell_type": "code",
   "execution_count": 28,
   "metadata": {},
   "outputs": [
    {
     "data": {
      "image/png": "[encoded data removed]",
      "text/plain": [
       "<Figure size 640x480 with 1 Axes>"
      ]
     },
     "metadata": {},
     "output_type": "display_data"
    }
   ],
   "source": [
    "def f(x, y):\n",
    "    return x**2 + y**2\n",
    "\n",
    "t_end = 0.5\n",
    "\n",
    "# Solve the ODE using Euler's method for both h values\n",
    "h1 = 0.1\n",
    "x_values_h1, y_values_h1 = euler_method_modified(f, x0_f1, y0_f1, h1, int(t_end / h1))\n",
    "\n",
    "h2 = 0.05\n",
    "x_values_h2, y_values_h2 = euler_method_modified(f, x0_f1, y0_f1, h2, int(t_end / h2))\n",
    "\n",
    "# Solve the ODE using a more accurate numerical solver\n",
    "it = 100\n",
    "h = t_end / it\n",
    "runge_x, runge_y = runge_kutta_4th_order_modified(f, x0_f1, y0_f1, h, it)\n",
    "\n",
    "# Plotting\n",
    "plt.plot(x_values_h1, y_values_h1, 'b.-', label='Euler h=0.1')\n",
    "plt.plot(x_values_h2, y_values_h2, 'r.--', label='Euler h=0.05')\n",
    "plt.plot(runge_x, runge_y, 'g-', label=f'Runge-Kutta 4th order h = {h}')\n",
    "\n",
    "plt.xlabel('x')\n",
    "plt.ylabel('y')\n",
    "plt.legend()\n",
    "plt.title('Comparison of Euler method solutions with the reference solution \\n y\\' = x^2 + y^2')\n",
    "plt.show()"
   ]
  },
  {
   "cell_type": "markdown",
   "metadata": {},
   "source": [
    "Problem B\n",
    "\n",
    "$ y(0.2)$"
   ]
  },
  {
   "cell_type": "code",
   "execution_count": 29,
   "metadata": {},
   "outputs": [
    {
     "data": {
      "image/png": "[encoded data removed]",
      "text/plain": [
       "<Figure size 640x480 with 1 Axes>"
      ]
     },
     "metadata": {},
     "output_type": "display_data"
    }
   ],
   "source": [
    "def f(x, y):\n",
    "    return x + y\n",
    "\n",
    "t_end = 0.2\n",
    "\n",
    "# Solve the ODE using Euler's method for both h values\n",
    "h1 = 0.1\n",
    "x_values_h1, y_values_h1 = euler_method_modified(f, x0_f2, y0_f2, h1, int(t_end / h1))\n",
    "\n",
    "h2 = 0.05\n",
    "x_values_h2, y_values_h2 = euler_method_modified(f, x0_f2, y0_f2, h2, int(t_end / h2))\n",
    "\n",
    "# Solve the ODE using a more accurate numerical solver\n",
    "it = 100\n",
    "h = t_end / it\n",
    "runge_x, runge_y = runge_kutta_4th_order_modified(f, x0_f2, y0_f2, h, it)\n",
    "\n",
    "# Plotting\n",
    "plt.plot(x_values_h1, y_values_h1, 'b.-', label='Euler h=0.1')\n",
    "plt.plot(x_values_h2, y_values_h2, 'r.--', label='Euler h=0.05')\n",
    "plt.plot(runge_x, runge_y, 'g-', label=f'Runge-Kutta 4th order h = {h}')\n",
    "\n",
    "plt.xlabel('x')\n",
    "plt.ylabel('y')\n",
    "plt.legend()\n",
    "plt.title('Comparison of Euler method solutions with the reference solution \\n y\\' = x + y')\n",
    "plt.show()"
   ]
  },
  {
   "cell_type": "markdown",
   "metadata": {},
   "source": [
    "In both cases the lower the step size (h), more precise the result, this is expected since the Euler method has an error that is proportional to the step size. In order to achieve this greater precision, more iterations are necessary what makes the lower step size more computationally expensive to calculate."
   ]
  }
 ],
 "metadata": {
  "kernelspec": {
   "display_name": "Python 3",
   "language": "python",
   "name": "python3"
  },
  "language_info": {
   "codemirror_mode": {
    "name": "ipython",
    "version": 3
   },
   "file_extension": ".py",
   "mimetype": "text/x-python",
   "name": "python",
   "nbconvert_exporter": "python",
   "pygments_lexer": "ipython3",
   "version": "3.12.4"
  }
 },
 "nbformat": 4,
 "nbformat_minor": 2
}
