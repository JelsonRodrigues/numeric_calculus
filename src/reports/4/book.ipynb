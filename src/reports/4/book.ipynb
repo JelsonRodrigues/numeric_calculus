{
 "cells": [
  {
   "cell_type": "code",
   "execution_count": 1,
   "metadata": {},
   "outputs": [],
   "source": [
    "import sympy as sp\n",
    "import numpy as np\n",
    "import matplotlib.pyplot as plt\n",
    "import math"
   ]
  },
  {
   "cell_type": "markdown",
   "metadata": {},
   "source": [
    "# Methods"
   ]
  },
  {
   "cell_type": "markdown",
   "metadata": {},
   "source": [
    "# Trapezoidal method"
   ]
  },
  {
   "cell_type": "code",
   "execution_count": 2,
   "metadata": {},
   "outputs": [],
   "source": [
    "def trapezoidal_method(f : sp.Expr, a, b, n):\n",
    "    if n < 2:\n",
    "        raise ValueError(\"n must be greater than 1\")\n",
    "\n",
    "    # Spacing between points\n",
    "    h = (b - a) / n\n",
    "    # Set of points linearly spaced between a and b\n",
    "    x = np.linspace(a, b, n+1)\n",
    "    # Compute the value of the function at each point in x\n",
    "    y = np.array(list(map(lambda var: f.subs('x', var), x)))\n",
    "\n",
    "    # This will create the expansion for the sum\n",
    "    weights = np.array([1.0, 1.0])\n",
    "    summation = sum(\n",
    "        map(lambda sub_interval: np.dot(sub_interval, weights), \n",
    "            map(lambda index: y[index:index+2], range(0, n, 1))\n",
    "          )\n",
    "        )\n",
    "\n",
    "    return h * (1 / 2) * summation\n",
    "\n",
    "def trapezoidal_method_error(f : sp.Expr, a, b, n):\n",
    "    # Compute the second derivative of the function\n",
    "    f_2 = sp.diff(f, 'x', 2)\n",
    "    h = (b - a) / n\n",
    "    random_value_on_interval = np.random.uniform(a, b)\n",
    "    return -h**2 / 12 * f_2.subs('x', random_value_on_interval)"
   ]
  },
  {
   "cell_type": "markdown",
   "metadata": {},
   "source": [
    "## Tests for trapezoidal method"
   ]
  },
  {
   "cell_type": "code",
   "execution_count": 10,
   "metadata": {},
   "outputs": [
    {
     "name": "stdout",
     "output_type": "stream",
     "text": [
      "Integral of exp(x) from 0 to 1 using 10 points: 1.71971349138931\n"
     ]
    }
   ],
   "source": [
    "a = 0\n",
    "b = 1\n",
    "n = 10\n",
    "x = sp.symbols(\"x\")\n",
    "f = sp.exp(x)\n",
    "integral = trapezoidal_method(f, a, b, n)\n",
    "print(f\"Integral of exp(x) from {a} to {b} using {n} points: {integral}\")"
   ]
  },
  {
   "cell_type": "code",
   "execution_count": 4,
   "metadata": {},
   "outputs": [
    {
     "name": "stdout",
     "output_type": "stream",
     "text": [
      "Number of points needed to get an error less than 10e-3: 4, 111.915689764471\n"
     ]
    }
   ],
   "source": [
    "error_expected = 10e-3\n",
    "n=0\n",
    "while True:\n",
    "    n += 1\n",
    "    error = trapezoidal_method_error(f, a, b, n)\n",
    "    if abs(error) < error_expected:\n",
    "        break\n",
    "print(f\"Number of points needed to get an error less than 10e-3: {n}, {1/(abs(error))}\")"
   ]
  },
  {
   "cell_type": "markdown",
   "metadata": {},
   "source": [
    "# 1/3 Simpson Method"
   ]
  },
  {
   "cell_type": "code",
   "execution_count": 14,
   "metadata": {},
   "outputs": [],
   "source": [
    "def simpson_one_third_method(f: sp.Expr, a, b, n) -> float:\n",
    "    if n % 2 != 0:\n",
    "        raise ValueError(\"The number of points a multiple of 2\")\n",
    "\n",
    "    # Spacing between points\n",
    "    h = (b - a) / n\n",
    "    # Set of points linearly spaced between a and b\n",
    "    x = np.linspace(a, b, n+1)\n",
    "    # Compute the value of the function at each point in x\n",
    "    y = np.array(list(map(lambda var: f.subs('x', var), x)))\n",
    "\n",
    "    # Compute the integral using the Simpson's three eight rule\n",
    "    weights = np.array([1.0, 4.0, 1.0])\n",
    "    summation = sum(\n",
    "        map(lambda sub_interval: np.dot(sub_interval, weights), \n",
    "            map(lambda index: y[index:index+3], range(0, n, 2))\n",
    "          )\n",
    "        )\n",
    "\n",
    "    return h * (1 / 3) * summation"
   ]
  },
  {
   "cell_type": "markdown",
   "metadata": {},
   "source": [
    "## Tests for 1/3 Simpson Method"
   ]
  },
  {
   "cell_type": "code",
   "execution_count": 15,
   "metadata": {},
   "outputs": [
    {
     "ename": "NameError",
     "evalue": "name 'simpson_one_third_method' is not defined",
     "output_type": "error",
     "traceback": [
      "\u001b[1;31m---------------------------------------------------------------------------\u001b[0m",
      "\u001b[1;31mNameError\u001b[0m                                 Traceback (most recent call last)",
      "Cell \u001b[1;32mIn[15], line 6\u001b[0m\n\u001b[0;32m      4\u001b[0m x \u001b[38;5;241m=\u001b[39m sp\u001b[38;5;241m.\u001b[39msymbols(\u001b[38;5;124m\"\u001b[39m\u001b[38;5;124mx\u001b[39m\u001b[38;5;124m\"\u001b[39m)\n\u001b[0;32m      5\u001b[0m f \u001b[38;5;241m=\u001b[39m sp\u001b[38;5;241m.\u001b[39mexp(x)\n\u001b[1;32m----> 6\u001b[0m integral \u001b[38;5;241m=\u001b[39m \u001b[43msimpson_one_third_method\u001b[49m(f, a, b, n)\n\u001b[0;32m      7\u001b[0m \u001b[38;5;28mprint\u001b[39m(\u001b[38;5;124mf\u001b[39m\u001b[38;5;124m\"\u001b[39m\u001b[38;5;124mIntegral of exp(x) from \u001b[39m\u001b[38;5;132;01m{\u001b[39;00ma\u001b[38;5;132;01m}\u001b[39;00m\u001b[38;5;124m to \u001b[39m\u001b[38;5;132;01m{\u001b[39;00mb\u001b[38;5;132;01m}\u001b[39;00m\u001b[38;5;124m using \u001b[39m\u001b[38;5;132;01m{\u001b[39;00mn\u001b[38;5;132;01m}\u001b[39;00m\u001b[38;5;124m points: \u001b[39m\u001b[38;5;132;01m{\u001b[39;00mintegral\u001b[38;5;132;01m}\u001b[39;00m\u001b[38;5;124m\"\u001b[39m)\n",
      "\u001b[1;31mNameError\u001b[0m: name 'simpson_one_third_method' is not defined"
     ]
    }
   ],
   "source": [
    "a = 0\n",
    "b = 1\n",
    "n = 4\n",
    "x = sp.symbols(\"x\")\n",
    "f = sp.exp(x)\n",
    "integral = simpson_one_third_method(f, a, b, n)\n",
    "print(f\"Integral of exp(x) from {a} to {b} using {n} points: {integral}\")"
   ]
  },
  {
   "cell_type": "markdown",
   "metadata": {},
   "source": [
    "#  3/8 Simpson method"
   ]
  },
  {
   "cell_type": "code",
   "execution_count": null,
   "metadata": {},
   "outputs": [],
   "source": [
    "def simpson_three_eights_method(f:sp.Expr, a, b, n) -> float:\n",
    "    if n % 3 != 0:\n",
    "        raise ValueError(\"The number of points must be a multiple of 3\")\n",
    "    \n",
    "    # Spacing between points\n",
    "    h = (b - a) / n\n",
    "    # Set of points linearly spaced between a and b\n",
    "    x = np.linspace(a, b, n+1)\n",
    "    # Compute the value of the function at each point in x\n",
    "    y = np.array(list(map(lambda var: f.subs('x', var), x)))\n",
    "\n",
    "    # Compute the integral using the Simpson's three eight rule\n",
    "    weights = np.array([1.0, 3.0, 3.0, 1.0])\n",
    "    summation = sum(\n",
    "        map(lambda sub_interval: np.dot(sub_interval, weights),\n",
    "            map(lambda index: y[index:index+4], range(0, n, 3))\n",
    "          )\n",
    "        )\n",
    "\n",
    "    return h * (3 / 8) * summation\n",
    "\n",
    "def simpson_three_eights_method_error(f : sp.Expr, a, b, n):\n",
    "    # Compute the fourth derivative of the function\n",
    "    f_4 = sp.diff(f, 'x', 4)\n",
    "    h = (b - a) / n\n",
    "    random_value_on_interval = np.random.uniform(a, b)\n",
    "    return -h**4 / 80 * f_4.subs('x', random_value_on_interval)"
   ]
  },
  {
   "cell_type": "markdown",
   "metadata": {},
   "source": [
    "## Tests for 3/8 Simpson method"
   ]
  },
  {
   "cell_type": "code",
   "execution_count": null,
   "metadata": {},
   "outputs": [
    {
     "name": "stdout",
     "output_type": "stream",
     "text": [
      "Integral of exp(x) from 0 to 1 using 9 points: 1.71828509252926\n"
     ]
    }
   ],
   "source": [
    "a = 0\n",
    "b = 1\n",
    "n = 9\n",
    "x = sp.symbols(\"x\")\n",
    "f = sp.exp(x)\n",
    "integral = simpson_three_eights_method(f, a, b, n)\n",
    "print(f\"Integral of exp(x) from {a} to {b} using {n} points: {integral}\")"
   ]
  },
  {
   "cell_type": "markdown",
   "metadata": {},
   "source": [
    "# Euler method for differentiation"
   ]
  },
  {
   "cell_type": "code",
   "execution_count": null,
   "metadata": {},
   "outputs": [],
   "source": [
    "def euler_method(f, x0, y0, h, n):\n",
    "    x = x0\n",
    "    y = y0\n",
    "    for _ in range(n):\n",
    "        y = y + h * f(x, y)\n",
    "        x = x + h\n",
    "    return y"
   ]
  },
  {
   "cell_type": "markdown",
   "metadata": {},
   "source": [
    "## Tests for Euler method"
   ]
  },
  {
   "cell_type": "code",
   "execution_count": null,
   "metadata": {},
   "outputs": [
    {
     "data": {
      "text/plain": [
       "0.6281565095552948"
      ]
     },
     "execution_count": 63,
     "metadata": {},
     "output_type": "execute_result"
    }
   ],
   "source": [
    "f = lambda x, y : -x * y\n",
    "h = 0.1\n",
    "n = 10\n",
    "x0 = 0\n",
    "y0 = 1\n",
    "\n",
    "euler_method(f, x0, y0, h, n)"
   ]
  },
  {
   "cell_type": "markdown",
   "metadata": {},
   "source": [
    "# Runge-Kutta 2nd order"
   ]
  },
  {
   "cell_type": "code",
   "execution_count": null,
   "metadata": {},
   "outputs": [],
   "source": [
    "def runge_kutta_2nd_order(f, x0, y0, h, n):\n",
    "    x = x0\n",
    "    y = y0\n",
    "    for _ in range(n):\n",
    "        k1 = h * f(x, y)\n",
    "        k2 = h * f(x + h, y + k1)\n",
    "        y = y + (1/2) * (k1 + k2)\n",
    "        x = x + h\n",
    "    return y"
   ]
  },
  {
   "cell_type": "markdown",
   "metadata": {},
   "source": [
    "## Tests for Runge-Kutta 2nd order method"
   ]
  },
  {
   "cell_type": "code",
   "execution_count": null,
   "metadata": {},
   "outputs": [
    {
     "data": {
      "text/plain": [
       "0.6670895521276202"
      ]
     },
     "execution_count": 70,
     "metadata": {},
     "output_type": "execute_result"
    }
   ],
   "source": [
    "f = lambda x, y : -x * y\n",
    "h = 0.1\n",
    "n = 9\n",
    "x0 = 0\n",
    "y0 = 1\n",
    "\n",
    "runge_kutta_2nd_order(f, x0, y0, h, n)"
   ]
  },
  {
   "cell_type": "markdown",
   "metadata": {},
   "source": [
    "# Runge-Kutta 4th order"
   ]
  },
  {
   "cell_type": "code",
   "execution_count": null,
   "metadata": {},
   "outputs": [],
   "source": [
    "def runge_kutta_4th_order(f, x0, y0, h, n):\n",
    "    x = x0\n",
    "    y = y0\n",
    "    for _ in range(n):\n",
    "        k1 = h * f(x, y)\n",
    "        k2 = h * f(x + h/2, y + (1/2) * k1)\n",
    "        k3 = h * f(x + h/2, y + (1/2) * k2)\n",
    "        k4 = h * f(x + h, y + k3)\n",
    "        y = y + (1/6) * (k1 + 2*k2 + 2*k3 + k4)\n",
    "        x = x + h\n",
    "    return y"
   ]
  },
  {
   "cell_type": "markdown",
   "metadata": {},
   "source": [
    "## Tests for Runge-Kutta 4th order"
   ]
  },
  {
   "cell_type": "code",
   "execution_count": null,
   "metadata": {},
   "outputs": [
    {
     "data": {
      "text/plain": [
       "0.6669768445306272"
      ]
     },
     "execution_count": 72,
     "metadata": {},
     "output_type": "execute_result"
    }
   ],
   "source": [
    "f = lambda x, y : -x * y\n",
    "h = 0.1\n",
    "n = 9\n",
    "x0 = 0\n",
    "y0 = 1\n",
    "\n",
    "runge_kutta_4th_order(f, x0, y0, h, n)"
   ]
  },
  {
   "cell_type": "markdown",
   "metadata": {},
   "source": [
    "# Exercises"
   ]
  }
 ],
 "metadata": {
  "kernelspec": {
   "display_name": "Python 3",
   "language": "python",
   "name": "python3"
  },
  "language_info": {
   "codemirror_mode": {
    "name": "ipython",
    "version": 3
   },
   "file_extension": ".py",
   "mimetype": "text/x-python",
   "name": "python",
   "nbconvert_exporter": "python",
   "pygments_lexer": "ipython3",
   "version": "3.12.4"
  }
 },
 "nbformat": 4,
 "nbformat_minor": 2
}
