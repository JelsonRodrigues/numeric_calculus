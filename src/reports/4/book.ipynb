{
 "cells": [
  {
   "cell_type": "code",
   "execution_count": 4,
   "metadata": {},
   "outputs": [],
   "source": [
    "import sympy as sp\n",
    "import numpy as np\n",
    "import matplotlib.pyplot as plt\n",
    "import math"
   ]
  },
  {
   "cell_type": "markdown",
   "metadata": {},
   "source": [
    "# Methods"
   ]
  },
  {
   "cell_type": "markdown",
   "metadata": {},
   "source": [
    "# Trapezoidal method"
   ]
  },
  {
   "cell_type": "code",
   "execution_count": 23,
   "metadata": {},
   "outputs": [],
   "source": [
    "def trapezoidal_method(f : sp.Expr, a, b, n):\n",
    "    # Spacing between points\n",
    "    h = (b - a) / n\n",
    "    # Set of points linearly spaced between a and b\n",
    "    x = np.linspace(a, b, n+1)\n",
    "    # Compute the value of the function at each point in x\n",
    "    y = np.array(list(map(lambda var: f.subs('x', var), x)))\n",
    "    # Compute the integral using the trapezoidal rule\n",
    "    return h / 2 * (y[0] + 2 * np.sum(y[1:n]) + y[n])\n",
    "\n",
    "def trapezoidal_method_error(f : sp.Expr, a, b, n):\n",
    "    # Compute the second derivative of the function\n",
    "    f_2 = sp.diff(f, 'x', 2)\n",
    "    h = (b - a) / n\n",
    "    random_value_on_interval = np.random.uniform(a, b)\n",
    "    return -h**2 / 12 * f_2.subs('x', random_value_on_interval)"
   ]
  },
  {
   "cell_type": "markdown",
   "metadata": {},
   "source": [
    "## Tests for trapezoidal method"
   ]
  },
  {
   "cell_type": "code",
   "execution_count": 28,
   "metadata": {},
   "outputs": [
    {
     "name": "stdout",
     "output_type": "stream",
     "text": [
      "Integral of exp(x) from 0 to 1 using 10 points: 1.71971349138931\n"
     ]
    }
   ],
   "source": [
    "a = 0\n",
    "b = 1\n",
    "n = 10\n",
    "x = sp.symbols(\"x\")\n",
    "f = sp.exp(x)\n",
    "integral = trapezoidal_method(f, a, b, n)\n",
    "print(f\"Integral of exp(x) from {a} to {b} using {n} points: {integral}\")"
   ]
  },
  {
   "cell_type": "code",
   "execution_count": 35,
   "metadata": {},
   "outputs": [
    {
     "name": "stdout",
     "output_type": "stream",
     "text": [
      "Number of points needed to get an error less than 10e-3: 5, 283.549572575022\n"
     ]
    }
   ],
   "source": [
    "error_expected = 10e-3\n",
    "n=0\n",
    "while True:\n",
    "    n += 1\n",
    "    error = trapezoidal_method_error(f, a, b, n)\n",
    "    if abs(error) < error_expected:\n",
    "        break\n",
    "print(f\"Number of points needed to get an error less than 10e-3: {n}, {1/(abs(error))}\")"
   ]
  }
 ],
 "metadata": {
  "kernelspec": {
   "display_name": "Python 3",
   "language": "python",
   "name": "python3"
  },
  "language_info": {
   "codemirror_mode": {
    "name": "ipython",
    "version": 3
   },
   "file_extension": ".py",
   "mimetype": "text/x-python",
   "name": "python",
   "nbconvert_exporter": "python",
   "pygments_lexer": "ipython3",
   "version": "3.12.4"
  }
 },
 "nbformat": 4,
 "nbformat_minor": 2
}
