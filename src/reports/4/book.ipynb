{
 "cells": [
  {
   "cell_type": "code",
   "execution_count": 22,
   "metadata": {},
   "outputs": [],
   "source": [
    "import sympy as sp\n",
    "import numpy as np\n",
    "import matplotlib.pyplot as plt\n",
    "import math"
   ]
  },
  {
   "cell_type": "markdown",
   "metadata": {},
   "source": [
    "# Methods"
   ]
  },
  {
   "cell_type": "markdown",
   "metadata": {},
   "source": [
    "# Trapezoidal method"
   ]
  },
  {
   "cell_type": "code",
   "execution_count": 23,
   "metadata": {},
   "outputs": [],
   "source": [
    "def trapezoidal_method(f : sp.Expr, a, b, n):\n",
    "    # Spacing between points\n",
    "    h = (b - a) / n\n",
    "    # Set of points linearly spaced between a and b\n",
    "    x = np.linspace(a, b, n+1)\n",
    "    # Compute the value of the function at each point in x\n",
    "    y = np.array(list(map(lambda var: f.subs('x', var), x)))\n",
    "    # Compute the integral using the trapezoidal rule\n",
    "    return h / 2 * (y[0] + 2 * np.sum(y[1:n]) + y[n])\n",
    "\n",
    "def trapezoidal_method_error(f : sp.Expr, a, b, n):\n",
    "    # Compute the second derivative of the function\n",
    "    f_2 = sp.diff(f, 'x', 2)\n",
    "    h = (b - a) / n\n",
    "    random_value_on_interval = np.random.uniform(a, b)\n",
    "    return -h**2 / 12 * f_2.subs('x', random_value_on_interval)"
   ]
  },
  {
   "cell_type": "markdown",
   "metadata": {},
   "source": [
    "## Tests for trapezoidal method"
   ]
  },
  {
   "cell_type": "code",
   "execution_count": 24,
   "metadata": {},
   "outputs": [
    {
     "name": "stdout",
     "output_type": "stream",
     "text": [
      "Integral of exp(x) from 0 to 1 using 10 points: 1.71971349138931\n"
     ]
    }
   ],
   "source": [
    "a = 0\n",
    "b = 1\n",
    "n = 10\n",
    "x = sp.symbols(\"x\")\n",
    "f = sp.exp(x)\n",
    "integral = trapezoidal_method(f, a, b, n)\n",
    "print(f\"Integral of exp(x) from {a} to {b} using {n} points: {integral}\")"
   ]
  },
  {
   "cell_type": "code",
   "execution_count": 25,
   "metadata": {},
   "outputs": [
    {
     "name": "stdout",
     "output_type": "stream",
     "text": [
      "Number of points needed to get an error less than 10e-3: 4, 171.336630884473\n"
     ]
    }
   ],
   "source": [
    "error_expected = 10e-3\n",
    "n=0\n",
    "while True:\n",
    "    n += 1\n",
    "    error = trapezoidal_method_error(f, a, b, n)\n",
    "    if abs(error) < error_expected:\n",
    "        break\n",
    "print(f\"Number of points needed to get an error less than 10e-3: {n}, {1/(abs(error))}\")"
   ]
  },
  {
   "cell_type": "markdown",
   "metadata": {},
   "source": [
    "# 1/3 Simpson Method"
   ]
  },
  {
   "cell_type": "code",
   "execution_count": 32,
   "metadata": {},
   "outputs": [],
   "source": [
    "def simpson_one_third_method(f: sp.Expr, a, b, n) -> float:\n",
    "    # Spacing between points\n",
    "    h = (b - a) / n\n",
    "    # Set of points linearly spaced between a and b\n",
    "    x = np.linspace(a, b, n+1)\n",
    "    # Compute the value of the function at each point in x\n",
    "    y = np.array(list(map(lambda var: f.subs('x', var), x)))\n",
    "\n",
    "    # Compute the integral using the Simpson's one third rule\n",
    "    y_less_extremities = y[1:-1]\n",
    "    y_even_positions = np.array(list(map(lambda val: val[1], filter(lambda val: val[0] % 2 == 0, enumerate(y_less_extremities)))))\n",
    "    y_odd_positions = np.array(list(map(lambda val: val[1], filter(lambda val: val[0] % 2 != 0, enumerate(y_less_extremities)))))\n",
    "    return h / 3 * (y[0] + 4 * np.sum(y_even_positions) + 2 * np.sum(y_odd_positions) + y[-1])"
   ]
  },
  {
   "cell_type": "markdown",
   "metadata": {},
   "source": [
    "## Tests for 1/3 Simpson Method"
   ]
  },
  {
   "cell_type": "code",
   "execution_count": 33,
   "metadata": {},
   "outputs": [
    {
     "name": "stdout",
     "output_type": "stream",
     "text": [
      "Integral of exp(x) from 0 to 1 using 10 points: 1.71828278192482\n"
     ]
    }
   ],
   "source": [
    "a = 0\n",
    "b = 1\n",
    "n = 10\n",
    "x = sp.symbols(\"x\")\n",
    "f = sp.exp(x)\n",
    "integral = simpson_one_third_method(f, a, b, n)\n",
    "print(f\"Integral of exp(x) from {a} to {b} using {n} points: {integral}\")"
   ]
  },
  {
   "cell_type": "markdown",
   "metadata": {},
   "source": [
    "#  3/8 Simpson method"
   ]
  },
  {
   "cell_type": "code",
   "execution_count": 60,
   "metadata": {},
   "outputs": [],
   "source": [
    "def simpson_three_eights_method(f:sp.Expr, a, b, n) -> float:\n",
    "    # Spacing between points\n",
    "    h = (b - a) / n\n",
    "    # Set of points linearly spaced between a and b\n",
    "    x = np.linspace(a, b, n+1)\n",
    "    # Compute the value of the function at each point in x\n",
    "    y = np.array(list(map(lambda var: f.subs('x', var), x)))\n",
    "\n",
    "    # Compute the integral using the Simpson's three eight rule\n",
    "    weights = np.array([1.0, 3.0, 3.0, 1.0])\n",
    "    summation = sum(\n",
    "        map(lambda sub_interval: np.dot(sub_interval, weights), \n",
    "            map(lambda index: y[index:index+4], range(0, len(y), 4))\n",
    "          )\n",
    "        )\n",
    "\n",
    "    return h * (3 / 8) * summation"
   ]
  },
  {
   "cell_type": "markdown",
   "metadata": {},
   "source": [
    "## Tests for 3/8 Simpson method"
   ]
  },
  {
   "cell_type": "code",
   "execution_count": 61,
   "metadata": {},
   "outputs": [
    {
     "name": "stdout",
     "output_type": "stream",
     "text": [
      "Integral of exp(x) from 0 to 1 using 7 points: 1.43575215966960\n"
     ]
    }
   ],
   "source": [
    "a = 0\n",
    "b = 1\n",
    "n = 7\n",
    "x = sp.symbols(\"x\")\n",
    "f = sp.exp(x)\n",
    "integral = simpson_three_eights_method(f, a, b, n)\n",
    "print(f\"Integral of exp(x) from {a} to {b} using {n} points: {integral}\")"
   ]
  }
 ],
 "metadata": {
  "kernelspec": {
   "display_name": "Python 3",
   "language": "python",
   "name": "python3"
  },
  "language_info": {
   "codemirror_mode": {
    "name": "ipython",
    "version": 3
   },
   "file_extension": ".py",
   "mimetype": "text/x-python",
   "name": "python",
   "nbconvert_exporter": "python",
   "pygments_lexer": "ipython3",
   "version": "3.10.12"
  }
 },
 "nbformat": 4,
 "nbformat_minor": 2
}
